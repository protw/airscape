{
  "nbformat": 4,
  "nbformat_minor": 0,
  "metadata": {
    "colab": {
      "name": "Text Classification with ML-Project.ipynb",
      "provenance": [],
      "collapsed_sections": [],
      "toc_visible": true
    },
    "kernelspec": {
      "name": "python3",
      "display_name": "Python 3"
    },
    "language_info": {
      "name": "python"
    }
  },
  "cells": [
    {
      "cell_type": "code",
      "metadata": {
        "id": "PA5EB-iTU-OV"
      },
      "source": [
        "import pandas as pd\n",
        "df = pd.read_csv('https://raw.githubusercontent.com/olegdubetcky/Text-Classification-with-ML-Project/main/news.csv', encoding='utf8')"
      ],
      "execution_count": null,
      "outputs": []
    },
    {
      "cell_type": "code",
      "metadata": {
        "colab": {
          "base_uri": "https://localhost:8080/"
        },
        "id": "Iqw9Ip7Wa6mr",
        "outputId": "b907dbce-64c0-43a5-e9be-23f48f55c03f"
      },
      "source": [
        "df.category.unique()"
      ],
      "execution_count": null,
      "outputs": [
        {
          "output_type": "execute_result",
          "data": {
            "text/plain": [
              "array(['Коронавірус', 'Політика', 'Події', 'Суспільство', 'Культура',\n",
              "       'Світ', 'Економіка', 'Думки', 'Екологія', 'Наука', 'Спорт',\n",
              "       'Історія', 'Технології', 'Транспорт'], dtype=object)"
            ]
          },
          "metadata": {
            "tags": []
          },
          "execution_count": 2
        }
      ]
    },
    {
      "cell_type": "code",
      "metadata": {
        "id": "55gyTQw4VCo2"
      },
      "source": [
        "#перетворіть усі дані у нижній регістр, а потім збережіть їх у форматі списку\n",
        "corpus = df['title'].apply(lambda x : str(x).lower()).tolist()\n",
        "#встановити цільові змінні\n",
        "y = df['category']"
      ],
      "execution_count": null,
      "outputs": []
    },
    {
      "cell_type": "code",
      "metadata": {
        "id": "-08UTfUH6oSH"
      },
      "source": [
        ""
      ],
      "execution_count": null,
      "outputs": []
    },
    {
      "cell_type": "code",
      "metadata": {
        "id": "In9cJQS01n-W"
      },
      "source": [
        "import pickle\n",
        "from sklearn.feature_extraction.text import CountVectorizer\n",
        "\n",
        "count_vect = CountVectorizer()\n",
        "X_train_counts = count_vect.fit_transform(corpus)\n",
        "\n",
        "#зберегти ветори слів \n",
        "pickle.dump(count_vect.vocabulary_, open(\"feature.pkl\",\"wb\"))"
      ],
      "execution_count": null,
      "outputs": []
    },
    {
      "cell_type": "code",
      "metadata": {
        "id": "klOCr4-A28rC"
      },
      "source": [
        "from sklearn.feature_extraction.text import TfidfTransformer\n",
        "\n",
        "#перетворення векторів слів до TF IDF\n",
        "tfidf_transformer = TfidfTransformer()\n",
        "X = tfidf_transformer.fit_transform(X_train_counts)\n",
        "\n",
        "#зберегти TF-IDF\n",
        "pickle.dump(tfidf_transformer, open(\"tfidf.pkl\",\"wb\"))"
      ],
      "execution_count": null,
      "outputs": []
    },
    {
      "cell_type": "code",
      "metadata": {
        "id": "elygUuUXjfii"
      },
      "source": [
        "#розділити дані на зразки для навчання та тестування\n",
        "from sklearn.model_selection import train_test_split\n",
        "X_train, X_test, y_train, y_test = train_test_split(X, y, test_size=0.25, random_state=42)"
      ],
      "execution_count": null,
      "outputs": []
    },
    {
      "cell_type": "code",
      "metadata": {
        "id": "_CsPdsHckiSY"
      },
      "source": [
        "# Multinomial Naive Bayes\n",
        "from sklearn.naive_bayes import MultinomialNB\n",
        "clf = MultinomialNB().fit(X_train, y_train)\n",
        "\n",
        "#SAVE MODEL\n",
        "pickle.dump(clf, open(\"nb_model.pkl\", \"wb\"))"
      ],
      "execution_count": null,
      "outputs": []
    },
    {
      "cell_type": "code",
      "metadata": {
        "colab": {
          "base_uri": "https://localhost:8080/"
        },
        "id": "hcl2vaUkkpfV",
        "outputId": "70a7bdc0-087f-4cd1-910d-fa830ef2c523"
      },
      "source": [
        "from sklearn.naive_bayes import MultinomialNB\n",
        "from sklearn.neural_network import MLPClassifier\n",
        "from sklearn.svm import SVC, LinearSVC\n",
        "from sklearn.tree import DecisionTreeClassifier\n",
        "from sklearn.ensemble import RandomForestClassifier\n",
        "\n",
        "from sklearn import metrics\n",
        "\n",
        "\n",
        "#проста функція оцінки\n",
        "def evaluate(clf, X_train = X_train, X_test = X_test, y_train = y_train, y_test = y_test):\n",
        "    \n",
        "    import seaborn as sns\n",
        "    \n",
        "    print('Класифікатор : {}'.format(clf))\n",
        "    clf.fit(X_train, y_train)\n",
        "    # Predict Test Data \n",
        "    y_pred = clf.predict(X_test)\n",
        "\n",
        "    # Calculate accuracy, precision, recall, f1-score, and kappa score\n",
        "    acc = metrics.accuracy_score(y_test, y_pred)\n",
        "    prc = metrics.precision_score(y_test, y_pred, average='macro')\n",
        "    rec = metrics.recall_score(y_test, y_pred, average='macro')\n",
        "    f1 = metrics.f1_score(y_test, y_pred, average='macro')\n",
        "    kappa = metrics.cohen_kappa_score(y_test, y_pred)\n",
        "\n",
        "   \n",
        "    # Display confussion matrix\n",
        "    cm = metrics.confusion_matrix(y_test, y_pred)\n",
        "    \n",
        "    print('Метрики : \\n')\n",
        "   # Print result\n",
        "    print('Точність:', acc)\n",
        "    print('Влучність:', prc)\n",
        "    print('Повнота:', rec)\n",
        "    print('F1 міра:', f1)\n",
        "    print('Cohens Kappa міра:', kappa)\n",
        "    print('Матриця невідповідностей:\\n', cm)\n",
        "    \n",
        "    print('*'*100)\n",
        "    print('\\n\\n')\n",
        "    \n",
        "    return {'acc': acc, 'prc': prc, 'rec': rec, 'f1': f1, 'kappa': kappa, 'cm': cm}\n",
        "\n",
        "\n",
        "#ініціалізувати класифікатори\n",
        "mnb = MultinomialNB()\n",
        "mlp_neural = MLPClassifier(solver='lbfgs', alpha=1e-5, hidden_layer_sizes=(15,), random_state=1)\n",
        "svm = SVC(decision_function_shape='ovo') #one vs one strategy\n",
        "lin_svm = LinearSVC()\n",
        "dt = DecisionTreeClassifier()\n",
        "rf = RandomForestClassifier(n_estimators = 150)\n",
        "\n",
        "#викликати функцію оцінки, яку ми створили для класифікаторів\n",
        "evaluate(mnb)\n",
        "\n",
        "\n",
        "mlp_neural_eval = evaluate(mlp_neural)\n",
        "svm_eval = evaluate(svm)\n",
        "lin_svm_eval = evaluate(lin_svm)\n",
        "dt_eval = evaluate(dt)\n",
        "rf_eval = evaluate(rf)"
      ],
      "execution_count": null,
      "outputs": [
        {
          "output_type": "stream",
          "text": [
            "Класифікатор : MultinomialNB(alpha=1.0, class_prior=None, fit_prior=True)\n",
            "Метрики : \n",
            "\n",
            "Точність: 0.4550970873786408\n",
            "Влучність: 0.23602862197510582\n",
            "Повнота: 0.12687243324034464\n",
            "F1 міра: 0.1216363205854324\n",
            "Cohens Kappa міра: 0.18205172421416593\n",
            "Матриця невідповідностей:\n",
            " [[  0   0   0   0   7   0   0   0   0   0   0   0   0   0]\n",
            " [  0   0   0   0  29   0   0   0   1   0   0   0   0   0]\n",
            " [  0   0   0   0  16   0   0   0   1   0   0   0   0   0]\n",
            " [  0   0   0   0  25   0   0   0   1   1   0   0   0   0]\n",
            " [  0   0   0   0 301   0   0   0   1   0   0   0   0   0]\n",
            " [  0   0   0   0  56  11   0   1   0   0   0   0   0   0]\n",
            " [  0   0   0   0  18   0   0   0   1   0   0   0   0   0]\n",
            " [  0   0   0   0  68   0   0   8   8   0   0   0   0   0]\n",
            " [  0   0   0   0  62   0   0   0  49   0   0   0   0   0]\n",
            " [  0   0   0   0  52   0   0   4  12   6   0   0   0   0]\n",
            " [  0   0   0   0  23   0   0   0   0   0   0   0   0   0]\n",
            " [  0   0   0   0  47   0   0   1   2   1   0   0   0   0]\n",
            " [  0   0   0   0   4   0   0   0   0   1   0   0   0   0]\n",
            " [  0   0   0   0   6   0   0   0   0   0   0   0   0   0]]\n",
            "****************************************************************************************************\n",
            "\n",
            "\n",
            "\n",
            "Класифікатор : MLPClassifier(activation='relu', alpha=1e-05, batch_size='auto', beta_1=0.9,\n",
            "              beta_2=0.999, early_stopping=False, epsilon=1e-08,\n",
            "              hidden_layer_sizes=(15,), learning_rate='constant',\n",
            "              learning_rate_init=0.001, max_fun=15000, max_iter=200,\n",
            "              momentum=0.9, n_iter_no_change=10, nesterovs_momentum=True,\n",
            "              power_t=0.5, random_state=1, shuffle=True, solver='lbfgs',\n",
            "              tol=0.0001, validation_fraction=0.1, verbose=False,\n",
            "              warm_start=False)\n"
          ],
          "name": "stdout"
        },
        {
          "output_type": "stream",
          "text": [
            "/usr/local/lib/python3.7/dist-packages/sklearn/metrics/_classification.py:1272: UndefinedMetricWarning: Precision is ill-defined and being set to 0.0 in labels with no predicted samples. Use `zero_division` parameter to control this behavior.\n",
            "  _warn_prf(average, modifier, msg_start, len(result))\n",
            "/usr/local/lib/python3.7/dist-packages/sklearn/metrics/_classification.py:1272: UndefinedMetricWarning: Precision is ill-defined and being set to 0.0 in labels with no predicted samples. Use `zero_division` parameter to control this behavior.\n",
            "  _warn_prf(average, modifier, msg_start, len(result))\n"
          ],
          "name": "stderr"
        },
        {
          "output_type": "stream",
          "text": [
            "Метрики : \n",
            "\n",
            "Точність: 0.558252427184466\n",
            "Влучність: 0.3835465629695386\n",
            "Повнота: 0.36824239569166534\n",
            "F1 міра: 0.340492033263179\n",
            "Cohens Kappa міра: 0.47238396127175564\n",
            "Матриця невідповідностей:\n",
            " [[  1   0   4   0   0   0   0   0   0   0   0   1   0   1]\n",
            " [  0  21   3   3   1   0   0   1   1   0   0   0   0   0]\n",
            " [  0   2   5   4   0   0   0   1   2   0   0   2   0   1]\n",
            " [  0   1   1  17   2   1   0   1   2   1   1   0   0   0]\n",
            " [  2   1   6  21 263   1   0   0   0   4   0   3   0   1]\n",
            " [  9   6  11   1   1  18   0   4   0   0  10   6   0   2]\n",
            " [  0   0   7   1   0   0   5   3   0   1   1   0   0   1]\n",
            " [  1   2  11  14   1   1   1  24  10   3   9   5   0   2]\n",
            " [  0   2   2  20   2   2   0  16  49  12   2   3   0   1]\n",
            " [  2   2   7   5   2   1   2  10   8  31   2   1   0   1]\n",
            " [  0   0   3   1   0   0   0   4   0   0  14   1   0   0]\n",
            " [  1   1  10  14   0   1   0   4   3   2   3  12   0   0]\n",
            " [  0   0   0   0   0   0   0   0   0   3   1   0   0   1]\n",
            " [  1   0   1   1   0   0   0   2   0   1   0   0   0   0]]\n",
            "****************************************************************************************************\n",
            "\n",
            "\n",
            "\n",
            "Класифікатор : SVC(C=1.0, break_ties=False, cache_size=200, class_weight=None, coef0=0.0,\n",
            "    decision_function_shape='ovo', degree=3, gamma='scale', kernel='rbf',\n",
            "    max_iter=-1, probability=False, random_state=None, shrinking=True,\n",
            "    tol=0.001, verbose=False)\n"
          ],
          "name": "stdout"
        },
        {
          "output_type": "stream",
          "text": [
            "/usr/local/lib/python3.7/dist-packages/sklearn/metrics/_classification.py:1272: UndefinedMetricWarning: Precision is ill-defined and being set to 0.0 in labels with no predicted samples. Use `zero_division` parameter to control this behavior.\n",
            "  _warn_prf(average, modifier, msg_start, len(result))\n"
          ],
          "name": "stderr"
        },
        {
          "output_type": "stream",
          "text": [
            "Метрики : \n",
            "\n",
            "Точність: 0.5509708737864077\n",
            "Влучність: 0.4229320460753656\n",
            "Повнота: 0.19748293428806063\n",
            "F1 міра: 0.19512781540781954\n",
            "Cohens Kappa міра: 0.3769936387470395\n",
            "Матриця невідповідностей:\n",
            " [[  0   0   0   0   7   0   0   0   0   0   0   0   0   0]\n",
            " [  0   0   0   0  23   0   0   1   6   0   0   0   0   0]\n",
            " [  0   0   0   0  10   0   0   2   5   0   0   0   0   0]\n",
            " [  0   0   0   1  18   1   0   0   6   1   0   0   0   0]\n",
            " [  0   0   0   0 298   0   0   0   2   2   0   0   0   0]\n",
            " [  0   0   0   0  36  19   0   5   8   0   0   0   0   0]\n",
            " [  0   0   0   0  13   0   1   1   2   2   0   0   0   0]\n",
            " [  0   0   0   0  33   1   0  24  23   3   0   0   0   0]\n",
            " [  0   0   0   0  18   1   0   3  85   4   0   0   0   0]\n",
            " [  0   0   0   0  24   0   0   9  16  25   0   0   0   0]\n",
            " [  0   0   0   0  14   0   0   4   5   0   0   0   0   0]\n",
            " [  0   0   0   0  36   2   0   5   6   1   0   1   0   0]\n",
            " [  0   0   0   0   2   0   0   0   1   2   0   0   0   0]\n",
            " [  0   0   0   0   4   0   0   1   1   0   0   0   0   0]]\n",
            "****************************************************************************************************\n",
            "\n",
            "\n",
            "\n",
            "Класифікатор : LinearSVC(C=1.0, class_weight=None, dual=True, fit_intercept=True,\n",
            "          intercept_scaling=1, loss='squared_hinge', max_iter=1000,\n",
            "          multi_class='ovr', penalty='l2', random_state=None, tol=0.0001,\n",
            "          verbose=0)\n",
            "Метрики : \n",
            "\n",
            "Точність: 0.6468446601941747\n",
            "Влучність: 0.4787408887103352\n",
            "Повнота: 0.3893398663961315\n",
            "F1 міра: 0.4105604356582527\n",
            "Cohens Kappa міра: 0.5563490903439356\n",
            "Матриця невідповідностей:\n",
            " [[  0   0   0   0   3   2   0   1   0   0   0   1   0   0]\n",
            " [  0  19   0   2   2   1   0   4   2   0   0   0   0   0]\n",
            " [  0   1   1   0   0   1   0   8   4   2   0   0   0   0]\n",
            " [  0   1   0  11   3   2   0   1   6   1   0   2   0   0]\n",
            " [  0   0   0   2 288   3   0   2   3   3   0   1   0   0]\n",
            " [  1   0   1   0   5  41   0  11   5   3   1   0   0   0]\n",
            " [  0   0   0   0   2   2  10   3   1   1   0   0   0   0]\n",
            " [  0   0   0   0   8   1   0  35  23  11   4   2   0   0]\n",
            " [  0   0   0   1  10   3   0  15  69  13   0   0   0   0]\n",
            " [  2   0   0   0   5   5   3  11  12  35   0   1   0   0]\n",
            " [  1   0   0   0   1   2   0   5   2   0  12   0   0   0]\n",
            " [  1   1   0   5   7   4   0  10   5   6   0  12   0   0]\n",
            " [  0   0   0   0   0   1   0   1   0   3   0   0   0   0]\n",
            " [  0   0   0   0   1   1   0   1   1   1   0   1   0   0]]\n",
            "****************************************************************************************************\n",
            "\n",
            "\n",
            "\n",
            "Класифікатор : DecisionTreeClassifier(ccp_alpha=0.0, class_weight=None, criterion='gini',\n",
            "                       max_depth=None, max_features=None, max_leaf_nodes=None,\n",
            "                       min_impurity_decrease=0.0, min_impurity_split=None,\n",
            "                       min_samples_leaf=1, min_samples_split=2,\n",
            "                       min_weight_fraction_leaf=0.0, presort='deprecated',\n",
            "                       random_state=None, splitter='best')\n",
            "Метрики : \n",
            "\n",
            "Точність: 0.5315533980582524\n",
            "Влучність: 0.32739500538208693\n",
            "Повнота: 0.2943038623440785\n",
            "F1 міра: 0.30252061524943724\n",
            "Cohens Kappa міра: 0.42606269815348463\n",
            "Матриця невідповідностей:\n",
            " [[  1   0   1   0   1   0   0   1   0   0   0   3   0   0]\n",
            " [  0  16   1   0   1   4   1   1   1   5   0   0   0   0]\n",
            " [  0   2   0   1   0   0   3   3   4   1   0   3   0   0]\n",
            " [  0   1   0   5   2   0   0   2   7   4   0   6   0   0]\n",
            " [  0   0   0   5 261   6   0   7   9  12   0   0   1   1]\n",
            " [  0   1   3   2   2  26   1   9   5  12   0   7   0   0]\n",
            " [  0   0   0   2   0   2   7   3   1   4   0   0   0   0]\n",
            " [  2   1   1   3   6   7   0  22  10  20   3   8   0   1]\n",
            " [  1   5   0   3   5   6   0   9  48  25   0   5   1   3]\n",
            " [  0   0   0   1   5   3   3   9  15  35   1   2   0   0]\n",
            " [  0   0   0   0   0   1   0   2   2  10   6   0   0   2]\n",
            " [  1   0   0   5   5   5   1   9   4  10   0  11   0   0]\n",
            " [  0   0   0   0   0   0   0   1   0   4   0   0   0   0]\n",
            " [  0   0   1   0   0   0   0   1   1   1   0   2   0   0]]\n",
            "****************************************************************************************************\n",
            "\n",
            "\n",
            "\n",
            "Класифікатор : RandomForestClassifier(bootstrap=True, ccp_alpha=0.0, class_weight=None,\n",
            "                       criterion='gini', max_depth=None, max_features='auto',\n",
            "                       max_leaf_nodes=None, max_samples=None,\n",
            "                       min_impurity_decrease=0.0, min_impurity_split=None,\n",
            "                       min_samples_leaf=1, min_samples_split=2,\n",
            "                       min_weight_fraction_leaf=0.0, n_estimators=150,\n",
            "                       n_jobs=None, oob_score=False, random_state=None,\n",
            "                       verbose=0, warm_start=False)\n",
            "Метрики : \n",
            "\n",
            "Точність: 0.5970873786407767\n",
            "Влучність: 0.4039005043800161\n",
            "Повнота: 0.31520277396304613\n",
            "F1 міра: 0.335409531145548\n",
            "Cohens Kappa міра: 0.4959288174131269\n",
            "Матриця невідповідностей:\n",
            " [[  0   0   0   0   1   2   0   2   0   1   0   1   0   0]\n",
            " [  0  16   0   0   1   0   0   7   5   0   0   1   0   0]\n",
            " [  0   1   0   1   0   2   1   8   3   1   0   0   0   0]\n",
            " [  0   1   0   7   4   1   0   6   6   1   0   1   0   0]\n",
            " [  0   0   0   3 281   2   0   7   2   6   0   1   0   0]\n",
            " [  0   0   1   1   4  34   0  20   3   3   0   2   0   0]\n",
            " [  0   0   0   0   1   1   6   8   1   2   0   0   0   0]\n",
            " [  0   0   0   0  10   2   0  43  16   7   3   3   0   0]\n",
            " [  0   1   0   1   4   3   0  23  62  17   0   0   0   0]\n",
            " [  0   0   0   0   5   1   2  18  17  30   0   1   0   0]\n",
            " [  0   0   0   0   0   3   0  12   1   1   6   0   0   0]\n",
            " [  0   0   0   2   6   8   0  18   5   5   0   7   0   0]\n",
            " [  0   0   0   0   0   0   0   2   0   3   0   0   0   0]\n",
            " [  0   0   0   0   0   0   0   5   1   0   0   0   0   0]]\n",
            "****************************************************************************************************\n",
            "\n",
            "\n",
            "\n"
          ],
          "name": "stdout"
        },
        {
          "output_type": "stream",
          "text": [
            "/usr/local/lib/python3.7/dist-packages/sklearn/metrics/_classification.py:1272: UndefinedMetricWarning: Precision is ill-defined and being set to 0.0 in labels with no predicted samples. Use `zero_division` parameter to control this behavior.\n",
            "  _warn_prf(average, modifier, msg_start, len(result))\n"
          ],
          "name": "stderr"
        }
      ]
    },
    {
      "cell_type": "code",
      "metadata": {
        "colab": {
          "base_uri": "https://localhost:8080/",
          "height": 508
        },
        "id": "bn-Dm773pICl",
        "outputId": "0bc12199-9b1d-4841-a38d-957c2a4ba0c9"
      },
      "source": [
        "import matplotlib.pyplot as plt\n",
        "import numpy as np\n",
        "# Intitialize figure with two plots\n",
        "fig, (ax1) = plt.subplots(1)\n",
        "fig.suptitle('Порівняння моделей', fontsize=16, fontweight='bold')\n",
        "fig.set_figheight(7)\n",
        "fig.set_figwidth(16)\n",
        "fig.set_facecolor('white')\n",
        "\n",
        "## set bar size\n",
        "barWidth = 0.2\n",
        "\n",
        "mlp_neural_eval_score = [mlp_neural_eval['acc'], mlp_neural_eval['prc'], mlp_neural_eval['rec'], mlp_neural_eval['f1'], mlp_neural_eval['kappa']]\n",
        "svm_score = [svm_eval['acc'], svm_eval['prc'], svm_eval['rec'], svm_eval['f1'], svm_eval['kappa']]\n",
        "lin_svm_score = [lin_svm_eval['acc'], lin_svm_eval['prc'], lin_svm_eval['rec'], lin_svm_eval['f1'], lin_svm_eval['kappa']]\n",
        "dt_score = [dt_eval['acc'], dt_eval['prc'], dt_eval['rec'], dt_eval['f1'], dt_eval['kappa']]\n",
        "rf_score = [rf_eval['acc'], rf_eval['prc'], rf_eval['rec'], rf_eval['f1'], rf_eval['kappa']]\n",
        "\n",
        "## Set position of bar on X axis\n",
        "r1 = np.arange(len(mlp_neural_eval_score))\n",
        "r2 = [x + barWidth for x in r1]\n",
        "r3 = [x + barWidth for x in r2]\n",
        "r4 = [x + barWidth for x in r3]\n",
        "r5 = [x + barWidth for x in r4]\n",
        "\n",
        "## Make the plot\n",
        "ax1.bar(r1, mlp_neural_eval_score, width=barWidth, edgecolor='white', label='MultinomialNB')\n",
        "ax1.bar(r2, svm_score, width=barWidth, edgecolor='white', label='SVC')\n",
        "ax1.bar(r3, lin_svm_score, width=barWidth, edgecolor='white', label='LinearSVC')\n",
        "ax1.bar(r4, dt_score, width=barWidth, edgecolor='white', label='DecisionTree')\n",
        "ax1.bar(r5, rf_score, width=barWidth, edgecolor='white', label='RandomForest')\n",
        "plt.legend()\n",
        "## Configure x and y axis\n",
        "ax1.set_xlabel('Метрики', fontweight='bold')\n",
        "labels = ['Точність', 'Влучність', 'Повнота', 'F1', 'Kappa']\n",
        "ax1.set_xticks([r + (barWidth * 1.0) for r in range(len(mlp_neural_eval_score))], )\n",
        "ax1.set_xticklabels(labels)\n",
        "ax1.set_ylabel('Оцінка', fontweight='bold')\n",
        "ax1.set_ylim(0, 1)"
      ],
      "execution_count": null,
      "outputs": [
        {
          "output_type": "execute_result",
          "data": {
            "text/plain": [
              "(0.0, 1.0)"
            ]
          },
          "metadata": {
            "tags": []
          },
          "execution_count": 40
        },
        {
          "output_type": "display_data",
          "data": {
            "image/png": "[encoded data removed]",
            "text/plain": [
              "<Figure size 1152x504 with 1 Axes>"
            ]
          },
          "metadata": {
            "tags": []
          }
        }
      ]
    },
    {
      "cell_type": "code",
      "metadata": {
        "colab": {
          "base_uri": "https://localhost:8080/"
        },
        "id": "aU_vg24z8PWA",
        "outputId": "12417e9e-1691-42aa-df28-668cb885c613"
      },
      "source": [
        "from sklearn.model_selection import GridSearchCV\n",
        "#спробуйте налаштувати параметри. Для LinearSVC C є регульованим параметром\n",
        "params = {'C': [0.1, 1, 10, 100, 1000]}\n",
        "#використовувати клас GridSearchCV. Основними аргументами є (класифікатор, параметри), для яких ми хочемо виконати найкращий пошук параметрів.\n",
        "grid = GridSearchCV(LinearSVC(), params, refit=True, verbose=3)\n",
        "#пристосувати дані навчання до нашої моделі grid_search та перевірити прогнози на нашому тестовому наборі\n",
        "grid.fit(X_train, y_train)\n",
        "y_pred = grid.predict(X_test)\n",
        "#Перевірте точність і влучність нашої моделі\n",
        "print('Точність : {:.2f}%'.format(100*metrics.accuracy_score(y_pred, y_test)))\n",
        "print('Влучність : \\n{}'.format(100*metrics.precision_score(y_pred, y_test, average = None)))"
      ],
      "execution_count": null,
      "outputs": [
        {
          "output_type": "stream",
          "text": [
            "Fitting 5 folds for each of 5 candidates, totalling 25 fits\n",
            "[CV] C=0.1 ...........................................................\n",
            "[CV] ............................... C=0.1, score=0.557, total=   0.0s\n",
            "[CV] C=0.1 ...........................................................\n",
            "[CV] ............................... C=0.1, score=0.551, total=   0.0s\n",
            "[CV] C=0.1 ...........................................................\n",
            "[CV] ............................... C=0.1, score=0.557, total=   0.0s\n",
            "[CV] C=0.1 ...........................................................\n",
            "[CV] ............................... C=0.1, score=0.563, total=   0.0s\n",
            "[CV] C=0.1 ...........................................................\n",
            "[CV] ............................... C=0.1, score=0.546, total=   0.0s\n",
            "[CV] C=1 .............................................................\n"
          ],
          "name": "stdout"
        },
        {
          "output_type": "stream",
          "text": [
            "[Parallel(n_jobs=1)]: Using backend SequentialBackend with 1 concurrent workers.\n",
            "[Parallel(n_jobs=1)]: Done   1 out of   1 | elapsed:    0.0s remaining:    0.0s\n",
            "[Parallel(n_jobs=1)]: Done   2 out of   2 | elapsed:    0.1s remaining:    0.0s\n"
          ],
          "name": "stderr"
        },
        {
          "output_type": "stream",
          "text": [
            "[CV] ................................. C=1, score=0.611, total=   0.1s\n",
            "[CV] C=1 .............................................................\n",
            "[CV] ................................. C=1, score=0.626, total=   0.1s\n",
            "[CV] C=1 .............................................................\n",
            "[CV] ................................. C=1, score=0.634, total=   0.1s\n",
            "[CV] C=1 .............................................................\n",
            "[CV] ................................. C=1, score=0.628, total=   0.1s\n",
            "[CV] C=1 .............................................................\n",
            "[CV] ................................. C=1, score=0.635, total=   0.1s\n",
            "[CV] C=10 ............................................................\n",
            "[CV] ................................ C=10, score=0.595, total=   0.2s\n",
            "[CV] C=10 ............................................................\n",
            "[CV] ................................ C=10, score=0.617, total=   0.2s\n",
            "[CV] C=10 ............................................................\n",
            "[CV] ................................ C=10, score=0.640, total=   0.2s\n",
            "[CV] C=10 ............................................................\n",
            "[CV] ................................ C=10, score=0.619, total=   0.2s\n",
            "[CV] C=10 ............................................................\n",
            "[CV] ................................ C=10, score=0.633, total=   0.2s\n",
            "[CV] C=100 ...........................................................\n"
          ],
          "name": "stdout"
        },
        {
          "output_type": "stream",
          "text": [
            "/usr/local/lib/python3.7/dist-packages/sklearn/svm/_base.py:947: ConvergenceWarning: Liblinear failed to converge, increase the number of iterations.\n",
            "  \"the number of iterations.\", ConvergenceWarning)\n"
          ],
          "name": "stderr"
        },
        {
          "output_type": "stream",
          "text": [
            "[CV] ............................... C=100, score=0.593, total=   0.5s\n",
            "[CV] C=100 ...........................................................\n",
            "[CV] ............................... C=100, score=0.613, total=   0.6s\n",
            "[CV] C=100 ...........................................................\n",
            "[CV] ............................... C=100, score=0.640, total=   0.6s\n",
            "[CV] C=100 ...........................................................\n",
            "[CV] ............................... C=100, score=0.613, total=   0.5s\n",
            "[CV] C=100 ...........................................................\n",
            "[CV] ............................... C=100, score=0.629, total=   0.6s\n",
            "[CV] C=1000 ..........................................................\n",
            "[CV] .............................. C=1000, score=0.593, total=   0.2s\n",
            "[CV] C=1000 ..........................................................\n",
            "[CV] .............................. C=1000, score=0.613, total=   0.4s\n",
            "[CV] C=1000 ..........................................................\n",
            "[CV] .............................. C=1000, score=0.640, total=   0.3s\n",
            "[CV] C=1000 ..........................................................\n",
            "[CV] .............................. C=1000, score=0.613, total=   0.3s\n",
            "[CV] C=1000 ..........................................................\n",
            "[CV] .............................. C=1000, score=0.627, total=   0.5s\n",
            "Точність : 64.68%\n",
            "Влучність : \n",
            "[ 0.         63.33333333  5.88235294 40.74074074 95.36423841 60.29411765\n",
            " 52.63157895 41.66666667 62.16216216 47.2972973  52.17391304 23.52941176\n",
            "  0.          0.        ]\n"
          ],
          "name": "stdout"
        },
        {
          "output_type": "stream",
          "text": [
            "[Parallel(n_jobs=1)]: Done  25 out of  25 | elapsed:    6.0s finished\n"
          ],
          "name": "stderr"
        }
      ]
    },
    {
      "cell_type": "code",
      "metadata": {
        "colab": {
          "base_uri": "https://localhost:8080/"
        },
        "id": "v7MXfi-V1ZSK",
        "outputId": "ac0137a3-4f6d-445a-ec16-db2afd003779"
      },
      "source": [
        "import pickle\n",
        "\n",
        "#зберегти модель категорії\n",
        "\n",
        "pickle.dump(grid, open('LinearSVM_model.pkl', 'wb'))\n",
        "\n",
        "# завнтажити модель категорії та перевірити\n",
        "tuned_model = pickle.load(open('LinearSVM_model.pkl', 'rb'))\n",
        "result = tuned_model.score(X_test, y_test)*100\n",
        "\n",
        "print('Точність : {:.2f}%'.format(result)) \n",
        "\n",
        "loaded_vec = CountVectorizer(vocabulary=pickle.load(open(\"feature.pkl\", \"rb\")))\n",
        "loaded_tfidf = pickle.load(open(\"tfidf.pkl\",\"rb\"))\n",
        "loaded_model = pickle.load(open(\"LinearSVM_model.pkl\",\"rb\"))\n",
        "\n",
        "docs_new = \"Макрон планує знову обговорити з Путіним ситуацію в Україні\"\n",
        "X_new_counts = loaded_vec.transform([docs_new])\n",
        "X_new_tfidf = loaded_tfidf.transform(X_new_counts)\n",
        "predicted = loaded_model.predict(X_new_tfidf)\n",
        "print('Категорія: ', predicted[0])\n",
        "\n"
      ],
      "execution_count": null,
      "outputs": [
        {
          "output_type": "stream",
          "text": [
            "Точність : 64.68%\n",
            "Категорія:  Політика\n"
          ],
          "name": "stdout"
        }
      ]
    }
  ]
}