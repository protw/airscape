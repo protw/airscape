{
 "cells": [
  {
   "cell_type": "markdown",
   "id": "adeb4d73",
   "metadata": {},
   "source": [
    "# Автоматизована обробка PDF форм\n",
    "\n",
    "Якщо ви не є щасливим власником Adobe Acrobat або ABBY Finereader, то для автоматизованої обробки великої кількості анкет у форматі PDF форм вам в нагоді стане цей код.\n",
    "\n",
    "Анкети та опитувальники у форматі PDF форм вважаються більш традиційними у порівнянні з купою інструментів для створення онлайн форм. Для PDF форм вам не треба дбати про підтримку веб-середовища і ви можете заповнювати форму офлайн. Ви можете розсилати форми електронною поштою. Зазвичай PDF форма розміщає поля компактніше і згодом ви можете роздрукувати заповнену форму. Все це виглядає традиційніше і надійніше - саме це може приваблювати багатьох користувачів.\n",
    "\n",
    "Попутньо може виникнути питання - чим же створювати PDF форми? На щастя відповідь є. Пошук в інтернеті надасть вам купу онлайн і офлайн інструментів для створення PDF форми."
   ]
  },
  {
   "cell_type": "markdown",
   "id": "afe42158",
   "metadata": {},
   "source": [
    "## Отже перейдемо до справ\n",
    "\n",
    "Постановка завдання виглядає так: у нас в окремому фолдері зібрані однакові заповнені форми; нам потрібно зібрати всі введені дані у одну таблицю, де кожна колонка відповідає окремому полю і кожний рядок - окремому файлу PDF форми.\n",
    "\n",
    "Одразу розпочнімо до клювого компонента - це модуль `fetch_form_fields.py `, призначений для отримання значень всіх полів з однієї PDF форми. Код цього модулю [розміщений тут](https://github.com/protw/airscape/blob/master/stavok/pdf-form/fetch_form_fields.py) і безпосередньо запозичений з деякими доопрацюваннями з [документації пакету `pdfminer`](https://pdfminersix.readthedocs.io/en/latest/howto/acro_forms.html), де алгоритм дуже ретельно пояснений, так що потреби повторювати ці пояснення вже немає.\n",
    "\n",
    "## Використані модулі"
   ]
  },
  {
   "cell_type": "code",
   "execution_count": 1,
   "id": "40420f72",
   "metadata": {},
   "outputs": [],
   "source": [
    "import glob\n",
    "import os\n",
    "import csv\n",
    "import pandas as pd\n",
    "import re\n",
    "from fetch_form_fields import fetch_form_fields"
   ]
  },
  {
   "cell_type": "markdown",
   "id": "7480684c",
   "metadata": {},
   "source": [
    "## Файл для збирання табличних даних\n",
    "\n",
    "Для зручності ім'я файлу зібраних табличних даних збігається з іменем відповідного фолдеру з формами. Скажімо, ми маємо два фолдери `form_folder_1` і `form_folder_2`, що містять 2 різних набори заповнених форм. В такому разі файли зібраних табличних даних матимуть такі імена `form_folder_1.csv` і `form_folder_2.csv`. У підсумку файлова структура даних матиме такий вигляд: \n",
    "\n",
    "![](form_data_structure.png)"
   ]
  },
  {
   "cell_type": "markdown",
   "id": "5cc1c17c",
   "metadata": {},
   "source": [
    "Для створення імені файлу зібраних табличних даних відповідним фолдеру застосуємо таку функцію:"
   ]
  },
  {
   "cell_type": "code",
   "execution_count": 2,
   "id": "c6ab1171",
   "metadata": {},
   "outputs": [],
   "source": [
    "def output_csv_name(form_dir):\n",
    "    output_csv = os.path.basename(form_dir)\n",
    "    # if 'form_dir' ends with '\\' or '/' than 'output_csv' is empty string\n",
    "    if not output_csv:\n",
    "        # cut tailing '\\' or '/'\n",
    "        form_dir = re.sub('[/\\\\\\]+$','',form_dir)\n",
    "        output_csv = os.path.basename(form_dir)\n",
    "    return output_csv + '.csv'"
   ]
  },
  {
   "cell_type": "markdown",
   "id": "abaede96",
   "metadata": {},
   "source": [
    "Вхідним аргументом цієї функції є стрінгова змінна шлях фолдеру `form_dir`. За основу імені вибирається останній із сегментів шляху, що розділені знаком '\\' або '/' з допомогою метода `os.path.basename`. Тут же враховується і нівелюється особливість цього метода, яка полягає в тому, що якщо шлях завершується знаком '\\' або '/', то метод повертає порожній рядок.\n",
    "\n",
    "Тепер можна формувати ім'я файлу зібраних табличних даних:"
   ]
  },
  {
   "cell_type": "code",
   "execution_count": 3,
   "id": "0c3c1446",
   "metadata": {},
   "outputs": [],
   "source": [
    "# Data folder containing similar PDF forms\n",
    "form_dir = 'form-01\\\\'\n",
    "\n",
    "output_csv = output_csv_name(form_dir)"
   ]
  },
  {
   "cell_type": "markdown",
   "id": "21205486",
   "metadata": {},
   "source": [
    "Відкриваємо файл для збирання табличних даних:"
   ]
  },
  {
   "cell_type": "code",
   "execution_count": 4,
   "id": "f16f3715",
   "metadata": {},
   "outputs": [],
   "source": [
    "#open new csv file\n",
    "out_file = open(output_csv, 'w+')\n",
    "writer = csv.writer(out_file)"
   ]
  },
  {
   "cell_type": "markdown",
   "id": "1df48278",
   "metadata": {},
   "source": [
    "## Основний цикл збирання табличних\n",
    "\n",
    "Цей цикл проводиться за списком файлів PDF форми, що створюється методом `glob.glob(pathname)`, що повертає список шляхів, які відповідають шаблону `pathname`. Шлях може бути як абсолютним так і відносним.\n",
    "\n",
    "Першим кроком функція `fetch_form_fields(filename)` повертає словник `data`, що містить всі поля однієї форми `filename`. Зі словника ми робимо два списки: список ключів `head` для заголовку таблиці і список значень `row` для рядка даних цієї таблиці.\n",
    "\n",
    "До кожного з двох списків додаємо на початок елемент що містить ім'я файлу PDF форми.\n",
    "\n",
    "Список заголовку `header` ми записуємо один раз на першій ітерації (коли заголовок порожній `if not header`) та запам'ятовуємо у множині `header_set` для наступних порівнянь. На всіх наступних ітераціях ми проводимо перевірку поточного списку заголовка `head` на збіг зі списком заголовку з першого PDF файлу. Якщо поточний заголовок не збігається, то цей рядок буде пропущений і не буде записаний. Також буде видано попередження про відсутність збігу у поточному PDF файлі."
   ]
  },
  {
   "cell_type": "code",
   "execution_count": 5,
   "id": "57486372",
   "metadata": {},
   "outputs": [
    {
     "name": "stdout",
     "output_type": "stream",
     "text": [
      "FORM2CSV reading form data folder \"form-01\\\"\n",
      "WARNING! Set of fields in \"_form2.pdf\" differs from  \"_form.pdf\"\n"
     ]
    }
   ],
   "source": [
    "print(f'FORM2CSV reading form data folder \"{form_dir}\"')\n",
    "header = [] # header row\n",
    "n_skipped = 0\n",
    "file_list = glob.glob(os.path.join(form_dir, '*.pdf'))\n",
    "for filename in file_list:\n",
    "    \n",
    "    data = fetch_form_fields(filename) # returns dictionary\n",
    "    \n",
    "    filename_i = os.path.basename(filename)\n",
    "    head = list(data.keys())\n",
    "    row = list(data.values())\n",
    "    if not header: # get header from the first file\n",
    "        header = head.copy()\n",
    "        header.insert(0,'file_name') # insert column with file name\n",
    "        writer.writerow(header)\n",
    "        header_set = set(head) # for further comparison\n",
    "        filename_0 = filename_i\n",
    "    else: # check whether the rest of files have the same fields' list\n",
    "        if header_set != set(head): # if not the same - skip this record\n",
    "            print(f'WARNING! Set of fields in \"{filename_i}\"'\n",
    "                  f' differs from  \"{filename_0}\"')\n",
    "            n_skipped += 1\n",
    "            continue\n",
    "    row.insert(0,filename_i) # insert column with file name\n",
    "    writer.writerow(row)"
   ]
  },
  {
   "cell_type": "markdown",
   "id": "3895be9b",
   "metadata": {},
   "source": [
    "## Заключні кроки\n",
    "\n",
    "Після завершення циклу не забуваймо закрити файл для збирання табличних даних і підвести статистичні підсумки:"
   ]
  },
  {
   "cell_type": "code",
   "execution_count": 6,
   "id": "6b105a8a",
   "metadata": {},
   "outputs": [
    {
     "name": "stdout",
     "output_type": "stream",
     "text": [
      "Form data collected in table \"form-01.csv\"\n",
      "Total number of forms: 2\n",
      "Number of forms collected: 1\n",
      "Number of forms skipped: 1\n"
     ]
    }
   ],
   "source": [
    "out_file.close()\n",
    "\n",
    "n_total_forms_number = len(file_list)\n",
    "print(f'Form data collected in table \"{output_csv}\"')\n",
    "print(f'Total number of forms: {n_total_forms_number}')\n",
    "print(f'Number of forms collected: {n_total_forms_number-n_skipped}')\n",
    "print(f'Number of forms skipped: {n_skipped}')"
   ]
  },
  {
   "cell_type": "markdown",
   "id": "66fded5a",
   "metadata": {},
   "source": [
    "В зв'язку з тим, що у нашому випадку ми маємо вміст кирилицею і латиною, то для коректного відображення, зокрема, у Excel необхідно конвертувати текстовий CSV файл у `UTF BOM`."
   ]
  },
  {
   "cell_type": "code",
   "execution_count": 7,
   "id": "cccc2694",
   "metadata": {},
   "outputs": [
    {
     "name": "stdout",
     "output_type": "stream",
     "text": [
      "DONE!\n"
     ]
    }
   ],
   "source": [
    "# Convert 'output_csv' to UTF-8 BOM in order \n",
    "# to make cyrillic text readable in Excel\n",
    "df = pd.read_csv(output_csv, sep=',')\n",
    "df.to_csv(output_csv, sep=',', encoding=\"utf-8-sig\",index=False)\n",
    "\n",
    "df.head()\n",
    "\n",
    "print('DONE!')"
   ]
  },
  {
   "cell_type": "markdown",
   "id": "129b2faf",
   "metadata": {},
   "source": [
    "Це все. Користуйтесь на здоров'я."
   ]
  }
 ],
 "metadata": {
  "kernelspec": {
   "display_name": "Python 3 (ipykernel)",
   "language": "python",
   "name": "python3"
  },
  "language_info": {
   "codemirror_mode": {
    "name": "ipython",
    "version": 3
   },
   "file_extension": ".py",
   "mimetype": "text/x-python",
   "name": "python",
   "nbconvert_exporter": "python",
   "pygments_lexer": "ipython3",
   "version": "3.9.6"
  }
 },
 "nbformat": 4,
 "nbformat_minor": 5
}
