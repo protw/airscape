{
 "cells": [
  {
   "cell_type": "markdown",
   "id": "744cf6ee",
   "metadata": {},
   "source": [
    "# Простий CLI і GUI для обробки PDF form\n",
    "\n",
    "Якщо ви не хочете щоразу залазити всередину коду для налаштування вхідних параметрів, то цей матеріал саме для вас.\n",
    "\n",
    "Взаємодія користувача з програмними продуктами чи то з власними чи то коли ви передаєте їх у спільне користування є важливою передумовою для їхнього ефективного повторного використання як для автора так інших користувачів. Для цієї взаємодії важлива наявність як інтерфейсу командного рядка (CLI) так і графічного інтерфейсу користувача (GUI). \n",
    "\n",
    "У нещодавній статті [\"Automated processing of PDF forms\"](https://oleghbond.medium.com/automated-processing-of-pdf-forms-fa635d497fc1#42a6) мною була описана реалізація утиліти для автоматизованої обробки PDF форм. Все працює начебто добре, але цьому застосунку явно бракувало простого користувцького інтерфейсу. Отже я вирішив надолужити це недопрацювання.\n",
    "\n",
    "## Що ми хочемо побудувати\n",
    "\n"
   ]
  }
 ],
 "metadata": {
  "kernelspec": {
   "display_name": "Python 3 (ipykernel)",
   "language": "python",
   "name": "python3"
  },
  "language_info": {
   "codemirror_mode": {
    "name": "ipython",
    "version": 3
   },
   "file_extension": ".py",
   "mimetype": "text/x-python",
   "name": "python",
   "nbconvert_exporter": "python",
   "pygments_lexer": "ipython3",
   "version": "3.9.6"
  }
 },
 "nbformat": 4,
 "nbformat_minor": 5
}
