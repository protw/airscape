{
 "cells": [
  {
   "cell_type": "markdown",
   "id": "f849ed64",
   "metadata": {},
   "source": [
    "## Octave/Matlab in Jupyter Notebook\n",
    "\n",
    "### Latex formula example\n",
    "\n",
    "$$\\alpha=\\frac{1}{\\beta}$$\n",
    "\n",
    "### Live Octave/Matlab code example"
   ]
  },
  {
   "cell_type": "code",
   "execution_count": 6,
   "id": "2436f2ac",
   "metadata": {},
   "outputs": [
    {
     "name": "stdout",
     "output_type": "stream",
     "text": [
      "   234   345\n",
      "   4.2735e-03   2.8986e-03\n"
     ]
    }
   ],
   "source": [
    "beta=[234 345];\n",
    "alpha=1./beta;\n",
    "disp(beta)\n",
    "disp(alpha)"
   ]
  }
 ],
 "metadata": {
  "kernelspec": {
   "display_name": "Octave",
   "language": "octave",
   "name": "octave"
  },
  "language_info": {
   "file_extension": ".m",
   "help_links": [
    {
     "text": "GNU Octave",
     "url": "https://www.gnu.org/software/octave/support.html"
    },
    {
     "text": "Octave Kernel",
     "url": "https://github.com/Calysto/octave_kernel"
    },
    {
     "text": "MetaKernel Magics",
     "url": "https://metakernel.readthedocs.io/en/latest/source/README.html"
    }
   ],
   "mimetype": "text/x-octave",
   "name": "octave",
   "version": "6.1.0"
  }
 },
 "nbformat": 4,
 "nbformat_minor": 5
}
