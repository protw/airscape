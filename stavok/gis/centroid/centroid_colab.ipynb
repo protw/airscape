{
  "nbformat": 4,
  "nbformat_minor": 0,
  "metadata": {
    "colab": {
      "name": "centroid-colab.ipynb",
      "provenance": [],
      "collapsed_sections": [],
      "toc_visible": true
    },
    "kernelspec": {
      "name": "python3",
      "display_name": "Python 3"
    },
    "language_info": {
      "name": "python"
    }
  },
  "cells": [
    {
      "cell_type": "markdown",
      "source": [
        "## Завдання\n",
        "\n",
        "Знайти центроїд групи гео точок, розмір групи, відобразити на мапі\n",
        "\n",
        "## Порядок дій\n",
        "\n",
        "1. простий інтерфейс для введення вхідних даних і параметрів\n",
        "2. розбрати текст - знайти в ньому пари чисел (шир, довг) \n",
        "3. знайти центроід знайдених точок та статистично визначений розмір групи\n",
        "4. підготувати дані для зчитування\n",
        "5. відобразити на карті точки і розмір області"
      ],
      "metadata": {
        "id": "yMe8s6y6R971"
      }
    },
    {
      "cell_type": "markdown",
      "source": [
        "## Встановити і підключити бібліотеки"
      ],
      "metadata": {
        "id": "njoO4Vv1IS3l"
      }
    },
    {
      "cell_type": "code",
      "source": [
        "## Встановити бібліотеки\n",
        "!pip install PyGeodesy\n",
        "## Підключити бібліотеки\n",
        "import re\n",
        "from pygeodesy.sphericalTrigonometry import LatLon\n",
        "from pygeodesy.points import centroidOf\n",
        "import numpy as np\n",
        "import folium\n",
        "from folium.features import DivIcon\n",
        "import sys"
      ],
      "metadata": {
        "id": "5Z4YtmjIExIZ",
        "colab": {
          "base_uri": "https://localhost:8080/"
        },
        "outputId": "4ee23c6c-7a32-43d3-d80e-5d53131bb60a"
      },
      "execution_count": 65,
      "outputs": [
        {
          "output_type": "stream",
          "name": "stdout",
          "text": [
            "Looking in indexes: https://pypi.org/simple, https://us-python.pkg.dev/colab-wheels/public/simple/\n",
            "Requirement already satisfied: PyGeodesy in /usr/local/lib/python3.7/dist-packages (22.8.11)\n"
          ]
        }
      ]
    },
    {
      "cell_type": "markdown",
      "source": [
        "## Задати параметри і вхідні дані"
      ],
      "metadata": {
        "id": "n0UZmMXcIprl"
      }
    },
    {
      "cell_type": "code",
      "source": [
        "## Параметри\n",
        "coord_format_id = 0\n",
        "lat_lon_order = 'LatLon'\n",
        "perctl = 65\n",
        "zoom_start = 12"
      ],
      "metadata": {
        "id": "dFUGPG3BI6nW"
      },
      "execution_count": 66,
      "outputs": []
    },
    {
      "cell_type": "code",
      "source": [
        "#@title Параметри розрахунків\n",
        "\n",
        "format_pattern = [\"46.7373, 32.8128\", \"46,7373 / 32,8128\"]\n",
        "\n",
        "coord_format = \"46.7373, 32.8128\" #@param [\"46.7373, 32.8128\", \"46,7373 / 32,8128\"]\n",
        "lat_lon_order = 'LatLon' #@param ['LatLon', 'LonLat']\n",
        "perctl = 65 #@param [50, 65, 75, 95]\n",
        "zoom_start = 12 #@param {type:\"slider\", min:11, max:15, step:1}\n",
        "\n",
        "print('Формат координат: {coord_format}')\n",
        "print('Порядок координат: {lat_lon_order}')\n",
        "print('Персентиль: {perctl}')\n",
        "print('Стартовий зум мапи: {zoom_start}')\n",
        "\n",
        "coord_format_id = []\n",
        "for i,_ in enumerate(format_pattern):\n",
        "    if coord_format == format_pattern[i]:\n",
        "        coord_format_id = i\n",
        "        break"
      ],
      "metadata": {
        "colab": {
          "base_uri": "https://localhost:8080/"
        },
        "id": "C1rlvbG1fNtB",
        "outputId": "1edd3863-773f-427d-fad9-5c806a0875f7"
      },
      "execution_count": 67,
      "outputs": [
        {
          "output_type": "stream",
          "name": "stdout",
          "text": [
            "Формат координат: {coord_format}\n",
            "Порядок координат: {lat_lon_order}\n",
            "Персентиль: {perctl}\n",
            "Стартовий зум мапи: {zoom_start}\n"
          ]
        }
      ]
    },
    {
      "cell_type": "markdown",
      "source": [
        "## Зразки вхідного тексту\n",
        "\n",
        "Десяткова крапка і кома між значеннями:\n",
        "\n",
        "> Lorem ipsum dolor sit amet, consectetur 46.736906, 32.810302 adipiscing elit, sed do 46.737364,  32.812807 eiusmod tempor incididunt 123.987 ut labore et dolore 46.739309, 32.807631 magna aliqua. Quam 345.678,34 quisque id diam vel quam elementum. Mauris augue neque 46.740682, 32.802510 gravida in fermentum et sollicitudin ac. 46.734260,32.811582 Imperdiet dui accumsan sit amet. Risus sed vulputate odio ut enim. \n",
        "\n",
        "Десяткова кома і дріб (slash) між значеннями:\n",
        "\n",
        "> Lorem ipsum dolor sit amet, consectetur 46,736906/ 32,810302 adipiscin gelit, sed do 46,737364/  32,812807 eiusmod tempor incididunt 123,987 ut labore et dolore 46,739309/ 32,807631 magna aliqua. Quam 345,678/34 quisque id diam vel quam elementum. Mauris augue neque 46,740682/ 32,802510 gravida in fermentum et sollicitudin ac. 46,734260/32,811582 Imperdiet dui accumsan sit amet. Risus sed vulputate odio ut enim. \n"
      ],
      "metadata": {
        "id": "3vYOW5rBqya6"
      }
    },
    {
      "cell_type": "code",
      "source": [
        "#@title Ведіть вхідний текст тут:\n",
        "\n",
        "text = 'Lorem ipsum dolor sit amet, consectetur 46.736906, 32.810302 adipiscing  elit, sed do 46.737364,  32.812807 eiusmod tempor incididunt 123.987 ut  labore et dolore 46.739309, 32.807631 magna aliqua. Quam 345.678,34 quisque  id diam vel quam elementum. Mauris augue neque 46.740682, 32.802510 gravida  in fermentum et sollicitudin ac. 46.734260,32.811582 Imperdiet dui accumsan  sit amet. Risus sed vulputate odio ut enim. ' #@param {type:\"string\"}\n",
        "\n",
        "text"
      ],
      "metadata": {
        "colab": {
          "base_uri": "https://localhost:8080/",
          "height": 70
        },
        "id": "5LlwSeAMmLs3",
        "outputId": "0e7c4538-a7cb-4479-fd58-3232210973dd"
      },
      "execution_count": 68,
      "outputs": [
        {
          "output_type": "execute_result",
          "data": {
            "text/plain": [
              "'Lorem ipsum dolor sit amet, consectetur 46.736906, 32.810302 adipiscing  elit, sed do 46.737364,  32.812807 eiusmod tempor incididunt 123.987 ut  labore et dolore 46.739309, 32.807631 magna aliqua. Quam 345.678,34 quisque  id diam vel quam elementum. Mauris augue neque 46.740682, 32.802510 gravida  in fermentum et sollicitudin ac. 46.734260,32.811582 Imperdiet dui accumsan  sit amet. Risus sed vulputate odio ut enim. '"
            ],
            "application/vnd.google.colaboratory.intrinsic+json": {
              "type": "string"
            }
          },
          "metadata": {},
          "execution_count": 68
        }
      ]
    },
    {
      "cell_type": "markdown",
      "source": [
        "## Розібрати вхідний текст\n",
        "\n",
        "Функція `parse_text` - витягнути пари гео координат з тексту і створити список пар координат типу `float`.\n",
        "\n",
        "### Аргументи\n",
        "\n",
        "* `text` - вхідний текст;\n",
        "* `format_id` \n",
        "  *  0 - десяткова крапка, кома - \"46.737364, 32.812807\" (default); \n",
        "  *  1 - десяткова кома, слеш - \"46,737364 / 32,812807\";\n",
        "*  `lat_lon_order` - 'LatLon' (default) або 'LonLat'.\n",
        "\n",
        "Повертає список пар координат типу `float`, порядок коорд `[Lat,Lon]`."
      ],
      "metadata": {
        "id": "ncAp6ZB3JITj"
      }
    },
    {
      "cell_type": "code",
      "source": [
        "def parse_text(text, format_id=0, lat_lon_order='LatLon'):\n",
        "    format_masks = [\n",
        "        r'(\\d{1,3}\\.\\d+)\\s*\\,\\s*(\\d{1,3}\\.\\d+)', # 46.737364, 32.812807\n",
        "        r'(\\d{1,3}\\,\\d+)\\s*/\\s*(\\d{1,3}\\,\\d+)'   # 46,737364 / 32,812807\n",
        "    ]\n",
        "    mask = format_masks[format_id]\n",
        "    # Повертає список пар (кортежей) координат типу str\n",
        "    st = re.findall(mask, text)\n",
        "    # Міняє кому на крапку в кожному елементі\n",
        "    if format_id == 1:\n",
        "        sl = [[c.replace(',','.') for c in p] for p in st]\n",
        "    else:\n",
        "        sl = [[c for c in p] for p in st]\n",
        "    # Конвертує елементи str у float, встановлює порядок коорд [Lat,Lon]\n",
        "    if lat_lon_order == 'LatLon':\n",
        "        fl = [[float(s[0]), float(s[1])] for s in sl]\n",
        "    elif lat_lon_order == 'LonLat':\n",
        "        fl = [[float(s[1]), float(s[0])] for s in sl]\n",
        "        \n",
        "    return fl\n",
        "\n",
        "pnts = parse_text(text[coord_format_id],coord_format_id)"
      ],
      "metadata": {
        "id": "9Pzos40vKbBX"
      },
      "execution_count": 69,
      "outputs": []
    },
    {
      "cell_type": "markdown",
      "source": [
        "Перевірити, шо кількість знайдених точок більша або дорівнює 2."
      ],
      "metadata": {
        "id": "kmPIJxcSKpHO"
      }
    },
    {
      "cell_type": "code",
      "source": [
        "if len(pnts) < 2:\n",
        "    print('Кількість точок менша 2!')\n",
        "    sys.exit(1)"
      ],
      "metadata": {
        "id": "FIZNlmcQLzeB",
        "colab": {
          "base_uri": "https://localhost:8080/",
          "height": 165
        },
        "outputId": "b0070c4d-419a-43ec-e30b-69518df2a960"
      },
      "execution_count": 70,
      "outputs": [
        {
          "output_type": "stream",
          "name": "stdout",
          "text": [
            "Кількість точок менша 2!\n"
          ]
        },
        {
          "output_type": "error",
          "ename": "SystemExit",
          "evalue": "ignored",
          "traceback": [
            "An exception has occurred, use %tb to see the full traceback.\n",
            "\u001b[0;31mSystemExit\u001b[0m\u001b[0;31m:\u001b[0m 1\n"
          ]
        },
        {
          "output_type": "stream",
          "name": "stderr",
          "text": [
            "/usr/local/lib/python3.7/dist-packages/IPython/core/interactiveshell.py:2890: UserWarning: To exit: use 'exit', 'quit', or Ctrl-D.\n",
            "  warn(\"To exit: use 'exit', 'quit', or Ctrl-D.\", stacklevel=1)\n"
          ]
        }
      ]
    },
    {
      "cell_type": "markdown",
      "source": [
        "## Знайти центроїд групи точок і відстань від нього до кожної точки"
      ],
      "metadata": {
        "id": "CttCPBKYMBDu"
      }
    },
    {
      "cell_type": "code",
      "source": [
        "## Знайти центроїд групи точок 'pnts'\n",
        "pnts_LL = [LatLon(p[0],p[1]) for p in pnts]\n",
        "cntr = centroidOf(pnts_LL)\n",
        "\n",
        "## Знайти відстань від центру групи до кожної точки групи\n",
        "cntr_LL = LatLon(cntr[0],cntr[1])\n",
        "dist_l = [cntr_LL.distanceTo(p) for p in pnts_LL]\n",
        "\n",
        "print(f'Центроїд:\\n{cntr.lat:.6f}, {cntr.lon:.6f}')\n",
        "print('№, коорд, відстань (м):')\n",
        "for i,_ in enumerate(pnts):\n",
        "    print(f'{i+1:00d}, {pnts[i][0]:.6f}, {pnts[i][1]:.6f}, {dist_l[i]:.1f}')"
      ],
      "metadata": {
        "id": "uAM2u7_iL_ps"
      },
      "execution_count": null,
      "outputs": []
    },
    {
      "cell_type": "markdown",
      "source": [
        "## Порахувати середню відстань і заданий персентіль\n"
      ],
      "metadata": {
        "id": "1ziIjDW4Mr6v"
      }
    },
    {
      "cell_type": "code",
      "source": [
        "def dist_stats(dist_l, perctl=75):\n",
        "    dist = {}\n",
        "    dist_a = np.array(dist_l)\n",
        "    dist['mean'] = np.mean(dist_a)\n",
        "    # Issue! Argument 'method' does not work in 'np.percentile' under Colab\n",
        "    dist['perc'] = np.percentile(dist_a, perctl)\n",
        "    return dist\n",
        "\n",
        "dist = dist_stats(dist_l, perctl)\n",
        "print(f'Середня відстань (м) - {dist[\"mean\"]:.1f}\\n'\n",
        "      f'{perctl:d}% точок розміщені у колі діаметром {2*dist[\"perc\"]:.1f} м')"
      ],
      "metadata": {
        "id": "PQwulvUXM-s4"
      },
      "execution_count": null,
      "outputs": []
    },
    {
      "cell_type": "markdown",
      "source": [
        "## Побудувати точки на мапі\n",
        "\n",
        "* Побудувати точки з номерами та центроїд.\n",
        "* З'єднати центроїд з точками.\n",
        "* Побудувати коло за розміром персентиля."
      ],
      "metadata": {
        "id": "QjuAEWUXNJLU"
      }
    },
    {
      "cell_type": "code",
      "execution_count": null,
      "metadata": {
        "id": "H8zoPAAoR5GI"
      },
      "outputs": [],
      "source": [
        "m = folium.Map(location=cntr, zoom_start=zoom_start, tiles='openstreetmap')\n",
        "\n",
        "def show_pnts_on_map(points,map,color='red',labels=[]):\n",
        "    fstr = '<div style=\"font-size: 16pt; color: ' + color + '\">{}</div>'\n",
        "    if type(points[0]) is not list: # When there is a single point\n",
        "        points = [points]\n",
        "    if labels: # check number of custom labels \n",
        "        if len(points) != len(labels):\n",
        "            print('Кількість міток не збігається з кількістю точок!')\n",
        "            sys.exit(1)\n",
        "    else: # set default labels\n",
        "        labels = [str(i+1) for i,_ in enumerate(points)]\n",
        "    for i,_ in enumerate(points):\n",
        "        folium.CircleMarker(location=points[i], color=color, radius=5, \n",
        "                            fill=color).add_to(map)\n",
        "        folium.map.Marker(location=points[i], \n",
        "                          icon=DivIcon(icon_size=(150, 36),icon_anchor=(0, 0),\n",
        "                                       html=fstr.format(labels[i])\n",
        "        )).add_to(map)\n",
        "    return map\n",
        "\n",
        "m = show_pnts_on_map(pnts,m,color='red')\n",
        "cntr_l = list(cntr)\n",
        "m = show_pnts_on_map(cntr_l,m,color='blue',labels=['Центр'])\n",
        "\n",
        "# З'єднати центроїд з точками\n",
        "for i,_ in enumerate(pnts):\n",
        "    folium.PolyLine(locations=[pnts[i],cntr_l], color='red').add_to(m)\n",
        "\n",
        "# Побудувати коло за розміром персентиля\n",
        "folium.Circle(cntr_l, radius=dist['perc']).add_to(m)"
      ]
    },
    {
      "cell_type": "markdown",
      "source": [
        "## Відобразити мапу\n",
        "\n",
        "В Colab це зробити виявляється елементарно просто:"
      ],
      "metadata": {
        "id": "EuXbFOAKN10f"
      }
    },
    {
      "cell_type": "code",
      "source": [
        "m\n"
      ],
      "metadata": {
        "colab": {
          "base_uri": "https://localhost:8080/",
          "height": 685
        },
        "id": "wkD-P4tXN7cW",
        "outputId": "cef1d157-fe33-4537-c294-5b1e97db2e73"
      },
      "execution_count": 71,
      "outputs": [
        {
          "output_type": "execute_result",
          "data": {
            "text/plain": [
              "<folium.folium.Map at 0x7fad6ba02350>"
            ],
            "text/html": [
              "<div style=\"width:100%;\"><div style=\"position:relative;width:100%;height:0;padding-bottom:60%;\"><span style=\"color:#565656\">Make this Notebook Trusted to load map: File -> Trust Notebook</span><iframe srcdoc=\"&lt;!DOCTYPE html&gt;\n",
              "&lt;head&gt;    \n",
              "    &lt;meta http-equiv=&quot;content-type&quot; content=&quot;text/html; charset=UTF-8&quot; /&gt;\n",
              "    \n",
              "        &lt;script&gt;\n",
              "            L_NO_TOUCH = false;\n",
              "            L_DISABLE_3D = false;\n",
              "        &lt;/script&gt;\n",
              "    \n",
              "    &lt;style&gt;html, body {width: 100%;height: 100%;margin: 0;padding: 0;}&lt;/style&gt;\n",
              "    &lt;style&gt;#map {position:absolute;top:0;bottom:0;right:0;left:0;}&lt;/style&gt;\n",
              "    &lt;script src=&quot;https://cdn.jsdelivr.net/npm/leaflet@1.6.0/dist/leaflet.js&quot;&gt;&lt;/script&gt;\n",
              "    &lt;script src=&quot;https://code.jquery.com/jquery-1.12.4.min.js&quot;&gt;&lt;/script&gt;\n",
              "    &lt;script src=&quot;https://maxcdn.bootstrapcdn.com/bootstrap/3.2.0/js/bootstrap.min.js&quot;&gt;&lt;/script&gt;\n",
              "    &lt;script src=&quot;https://cdnjs.cloudflare.com/ajax/libs/Leaflet.awesome-markers/2.0.2/leaflet.awesome-markers.js&quot;&gt;&lt;/script&gt;\n",
              "    &lt;link rel=&quot;stylesheet&quot; href=&quot;https://cdn.jsdelivr.net/npm/leaflet@1.6.0/dist/leaflet.css&quot;/&gt;\n",
              "    &lt;link rel=&quot;stylesheet&quot; href=&quot;https://maxcdn.bootstrapcdn.com/bootstrap/3.2.0/css/bootstrap.min.css&quot;/&gt;\n",
              "    &lt;link rel=&quot;stylesheet&quot; href=&quot;https://maxcdn.bootstrapcdn.com/bootstrap/3.2.0/css/bootstrap-theme.min.css&quot;/&gt;\n",
              "    &lt;link rel=&quot;stylesheet&quot; href=&quot;https://maxcdn.bootstrapcdn.com/font-awesome/4.6.3/css/font-awesome.min.css&quot;/&gt;\n",
              "    &lt;link rel=&quot;stylesheet&quot; href=&quot;https://cdnjs.cloudflare.com/ajax/libs/Leaflet.awesome-markers/2.0.2/leaflet.awesome-markers.css&quot;/&gt;\n",
              "    &lt;link rel=&quot;stylesheet&quot; href=&quot;https://cdn.jsdelivr.net/gh/python-visualization/folium/folium/templates/leaflet.awesome.rotate.min.css&quot;/&gt;\n",
              "    \n",
              "            &lt;meta name=&quot;viewport&quot; content=&quot;width=device-width,\n",
              "                initial-scale=1.0, maximum-scale=1.0, user-scalable=no&quot; /&gt;\n",
              "            &lt;style&gt;\n",
              "                #map_23ce15b006cf5d13d6fca404be83061c {\n",
              "                    position: relative;\n",
              "                    width: 100.0%;\n",
              "                    height: 100.0%;\n",
              "                    left: 0.0%;\n",
              "                    top: 0.0%;\n",
              "                }\n",
              "            &lt;/style&gt;\n",
              "        \n",
              "&lt;/head&gt;\n",
              "&lt;body&gt;    \n",
              "    \n",
              "            &lt;div class=&quot;folium-map&quot; id=&quot;map_23ce15b006cf5d13d6fca404be83061c&quot; &gt;&lt;/div&gt;\n",
              "        \n",
              "&lt;/body&gt;\n",
              "&lt;script&gt;    \n",
              "    \n",
              "            var map_23ce15b006cf5d13d6fca404be83061c = L.map(\n",
              "                &quot;map_23ce15b006cf5d13d6fca404be83061c&quot;,\n",
              "                {\n",
              "                    center: [46.73787375183932, 32.80825587597304],\n",
              "                    crs: L.CRS.EPSG3857,\n",
              "                    zoom: 12,\n",
              "                    zoomControl: true,\n",
              "                    preferCanvas: false,\n",
              "                }\n",
              "            );\n",
              "\n",
              "            \n",
              "\n",
              "        \n",
              "    \n",
              "            var tile_layer_07d446f72e094405725aecf0b513544a = L.tileLayer(\n",
              "                &quot;https://{s}.tile.openstreetmap.org/{z}/{x}/{y}.png&quot;,\n",
              "                {&quot;attribution&quot;: &quot;Data by \\u0026copy; \\u003ca href=\\&quot;http://openstreetmap.org\\&quot;\\u003eOpenStreetMap\\u003c/a\\u003e, under \\u003ca href=\\&quot;http://www.openstreetmap.org/copyright\\&quot;\\u003eODbL\\u003c/a\\u003e.&quot;, &quot;detectRetina&quot;: false, &quot;maxNativeZoom&quot;: 18, &quot;maxZoom&quot;: 18, &quot;minZoom&quot;: 0, &quot;noWrap&quot;: false, &quot;opacity&quot;: 1, &quot;subdomains&quot;: &quot;abc&quot;, &quot;tms&quot;: false}\n",
              "            ).addTo(map_23ce15b006cf5d13d6fca404be83061c);\n",
              "        \n",
              "    \n",
              "            var circle_marker_4b6ebf251cbb78a06e7d91044bf814b7 = L.circleMarker(\n",
              "                [46.736906, 32.810302],\n",
              "                {&quot;bubblingMouseEvents&quot;: true, &quot;color&quot;: &quot;red&quot;, &quot;dashArray&quot;: null, &quot;dashOffset&quot;: null, &quot;fill&quot;: &quot;red&quot;, &quot;fillColor&quot;: &quot;red&quot;, &quot;fillOpacity&quot;: 0.2, &quot;fillRule&quot;: &quot;evenodd&quot;, &quot;lineCap&quot;: &quot;round&quot;, &quot;lineJoin&quot;: &quot;round&quot;, &quot;opacity&quot;: 1.0, &quot;radius&quot;: 5, &quot;stroke&quot;: true, &quot;weight&quot;: 3}\n",
              "            ).addTo(map_23ce15b006cf5d13d6fca404be83061c);\n",
              "        \n",
              "    \n",
              "            var marker_c3c6cc07282ab7a7a6e4e2575bea4396 = L.marker(\n",
              "                [46.736906, 32.810302],\n",
              "                {}\n",
              "            ).addTo(map_23ce15b006cf5d13d6fca404be83061c);\n",
              "        \n",
              "    \n",
              "            var div_icon_6867fabf8d90088fb13b2fca5550c7f7 = L.divIcon({&quot;className&quot;: &quot;empty&quot;, &quot;html&quot;: &quot;\\u003cdiv style=\\&quot;font-size: 16pt; color: red\\&quot;\\u003e1\\u003c/div\\u003e&quot;, &quot;iconAnchor&quot;: [0, 0], &quot;iconSize&quot;: [150, 36]});\n",
              "            marker_c3c6cc07282ab7a7a6e4e2575bea4396.setIcon(div_icon_6867fabf8d90088fb13b2fca5550c7f7);\n",
              "        \n",
              "    \n",
              "            var circle_marker_c656804b2ff6a05b0db1ef3b37ce634f = L.circleMarker(\n",
              "                [46.737364, 32.812807],\n",
              "                {&quot;bubblingMouseEvents&quot;: true, &quot;color&quot;: &quot;red&quot;, &quot;dashArray&quot;: null, &quot;dashOffset&quot;: null, &quot;fill&quot;: &quot;red&quot;, &quot;fillColor&quot;: &quot;red&quot;, &quot;fillOpacity&quot;: 0.2, &quot;fillRule&quot;: &quot;evenodd&quot;, &quot;lineCap&quot;: &quot;round&quot;, &quot;lineJoin&quot;: &quot;round&quot;, &quot;opacity&quot;: 1.0, &quot;radius&quot;: 5, &quot;stroke&quot;: true, &quot;weight&quot;: 3}\n",
              "            ).addTo(map_23ce15b006cf5d13d6fca404be83061c);\n",
              "        \n",
              "    \n",
              "            var marker_cf3b4ef92056d74978647ab1bb09254c = L.marker(\n",
              "                [46.737364, 32.812807],\n",
              "                {}\n",
              "            ).addTo(map_23ce15b006cf5d13d6fca404be83061c);\n",
              "        \n",
              "    \n",
              "            var div_icon_969b14ca28b8b5f53a7b24ab7998798c = L.divIcon({&quot;className&quot;: &quot;empty&quot;, &quot;html&quot;: &quot;\\u003cdiv style=\\&quot;font-size: 16pt; color: red\\&quot;\\u003e2\\u003c/div\\u003e&quot;, &quot;iconAnchor&quot;: [0, 0], &quot;iconSize&quot;: [150, 36]});\n",
              "            marker_cf3b4ef92056d74978647ab1bb09254c.setIcon(div_icon_969b14ca28b8b5f53a7b24ab7998798c);\n",
              "        \n",
              "    \n",
              "            var circle_marker_9f46ffbf08d9ba346e8ddad289e16599 = L.circleMarker(\n",
              "                [46.739309, 32.807631],\n",
              "                {&quot;bubblingMouseEvents&quot;: true, &quot;color&quot;: &quot;red&quot;, &quot;dashArray&quot;: null, &quot;dashOffset&quot;: null, &quot;fill&quot;: &quot;red&quot;, &quot;fillColor&quot;: &quot;red&quot;, &quot;fillOpacity&quot;: 0.2, &quot;fillRule&quot;: &quot;evenodd&quot;, &quot;lineCap&quot;: &quot;round&quot;, &quot;lineJoin&quot;: &quot;round&quot;, &quot;opacity&quot;: 1.0, &quot;radius&quot;: 5, &quot;stroke&quot;: true, &quot;weight&quot;: 3}\n",
              "            ).addTo(map_23ce15b006cf5d13d6fca404be83061c);\n",
              "        \n",
              "    \n",
              "            var marker_68cdb9d45fea2f505da8588744eb603f = L.marker(\n",
              "                [46.739309, 32.807631],\n",
              "                {}\n",
              "            ).addTo(map_23ce15b006cf5d13d6fca404be83061c);\n",
              "        \n",
              "    \n",
              "            var div_icon_6182d1725acea43a596a95464cbca1ae = L.divIcon({&quot;className&quot;: &quot;empty&quot;, &quot;html&quot;: &quot;\\u003cdiv style=\\&quot;font-size: 16pt; color: red\\&quot;\\u003e3\\u003c/div\\u003e&quot;, &quot;iconAnchor&quot;: [0, 0], &quot;iconSize&quot;: [150, 36]});\n",
              "            marker_68cdb9d45fea2f505da8588744eb603f.setIcon(div_icon_6182d1725acea43a596a95464cbca1ae);\n",
              "        \n",
              "    \n",
              "            var circle_marker_526f2a09269be5a3636f2bf0c343ccec = L.circleMarker(\n",
              "                [46.740682, 32.80251],\n",
              "                {&quot;bubblingMouseEvents&quot;: true, &quot;color&quot;: &quot;red&quot;, &quot;dashArray&quot;: null, &quot;dashOffset&quot;: null, &quot;fill&quot;: &quot;red&quot;, &quot;fillColor&quot;: &quot;red&quot;, &quot;fillOpacity&quot;: 0.2, &quot;fillRule&quot;: &quot;evenodd&quot;, &quot;lineCap&quot;: &quot;round&quot;, &quot;lineJoin&quot;: &quot;round&quot;, &quot;opacity&quot;: 1.0, &quot;radius&quot;: 5, &quot;stroke&quot;: true, &quot;weight&quot;: 3}\n",
              "            ).addTo(map_23ce15b006cf5d13d6fca404be83061c);\n",
              "        \n",
              "    \n",
              "            var marker_47ad3e646ad660f80e8fc65a2274f4ad = L.marker(\n",
              "                [46.740682, 32.80251],\n",
              "                {}\n",
              "            ).addTo(map_23ce15b006cf5d13d6fca404be83061c);\n",
              "        \n",
              "    \n",
              "            var div_icon_ba1de0555c930db63d8c7a7702f86ad3 = L.divIcon({&quot;className&quot;: &quot;empty&quot;, &quot;html&quot;: &quot;\\u003cdiv style=\\&quot;font-size: 16pt; color: red\\&quot;\\u003e4\\u003c/div\\u003e&quot;, &quot;iconAnchor&quot;: [0, 0], &quot;iconSize&quot;: [150, 36]});\n",
              "            marker_47ad3e646ad660f80e8fc65a2274f4ad.setIcon(div_icon_ba1de0555c930db63d8c7a7702f86ad3);\n",
              "        \n",
              "    \n",
              "            var circle_marker_1ca050e17e47603eacdc9923503d0b92 = L.circleMarker(\n",
              "                [46.73426, 32.811582],\n",
              "                {&quot;bubblingMouseEvents&quot;: true, &quot;color&quot;: &quot;red&quot;, &quot;dashArray&quot;: null, &quot;dashOffset&quot;: null, &quot;fill&quot;: &quot;red&quot;, &quot;fillColor&quot;: &quot;red&quot;, &quot;fillOpacity&quot;: 0.2, &quot;fillRule&quot;: &quot;evenodd&quot;, &quot;lineCap&quot;: &quot;round&quot;, &quot;lineJoin&quot;: &quot;round&quot;, &quot;opacity&quot;: 1.0, &quot;radius&quot;: 5, &quot;stroke&quot;: true, &quot;weight&quot;: 3}\n",
              "            ).addTo(map_23ce15b006cf5d13d6fca404be83061c);\n",
              "        \n",
              "    \n",
              "            var marker_89937b1888e5e957c8671c443bdece50 = L.marker(\n",
              "                [46.73426, 32.811582],\n",
              "                {}\n",
              "            ).addTo(map_23ce15b006cf5d13d6fca404be83061c);\n",
              "        \n",
              "    \n",
              "            var div_icon_6422de44b6966f189e56f55b07e355d4 = L.divIcon({&quot;className&quot;: &quot;empty&quot;, &quot;html&quot;: &quot;\\u003cdiv style=\\&quot;font-size: 16pt; color: red\\&quot;\\u003e5\\u003c/div\\u003e&quot;, &quot;iconAnchor&quot;: [0, 0], &quot;iconSize&quot;: [150, 36]});\n",
              "            marker_89937b1888e5e957c8671c443bdece50.setIcon(div_icon_6422de44b6966f189e56f55b07e355d4);\n",
              "        \n",
              "    \n",
              "            var circle_marker_647675b2c8b08cb88fe2bd5213360d2c = L.circleMarker(\n",
              "                [46.73787375183932, 32.80825587597304],\n",
              "                {&quot;bubblingMouseEvents&quot;: true, &quot;color&quot;: &quot;blue&quot;, &quot;dashArray&quot;: null, &quot;dashOffset&quot;: null, &quot;fill&quot;: &quot;blue&quot;, &quot;fillColor&quot;: &quot;blue&quot;, &quot;fillOpacity&quot;: 0.2, &quot;fillRule&quot;: &quot;evenodd&quot;, &quot;lineCap&quot;: &quot;round&quot;, &quot;lineJoin&quot;: &quot;round&quot;, &quot;opacity&quot;: 1.0, &quot;radius&quot;: 5, &quot;stroke&quot;: true, &quot;weight&quot;: 3}\n",
              "            ).addTo(map_23ce15b006cf5d13d6fca404be83061c);\n",
              "        \n",
              "    \n",
              "            var marker_ffca89bfa5f2efd12df5a35efc1dd0b4 = L.marker(\n",
              "                [46.73787375183932, 32.80825587597304],\n",
              "                {}\n",
              "            ).addTo(map_23ce15b006cf5d13d6fca404be83061c);\n",
              "        \n",
              "    \n",
              "            var div_icon_d5c8d62a9d541b67fc775fab60caa018 = L.divIcon({&quot;className&quot;: &quot;empty&quot;, &quot;html&quot;: &quot;\\u003cdiv style=\\&quot;font-size: 16pt; color: blue\\&quot;\\u003e\\u0426\\u0435\\u043d\\u0442\\u0440\\u003c/div\\u003e&quot;, &quot;iconAnchor&quot;: [0, 0], &quot;iconSize&quot;: [150, 36]});\n",
              "            marker_ffca89bfa5f2efd12df5a35efc1dd0b4.setIcon(div_icon_d5c8d62a9d541b67fc775fab60caa018);\n",
              "        \n",
              "    \n",
              "            var poly_line_f004b633db9fe8d1070e4b68a6708755 = L.polyline(\n",
              "                [[46.736906, 32.810302], [46.73787375183932, 32.80825587597304]],\n",
              "                {&quot;bubblingMouseEvents&quot;: true, &quot;color&quot;: &quot;red&quot;, &quot;dashArray&quot;: null, &quot;dashOffset&quot;: null, &quot;fill&quot;: false, &quot;fillColor&quot;: &quot;red&quot;, &quot;fillOpacity&quot;: 0.2, &quot;fillRule&quot;: &quot;evenodd&quot;, &quot;lineCap&quot;: &quot;round&quot;, &quot;lineJoin&quot;: &quot;round&quot;, &quot;noClip&quot;: false, &quot;opacity&quot;: 1.0, &quot;smoothFactor&quot;: 1.0, &quot;stroke&quot;: true, &quot;weight&quot;: 3}\n",
              "            ).addTo(map_23ce15b006cf5d13d6fca404be83061c);\n",
              "        \n",
              "    \n",
              "            var poly_line_80a9541acd8f9d6db4f2b6e8f58439cc = L.polyline(\n",
              "                [[46.737364, 32.812807], [46.73787375183932, 32.80825587597304]],\n",
              "                {&quot;bubblingMouseEvents&quot;: true, &quot;color&quot;: &quot;red&quot;, &quot;dashArray&quot;: null, &quot;dashOffset&quot;: null, &quot;fill&quot;: false, &quot;fillColor&quot;: &quot;red&quot;, &quot;fillOpacity&quot;: 0.2, &quot;fillRule&quot;: &quot;evenodd&quot;, &quot;lineCap&quot;: &quot;round&quot;, &quot;lineJoin&quot;: &quot;round&quot;, &quot;noClip&quot;: false, &quot;opacity&quot;: 1.0, &quot;smoothFactor&quot;: 1.0, &quot;stroke&quot;: true, &quot;weight&quot;: 3}\n",
              "            ).addTo(map_23ce15b006cf5d13d6fca404be83061c);\n",
              "        \n",
              "    \n",
              "            var poly_line_4f41f4e3d6da4243787a489b5386aedc = L.polyline(\n",
              "                [[46.739309, 32.807631], [46.73787375183932, 32.80825587597304]],\n",
              "                {&quot;bubblingMouseEvents&quot;: true, &quot;color&quot;: &quot;red&quot;, &quot;dashArray&quot;: null, &quot;dashOffset&quot;: null, &quot;fill&quot;: false, &quot;fillColor&quot;: &quot;red&quot;, &quot;fillOpacity&quot;: 0.2, &quot;fillRule&quot;: &quot;evenodd&quot;, &quot;lineCap&quot;: &quot;round&quot;, &quot;lineJoin&quot;: &quot;round&quot;, &quot;noClip&quot;: false, &quot;opacity&quot;: 1.0, &quot;smoothFactor&quot;: 1.0, &quot;stroke&quot;: true, &quot;weight&quot;: 3}\n",
              "            ).addTo(map_23ce15b006cf5d13d6fca404be83061c);\n",
              "        \n",
              "    \n",
              "            var poly_line_100e0d49a44e3f70e1268dc8b1267801 = L.polyline(\n",
              "                [[46.740682, 32.80251], [46.73787375183932, 32.80825587597304]],\n",
              "                {&quot;bubblingMouseEvents&quot;: true, &quot;color&quot;: &quot;red&quot;, &quot;dashArray&quot;: null, &quot;dashOffset&quot;: null, &quot;fill&quot;: false, &quot;fillColor&quot;: &quot;red&quot;, &quot;fillOpacity&quot;: 0.2, &quot;fillRule&quot;: &quot;evenodd&quot;, &quot;lineCap&quot;: &quot;round&quot;, &quot;lineJoin&quot;: &quot;round&quot;, &quot;noClip&quot;: false, &quot;opacity&quot;: 1.0, &quot;smoothFactor&quot;: 1.0, &quot;stroke&quot;: true, &quot;weight&quot;: 3}\n",
              "            ).addTo(map_23ce15b006cf5d13d6fca404be83061c);\n",
              "        \n",
              "    \n",
              "            var poly_line_e87e22a9aed82bd7420dc3e9482c630c = L.polyline(\n",
              "                [[46.73426, 32.811582], [46.73787375183932, 32.80825587597304]],\n",
              "                {&quot;bubblingMouseEvents&quot;: true, &quot;color&quot;: &quot;red&quot;, &quot;dashArray&quot;: null, &quot;dashOffset&quot;: null, &quot;fill&quot;: false, &quot;fillColor&quot;: &quot;red&quot;, &quot;fillOpacity&quot;: 0.2, &quot;fillRule&quot;: &quot;evenodd&quot;, &quot;lineCap&quot;: &quot;round&quot;, &quot;lineJoin&quot;: &quot;round&quot;, &quot;noClip&quot;: false, &quot;opacity&quot;: 1.0, &quot;smoothFactor&quot;: 1.0, &quot;stroke&quot;: true, &quot;weight&quot;: 3}\n",
              "            ).addTo(map_23ce15b006cf5d13d6fca404be83061c);\n",
              "        \n",
              "    \n",
              "            var circle_9fdb7d86cce730b5ca1fb92ec95f983b = L.circle(\n",
              "                [46.73787375183932, 32.80825587597304],\n",
              "                {&quot;bubblingMouseEvents&quot;: true, &quot;color&quot;: &quot;#3388ff&quot;, &quot;dashArray&quot;: null, &quot;dashOffset&quot;: null, &quot;fill&quot;: false, &quot;fillColor&quot;: &quot;#3388ff&quot;, &quot;fillOpacity&quot;: 0.2, &quot;fillRule&quot;: &quot;evenodd&quot;, &quot;lineCap&quot;: &quot;round&quot;, &quot;lineJoin&quot;: &quot;round&quot;, &quot;opacity&quot;: 1.0, &quot;radius&quot;: 425.6307670587568, &quot;stroke&quot;: true, &quot;weight&quot;: 3}\n",
              "            ).addTo(map_23ce15b006cf5d13d6fca404be83061c);\n",
              "        \n",
              "&lt;/script&gt;\" style=\"position:absolute;width:100%;height:100%;left:0;top:0;border:none !important;\" allowfullscreen webkitallowfullscreen mozallowfullscreen></iframe></div></div>"
            ]
          },
          "metadata": {},
          "execution_count": 71
        }
      ]
    }
  ]
}