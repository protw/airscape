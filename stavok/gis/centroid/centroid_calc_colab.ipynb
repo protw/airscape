{
 "cells": [
  {
   "cell_type": "markdown",
   "metadata": {
    "id": "Z9xlOLeY-2xc"
   },
   "source": [
    "## ІНІЦІАЛІЗАЦІЯ \n",
    "\n",
    "Запускати один раз на початку сесії.\n",
    "\n",
    "Після певного часу відсутності активності Гугл Колаб сервер відключається. Тому, після повторно підключення цей блок потрібно знов запустити."
   ]
  },
  {
   "cell_type": "code",
   "execution_count": 1,
   "metadata": {
    "colab": {
     "base_uri": "https://localhost:8080/"
    },
    "id": "FosnoYg_Y8p_",
    "outputId": "de7cf600-85ec-47a6-8550-0ebffb785042"
   },
   "outputs": [
    {
     "name": "stdout",
     "output_type": "stream",
     "text": [
      "Working environment: jupyter-notebook\n",
      "All extra modules imported\n"
     ]
    }
   ],
   "source": [
    "from IPython.display import display\n",
    "import sys, os, psutil\n",
    "\n",
    "W_ENVS = ['jupyter-lab', 'jupyter-notebook', \n",
    "          'google.colab', 'python'] \n",
    "\n",
    "def working_env():\n",
    "    parent_process = psutil.Process().parent().cmdline()[-1]\n",
    "\n",
    "    if W_ENVS[0] in parent_process:\n",
    "        w_env = W_ENVS[0]\n",
    "    elif W_ENVS[1] in parent_process:\n",
    "        w_env = W_ENVS[1]\n",
    "    elif W_ENVS[2] in sys.modules:\n",
    "        w_env = W_ENVS[2]\n",
    "    else:\n",
    "        w_env = W_ENVS[3]\n",
    "    \n",
    "    print(f'Working environment: {w_env}')\n",
    "\n",
    "    LoM = sys.modules # List of all available Modules\n",
    "    LoEM = ['pygeodesy', 'centroid_util_colab'] # List of Extra Modules\n",
    "    if 'google.colab' == w_env and not all(m in LoM for m in LoEM):\n",
    "        print('NOT all extra modules imported')\n",
    "        os.system('pip install PyGeodesy')\n",
    "        os.system('curl -L -o centroid_util_colab.py https://raw.githubusercontent.com/protw/airscape/master/stavok/gis/centroid/centroid_util_colab.py')\n",
    "    else:\n",
    "        print('All extra modules imported')\n",
    "\n",
    "    return w_env\n",
    "\n",
    "w_env = working_env()\n",
    "\n",
    "import webbrowser\n",
    "from centroid_util_colab import centroid_main"
   ]
  },
  {
   "cell_type": "code",
   "execution_count": 2,
   "metadata": {
    "cellView": "form",
    "colab": {
     "base_uri": "https://localhost:8080/"
    },
    "id": "C1rlvbG1fNtB",
    "outputId": "0b6d5501-e32f-4086-fd2a-dbfed893e6af"
   },
   "outputs": [
    {
     "name": "stdout",
     "output_type": "stream",
     "text": [
      "Формат координат: 46.7373, 32.8128\n",
      "Ід формата координат: 0\n",
      "Порядок координат: LatLon\n",
      "Персентиль: 76.0\n",
      "Стартовий зум мапи: 17\n"
     ]
    }
   ],
   "source": [
    "#@title Параметри розрахунків\n",
    "\n",
    "format_pattern = [\n",
    "    \"46.7373, 32.8128\", \n",
    "    \"46,7373 / 32,8128\", \n",
    "    \"46.7373 32.8128\"]\n",
    "html_page = 'centroid_map.html'\n",
    "\n",
    "coord_format = \"46.7373, 32.8128\" #@param [\"46.7373, 32.8128\", \"46,7373 / 32,8128\", \"46.7373 32.8128\"]\n",
    "lat_lon_order = 'LatLon' #@param ['LatLon', 'LonLat']\n",
    "perctl = \"76\" #@param [50, 65, 75, 95]\n",
    "zoom_start = 17 #@param {type:\"slider\", min:11, max:18, step:1}\n",
    "\n",
    "coord_format_id = []\n",
    "for i,_ in enumerate(format_pattern):\n",
    "    if coord_format == format_pattern[i]:\n",
    "        coord_format_id = i\n",
    "        break\n",
    "\n",
    "perctl = float(perctl)\n",
    "\n",
    "print(f'Формат координат: {coord_format}')\n",
    "print(f'Ід формата координат: {coord_format_id}')\n",
    "print(f'Порядок координат: {lat_lon_order}')\n",
    "print(f'Персентиль: {perctl}')\n",
    "print(f'Стартовий зум мапи: {zoom_start}')\n"
   ]
  },
  {
   "cell_type": "markdown",
   "metadata": {
    "id": "3vYOW5rBqya6"
   },
   "source": [
    "## Зразки вхідного тексту\n",
    "\n",
    "Десяткова крапка і кома між значеннями (**coord_format_id = 0**):\n",
    "\n",
    ">\t(44.6857, 33.56173); (44.68599, 33.56555); ...  \n",
    "\n",
    "Десяткова кома і дріб (slash) між значеннями (**coord_format_id = 1**):\n",
    "\n",
    "> Lorem ipsum dolor sit 46,736906/ 32,810302 adipiscin, do 46,737364/  32,812807 eiusmod ...\n",
    "\n",
    "Десяткова крапка і пробіл (**coord_format_id = 2**):\n",
    "\n",
    "> АБВГД 48.01388889 38.79638889 07:59 АБВГД 48.01416667 38.90555556 07:53 ..."
   ]
  },
  {
   "cell_type": "code",
   "execution_count": 3,
   "metadata": {
    "cellView": "form",
    "colab": {
     "base_uri": "https://localhost:8080/",
     "height": 36
    },
    "id": "5LlwSeAMmLs3",
    "outputId": "eb7623a6-62ec-4b96-f39d-400fdbcb8850"
   },
   "outputs": [
    {
     "data": {
      "text/plain": [
       "'49.698824, 37.142584  (MGRS): 49.698164, 37.151901'"
      ]
     },
     "execution_count": 3,
     "metadata": {},
     "output_type": "execute_result"
    }
   ],
   "source": [
    "#@title СКОПІЮЙТЕ ВХІДНИЙ ТЕКСТ СЮДИ:\n",
    "\n",
    "text = '49.698824, 37.142584  (MGRS): 49.698164, 37.151901' #@param {type:\"string\"}\n",
    "\n",
    "text"
   ]
  },
  {
   "cell_type": "markdown",
   "metadata": {
    "id": "R5CpL1XM-UEt"
   },
   "source": [
    "## Розрахунок"
   ]
  },
  {
   "cell_type": "code",
   "execution_count": 4,
   "metadata": {
    "colab": {
     "base_uri": "https://localhost:8080/"
    },
    "id": "dHqfAf2w56VT",
    "outputId": "8f0c431b-3c80-4bf2-9fa3-47266b4aa69b"
   },
   "outputs": [
    {
     "name": "stdout",
     "output_type": "stream",
     "text": [
      "Кількість точок: 2\n",
      "Центроїд:\n",
      "49.698494, 37.147243\n",
      "№, коорд, відстань (м):\n",
      "1, 49.698824, 37.142584, 337.1\n",
      "2, 49.698164, 37.151901, 337.1\n",
      "Середня відстань (м) - 337.1\n",
      "76.0% точок розміщені у колі діаметром 674.1 м\n"
     ]
    }
   ],
   "source": [
    "map = centroid_main(text, coord_format_id=coord_format_id, perctl=perctl, \\\n",
    "                    zoom_start=zoom_start, html_page=html_page)"
   ]
  },
  {
   "cell_type": "markdown",
   "metadata": {
    "id": "Lx0hGfRb-bEj"
   },
   "source": [
    "## Візуалізація"
   ]
  },
  {
   "cell_type": "code",
   "execution_count": 12,
   "metadata": {},
   "outputs": [
    {
     "data": {
      "text/html": [
       "<div style=\"width:100%;\"><div style=\"position:relative;width:100%;height:0;padding-bottom:60%;\"><span style=\"color:#565656\">Make this Notebook Trusted to load map: File -> Trust Notebook</span><iframe srcdoc=\"&lt;!DOCTYPE html&gt;\n",
       "&lt;head&gt;    \n",
       "    &lt;meta http-equiv=&quot;content-type&quot; content=&quot;text/html; charset=UTF-8&quot; /&gt;\n",
       "    \n",
       "        &lt;script&gt;\n",
       "            L_NO_TOUCH = false;\n",
       "            L_DISABLE_3D = false;\n",
       "        &lt;/script&gt;\n",
       "    \n",
       "    &lt;style&gt;html, body {width: 100%;height: 100%;margin: 0;padding: 0;}&lt;/style&gt;\n",
       "    &lt;style&gt;#map {position:absolute;top:0;bottom:0;right:0;left:0;}&lt;/style&gt;\n",
       "    &lt;script src=&quot;https://cdn.jsdelivr.net/npm/leaflet@1.6.0/dist/leaflet.js&quot;&gt;&lt;/script&gt;\n",
       "    &lt;script src=&quot;https://code.jquery.com/jquery-1.12.4.min.js&quot;&gt;&lt;/script&gt;\n",
       "    &lt;script src=&quot;https://maxcdn.bootstrapcdn.com/bootstrap/3.2.0/js/bootstrap.min.js&quot;&gt;&lt;/script&gt;\n",
       "    &lt;script src=&quot;https://cdnjs.cloudflare.com/ajax/libs/Leaflet.awesome-markers/2.0.2/leaflet.awesome-markers.js&quot;&gt;&lt;/script&gt;\n",
       "    &lt;link rel=&quot;stylesheet&quot; href=&quot;https://cdn.jsdelivr.net/npm/leaflet@1.6.0/dist/leaflet.css&quot;/&gt;\n",
       "    &lt;link rel=&quot;stylesheet&quot; href=&quot;https://maxcdn.bootstrapcdn.com/bootstrap/3.2.0/css/bootstrap.min.css&quot;/&gt;\n",
       "    &lt;link rel=&quot;stylesheet&quot; href=&quot;https://maxcdn.bootstrapcdn.com/bootstrap/3.2.0/css/bootstrap-theme.min.css&quot;/&gt;\n",
       "    &lt;link rel=&quot;stylesheet&quot; href=&quot;https://maxcdn.bootstrapcdn.com/font-awesome/4.6.3/css/font-awesome.min.css&quot;/&gt;\n",
       "    &lt;link rel=&quot;stylesheet&quot; href=&quot;https://cdnjs.cloudflare.com/ajax/libs/Leaflet.awesome-markers/2.0.2/leaflet.awesome-markers.css&quot;/&gt;\n",
       "    &lt;link rel=&quot;stylesheet&quot; href=&quot;https://cdn.jsdelivr.net/gh/python-visualization/folium/folium/templates/leaflet.awesome.rotate.min.css&quot;/&gt;\n",
       "    \n",
       "            &lt;meta name=&quot;viewport&quot; content=&quot;width=device-width,\n",
       "                initial-scale=1.0, maximum-scale=1.0, user-scalable=no&quot; /&gt;\n",
       "            &lt;style&gt;\n",
       "                #map_5b29aedd93d6e5f536ce0b38d8dd488e {\n",
       "                    position: relative;\n",
       "                    width: 100.0%;\n",
       "                    height: 100.0%;\n",
       "                    left: 0.0%;\n",
       "                    top: 0.0%;\n",
       "                }\n",
       "            &lt;/style&gt;\n",
       "        \n",
       "&lt;/head&gt;\n",
       "&lt;body&gt;    \n",
       "    \n",
       "            &lt;div class=&quot;folium-map&quot; id=&quot;map_5b29aedd93d6e5f536ce0b38d8dd488e&quot; &gt;&lt;/div&gt;\n",
       "        \n",
       "&lt;/body&gt;\n",
       "&lt;script&gt;    \n",
       "    \n",
       "            var map_5b29aedd93d6e5f536ce0b38d8dd488e = L.map(\n",
       "                &quot;map_5b29aedd93d6e5f536ce0b38d8dd488e&quot;,\n",
       "                {\n",
       "                    center: [49.6984940934205, 37.14724253163639],\n",
       "                    crs: L.CRS.EPSG3857,\n",
       "                    zoom: 17,\n",
       "                    zoomControl: true,\n",
       "                    preferCanvas: false,\n",
       "                }\n",
       "            );\n",
       "\n",
       "            \n",
       "\n",
       "        \n",
       "    \n",
       "            var tile_layer_37f5ee84c0bc9b0d15c6061dd9b12aa5 = L.tileLayer(\n",
       "                &quot;https://{s}.tile.openstreetmap.org/{z}/{x}/{y}.png&quot;,\n",
       "                {&quot;attribution&quot;: &quot;Data by \\u0026copy; \\u003ca href=\\&quot;http://openstreetmap.org\\&quot;\\u003eOpenStreetMap\\u003c/a\\u003e, under \\u003ca href=\\&quot;http://www.openstreetmap.org/copyright\\&quot;\\u003eODbL\\u003c/a\\u003e.&quot;, &quot;detectRetina&quot;: false, &quot;maxNativeZoom&quot;: 18, &quot;maxZoom&quot;: 18, &quot;minZoom&quot;: 0, &quot;noWrap&quot;: false, &quot;opacity&quot;: 1, &quot;subdomains&quot;: &quot;abc&quot;, &quot;tms&quot;: false}\n",
       "            ).addTo(map_5b29aedd93d6e5f536ce0b38d8dd488e);\n",
       "        \n",
       "    \n",
       "            var circle_marker_4055899ecabb1aa9d9b97e877d664edc = L.circleMarker(\n",
       "                [49.698824, 37.142584],\n",
       "                {&quot;bubblingMouseEvents&quot;: true, &quot;color&quot;: &quot;red&quot;, &quot;dashArray&quot;: null, &quot;dashOffset&quot;: null, &quot;fill&quot;: &quot;red&quot;, &quot;fillColor&quot;: &quot;red&quot;, &quot;fillOpacity&quot;: 0.2, &quot;fillRule&quot;: &quot;evenodd&quot;, &quot;lineCap&quot;: &quot;round&quot;, &quot;lineJoin&quot;: &quot;round&quot;, &quot;opacity&quot;: 1.0, &quot;radius&quot;: 5, &quot;stroke&quot;: true, &quot;weight&quot;: 3}\n",
       "            ).addTo(map_5b29aedd93d6e5f536ce0b38d8dd488e);\n",
       "        \n",
       "    \n",
       "            var marker_217418a566f8d03d94edbf13cef173fe = L.marker(\n",
       "                [49.698824, 37.142584],\n",
       "                {}\n",
       "            ).addTo(map_5b29aedd93d6e5f536ce0b38d8dd488e);\n",
       "        \n",
       "    \n",
       "            var div_icon_43d40ed534f59fd2febd2869ef326535 = L.divIcon({&quot;className&quot;: &quot;empty&quot;, &quot;html&quot;: &quot;\\u003cdiv style=\\&quot;font-size: 16pt; color: red\\&quot;\\u003e1\\u003c/div\\u003e&quot;, &quot;iconAnchor&quot;: [0, 0], &quot;iconSize&quot;: [150, 36]});\n",
       "            marker_217418a566f8d03d94edbf13cef173fe.setIcon(div_icon_43d40ed534f59fd2febd2869ef326535);\n",
       "        \n",
       "    \n",
       "            var circle_marker_936dfc6d0667f478f6e7c68157e0d167 = L.circleMarker(\n",
       "                [49.698164, 37.151901],\n",
       "                {&quot;bubblingMouseEvents&quot;: true, &quot;color&quot;: &quot;red&quot;, &quot;dashArray&quot;: null, &quot;dashOffset&quot;: null, &quot;fill&quot;: &quot;red&quot;, &quot;fillColor&quot;: &quot;red&quot;, &quot;fillOpacity&quot;: 0.2, &quot;fillRule&quot;: &quot;evenodd&quot;, &quot;lineCap&quot;: &quot;round&quot;, &quot;lineJoin&quot;: &quot;round&quot;, &quot;opacity&quot;: 1.0, &quot;radius&quot;: 5, &quot;stroke&quot;: true, &quot;weight&quot;: 3}\n",
       "            ).addTo(map_5b29aedd93d6e5f536ce0b38d8dd488e);\n",
       "        \n",
       "    \n",
       "            var marker_527cfa563cfeca5b63cc0f832220465d = L.marker(\n",
       "                [49.698164, 37.151901],\n",
       "                {}\n",
       "            ).addTo(map_5b29aedd93d6e5f536ce0b38d8dd488e);\n",
       "        \n",
       "    \n",
       "            var div_icon_f07c1b673768d704ac62da7541403dfe = L.divIcon({&quot;className&quot;: &quot;empty&quot;, &quot;html&quot;: &quot;\\u003cdiv style=\\&quot;font-size: 16pt; color: red\\&quot;\\u003e2\\u003c/div\\u003e&quot;, &quot;iconAnchor&quot;: [0, 0], &quot;iconSize&quot;: [150, 36]});\n",
       "            marker_527cfa563cfeca5b63cc0f832220465d.setIcon(div_icon_f07c1b673768d704ac62da7541403dfe);\n",
       "        \n",
       "    \n",
       "            var circle_marker_5aab8498227f8962d275a040a04bf151 = L.circleMarker(\n",
       "                [49.6984940934205, 37.14724253163639],\n",
       "                {&quot;bubblingMouseEvents&quot;: true, &quot;color&quot;: &quot;blue&quot;, &quot;dashArray&quot;: null, &quot;dashOffset&quot;: null, &quot;fill&quot;: &quot;blue&quot;, &quot;fillColor&quot;: &quot;blue&quot;, &quot;fillOpacity&quot;: 0.2, &quot;fillRule&quot;: &quot;evenodd&quot;, &quot;lineCap&quot;: &quot;round&quot;, &quot;lineJoin&quot;: &quot;round&quot;, &quot;opacity&quot;: 1.0, &quot;radius&quot;: 5, &quot;stroke&quot;: true, &quot;weight&quot;: 3}\n",
       "            ).addTo(map_5b29aedd93d6e5f536ce0b38d8dd488e);\n",
       "        \n",
       "    \n",
       "            var marker_aad3d6f00ffa591d0f54f34b90fe1cd1 = L.marker(\n",
       "                [49.6984940934205, 37.14724253163639],\n",
       "                {}\n",
       "            ).addTo(map_5b29aedd93d6e5f536ce0b38d8dd488e);\n",
       "        \n",
       "    \n",
       "            var div_icon_ed78cf9fbef6d096039c813679fb2722 = L.divIcon({&quot;className&quot;: &quot;empty&quot;, &quot;html&quot;: &quot;\\u003cdiv style=\\&quot;font-size: 16pt; color: blue\\&quot;\\u003e\\u0426\\u0435\\u043d\\u0442\\u0440\\u003c/div\\u003e&quot;, &quot;iconAnchor&quot;: [0, 0], &quot;iconSize&quot;: [150, 36]});\n",
       "            marker_aad3d6f00ffa591d0f54f34b90fe1cd1.setIcon(div_icon_ed78cf9fbef6d096039c813679fb2722);\n",
       "        \n",
       "    \n",
       "            var poly_line_b1eb0f862289d9fe5ef13d8ad8a074b7 = L.polyline(\n",
       "                [[49.698824, 37.142584], [49.6984940934205, 37.14724253163639]],\n",
       "                {&quot;bubblingMouseEvents&quot;: true, &quot;color&quot;: &quot;red&quot;, &quot;dashArray&quot;: null, &quot;dashOffset&quot;: null, &quot;fill&quot;: false, &quot;fillColor&quot;: &quot;red&quot;, &quot;fillOpacity&quot;: 0.2, &quot;fillRule&quot;: &quot;evenodd&quot;, &quot;lineCap&quot;: &quot;round&quot;, &quot;lineJoin&quot;: &quot;round&quot;, &quot;noClip&quot;: false, &quot;opacity&quot;: 1.0, &quot;smoothFactor&quot;: 1.0, &quot;stroke&quot;: true, &quot;weight&quot;: 3}\n",
       "            ).addTo(map_5b29aedd93d6e5f536ce0b38d8dd488e);\n",
       "        \n",
       "    \n",
       "            var poly_line_f1c8d6f8b577a6a5a2c7e3de15d53b2a = L.polyline(\n",
       "                [[49.698164, 37.151901], [49.6984940934205, 37.14724253163639]],\n",
       "                {&quot;bubblingMouseEvents&quot;: true, &quot;color&quot;: &quot;red&quot;, &quot;dashArray&quot;: null, &quot;dashOffset&quot;: null, &quot;fill&quot;: false, &quot;fillColor&quot;: &quot;red&quot;, &quot;fillOpacity&quot;: 0.2, &quot;fillRule&quot;: &quot;evenodd&quot;, &quot;lineCap&quot;: &quot;round&quot;, &quot;lineJoin&quot;: &quot;round&quot;, &quot;noClip&quot;: false, &quot;opacity&quot;: 1.0, &quot;smoothFactor&quot;: 1.0, &quot;stroke&quot;: true, &quot;weight&quot;: 3}\n",
       "            ).addTo(map_5b29aedd93d6e5f536ce0b38d8dd488e);\n",
       "        \n",
       "    \n",
       "            var circle_284d347fc6c081cabe197f0e0bec9575 = L.circle(\n",
       "                [49.6984940934205, 37.14724253163639],\n",
       "                {&quot;bubblingMouseEvents&quot;: true, &quot;color&quot;: &quot;#3388ff&quot;, &quot;dashArray&quot;: null, &quot;dashOffset&quot;: null, &quot;fill&quot;: false, &quot;fillColor&quot;: &quot;#3388ff&quot;, &quot;fillOpacity&quot;: 0.2, &quot;fillRule&quot;: &quot;evenodd&quot;, &quot;lineCap&quot;: &quot;round&quot;, &quot;lineJoin&quot;: &quot;round&quot;, &quot;opacity&quot;: 1.0, &quot;radius&quot;: 337.0523479202079, &quot;stroke&quot;: true, &quot;weight&quot;: 3}\n",
       "            ).addTo(map_5b29aedd93d6e5f536ce0b38d8dd488e);\n",
       "        \n",
       "&lt;/script&gt;\" style=\"position:absolute;width:100%;height:100%;left:0;top:0;border:none !important;\" allowfullscreen webkitallowfullscreen mozallowfullscreen></iframe></div></div>"
      ],
      "text/plain": [
       "<folium.folium.Map at 0x179c4e900a0>"
      ]
     },
     "metadata": {},
     "output_type": "display_data"
    }
   ],
   "source": [
    "if w_env in ['jupyter-lab', 'jupyter-notebook', 'google.colab']:\n",
    "    display(map)\n",
    "else:\n",
    "    webbrowser.open(html_page)"
   ]
  }
 ],
 "metadata": {
  "colab": {
   "collapsed_sections": [],
   "provenance": []
  },
  "kernelspec": {
   "display_name": "Python 3 (ipykernel)",
   "language": "python",
   "name": "python3"
  },
  "language_info": {
   "codemirror_mode": {
    "name": "ipython",
    "version": 3
   },
   "file_extension": ".py",
   "mimetype": "text/x-python",
   "name": "python",
   "nbconvert_exporter": "python",
   "pygments_lexer": "ipython3",
   "version": "3.8.10"
  }
 },
 "nbformat": 4,
 "nbformat_minor": 1
}
