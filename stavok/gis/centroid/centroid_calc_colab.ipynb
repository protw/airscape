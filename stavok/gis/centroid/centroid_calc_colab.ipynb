{
  "nbformat": 4,
  "nbformat_minor": 0,
  "metadata": {
    "colab": {
      "provenance": [],
      "collapsed_sections": []
    },
    "kernelspec": {
      "name": "python3",
      "display_name": "Python 3"
    },
    "language_info": {
      "name": "python"
    }
  },
  "cells": [
    {
      "cell_type": "markdown",
      "source": [
        "## ІНІЦІАЛІЗАЦІЯ \n",
        "\n",
        "Запускати один раз на початку сесії.\n",
        "\n",
        "Після певного часу відсутності активності Гугл Колаб сервер відключається. Тому, після повторно підключення цей блок потрібно знов запустити."
      ],
      "metadata": {
        "id": "Z9xlOLeY-2xc"
      }
    },
    {
      "cell_type": "code",
      "source": [
        "## ІНІЦІАЛІЗАЦІЯ\n",
        "\n",
        "import sys\n",
        "LoM = sys.modules # List of Modules\n",
        "\n",
        "LoNM = ['pygeodesy', 'centroidutilcolab'] # List of Needed Modules\n",
        "if not all(m in LoM  for m in LoNM):\n",
        "  print('NOT all the needed modules imported')\n",
        "  !pip install PyGeodesy\n",
        "  import pygeodesy\n",
        "  !curl -L -o centroidutilcolab.py https://raw.githubusercontent.com/protw/airscape/master/stavok/gis/centroid/centroid_util_colab.py\n",
        "else:\n",
        "  print('All the needed modules imported')\n",
        "\n",
        "from centroidutilcolab import centroid_main"
      ],
      "metadata": {
        "colab": {
          "base_uri": "https://localhost:8080/"
        },
        "id": "FosnoYg_Y8p_",
        "outputId": "de7cf600-85ec-47a6-8550-0ebffb785042"
      },
      "execution_count": 2,
      "outputs": [
        {
          "output_type": "stream",
          "name": "stdout",
          "text": [
            "All the needed modules imported\n"
          ]
        }
      ]
    },
    {
      "cell_type": "code",
      "source": [
        "#@title Параметри розрахунків\n",
        "\n",
        "format_pattern = [\n",
        "    \"46.7373, 32.8128\", \n",
        "    \"46,7373 / 32,8128\", \n",
        "    \"46.7373 32.8128\"]\n",
        "\n",
        "coord_format = \"46.7373, 32.8128\" #@param [\"46.7373, 32.8128\", \"46,7373 / 32,8128\", \"46.7373 32.8128\"]\n",
        "lat_lon_order = 'LatLon' #@param ['LatLon', 'LonLat']\n",
        "perctl = \"75\" #@param [50, 65, 75, 95]\n",
        "zoom_start = 17 #@param {type:\"slider\", min:11, max:18, step:1}\n",
        "\n",
        "coord_format_id = []\n",
        "for i,_ in enumerate(format_pattern):\n",
        "    if coord_format == format_pattern[i]:\n",
        "        coord_format_id = i\n",
        "        break\n",
        "\n",
        "perctl = float(perctl)\n",
        "\n",
        "print(f'Формат координат: {coord_format}')\n",
        "print(f'Ід формата координат: {coord_format_id}')\n",
        "print(f'Порядок координат: {lat_lon_order}')\n",
        "print(f'Персентиль: {perctl}')\n",
        "print(f'Стартовий зум мапи: {zoom_start}')\n"
      ],
      "metadata": {
        "colab": {
          "base_uri": "https://localhost:8080/"
        },
        "id": "C1rlvbG1fNtB",
        "outputId": "0b6d5501-e32f-4086-fd2a-dbfed893e6af",
        "cellView": "form"
      },
      "execution_count": 4,
      "outputs": [
        {
          "output_type": "stream",
          "name": "stdout",
          "text": [
            "Формат координат: 46.7373, 32.8128\n",
            "Ід формата координат: 0\n",
            "Порядок координат: LatLon\n",
            "Персентиль: 75.0\n",
            "Стартовий зум мапи: 17\n"
          ]
        }
      ]
    },
    {
      "cell_type": "markdown",
      "source": [
        "## Зразки вхідного тексту\n",
        "\n",
        "Десяткова крапка і кома між значеннями (**coord_format_id = 0**):\n",
        "\n",
        ">\t(44.6857, 33.56173); (44.68599, 33.56555); ...  \n",
        "\n",
        "Десяткова кома і дріб (slash) між значеннями (**coord_format_id = 1**):\n",
        "\n",
        "> Lorem ipsum dolor sit 46,736906/ 32,810302 adipiscin, do 46,737364/  32,812807 eiusmod ...\n",
        "\n",
        "Десяткова крапка і пробіл (**coord_format_id = 2**):\n",
        "\n",
        "> АБВГД 48.01388889 38.79638889 07:59 АБВГД 48.01416667 38.90555556 07:53 ..."
      ],
      "metadata": {
        "id": "3vYOW5rBqya6"
      }
    },
    {
      "cell_type": "code",
      "source": [
        "#@title СКОПІЮЙТЕ ВХІДНИЙ ТЕКСТ СЮДИ:\n",
        "\n",
        "text = '49.698824, 37.142584  (MGRS): 49.698164, 37.151901' #@param {type:\"string\"}\n",
        "\n",
        "text"
      ],
      "metadata": {
        "colab": {
          "base_uri": "https://localhost:8080/",
          "height": 36
        },
        "id": "5LlwSeAMmLs3",
        "outputId": "eb7623a6-62ec-4b96-f39d-400fdbcb8850",
        "cellView": "form"
      },
      "execution_count": 5,
      "outputs": [
        {
          "output_type": "execute_result",
          "data": {
            "text/plain": [
              "'49.698824, 37.142584  (MGRS): 49.698164, 37.151901'"
            ],
            "application/vnd.google.colaboratory.intrinsic+json": {
              "type": "string"
            }
          },
          "metadata": {},
          "execution_count": 5
        }
      ]
    },
    {
      "cell_type": "markdown",
      "source": [
        "## Розрахунок"
      ],
      "metadata": {
        "id": "R5CpL1XM-UEt"
      }
    },
    {
      "cell_type": "code",
      "source": [
        "map = centroid_main(text, coord_format_id=coord_format_id, perctl=perctl, zoom_start=zoom_start)"
      ],
      "metadata": {
        "colab": {
          "base_uri": "https://localhost:8080/"
        },
        "id": "dHqfAf2w56VT",
        "outputId": "8f0c431b-3c80-4bf2-9fa3-47266b4aa69b"
      },
      "execution_count": 6,
      "outputs": [
        {
          "output_type": "stream",
          "name": "stdout",
          "text": [
            "Кількість точок: 2\n",
            "Центроїд:\n",
            "49.698494, 37.147243\n",
            "№, коорд, відстань (м):\n",
            "1, 49.698824, 37.142584, 337.1\n",
            "2, 49.698164, 37.151901, 337.1\n",
            "Середня відстань (м) - 337.1\n",
            "75.0% точок розміщені у колі діаметром 674.1 м\n"
          ]
        }
      ]
    },
    {
      "cell_type": "markdown",
      "source": [
        "## Візуалізація"
      ],
      "metadata": {
        "id": "Lx0hGfRb-bEj"
      }
    },
    {
      "cell_type": "code",
      "source": [
        "map"
      ],
      "metadata": {
        "colab": {
          "base_uri": "https://localhost:8080/",
          "height": 866
        },
        "id": "lAHLZge6-Il9",
        "outputId": "9ef39e3a-2858-4b40-c163-946115d60f15"
      },
      "execution_count": 7,
      "outputs": [
        {
          "output_type": "execute_result",
          "data": {
            "text/plain": [
              "<folium.folium.Map at 0x7f320fdfa990>"
            ],
            "text/html": [
              "<div style=\"width:100%;\"><div style=\"position:relative;width:100%;height:0;padding-bottom:60%;\"><span style=\"color:#565656\">Make this Notebook Trusted to load map: File -> Trust Notebook</span><iframe srcdoc=\"&lt;!DOCTYPE html&gt;\n",
              "&lt;head&gt;    \n",
              "    &lt;meta http-equiv=&quot;content-type&quot; content=&quot;text/html; charset=UTF-8&quot; /&gt;\n",
              "    \n",
              "        &lt;script&gt;\n",
              "            L_NO_TOUCH = false;\n",
              "            L_DISABLE_3D = false;\n",
              "        &lt;/script&gt;\n",
              "    \n",
              "    &lt;style&gt;html, body {width: 100%;height: 100%;margin: 0;padding: 0;}&lt;/style&gt;\n",
              "    &lt;style&gt;#map {position:absolute;top:0;bottom:0;right:0;left:0;}&lt;/style&gt;\n",
              "    &lt;script src=&quot;https://cdn.jsdelivr.net/npm/leaflet@1.6.0/dist/leaflet.js&quot;&gt;&lt;/script&gt;\n",
              "    &lt;script src=&quot;https://code.jquery.com/jquery-1.12.4.min.js&quot;&gt;&lt;/script&gt;\n",
              "    &lt;script src=&quot;https://maxcdn.bootstrapcdn.com/bootstrap/3.2.0/js/bootstrap.min.js&quot;&gt;&lt;/script&gt;\n",
              "    &lt;script src=&quot;https://cdnjs.cloudflare.com/ajax/libs/Leaflet.awesome-markers/2.0.2/leaflet.awesome-markers.js&quot;&gt;&lt;/script&gt;\n",
              "    &lt;link rel=&quot;stylesheet&quot; href=&quot;https://cdn.jsdelivr.net/npm/leaflet@1.6.0/dist/leaflet.css&quot;/&gt;\n",
              "    &lt;link rel=&quot;stylesheet&quot; href=&quot;https://maxcdn.bootstrapcdn.com/bootstrap/3.2.0/css/bootstrap.min.css&quot;/&gt;\n",
              "    &lt;link rel=&quot;stylesheet&quot; href=&quot;https://maxcdn.bootstrapcdn.com/bootstrap/3.2.0/css/bootstrap-theme.min.css&quot;/&gt;\n",
              "    &lt;link rel=&quot;stylesheet&quot; href=&quot;https://maxcdn.bootstrapcdn.com/font-awesome/4.6.3/css/font-awesome.min.css&quot;/&gt;\n",
              "    &lt;link rel=&quot;stylesheet&quot; href=&quot;https://cdnjs.cloudflare.com/ajax/libs/Leaflet.awesome-markers/2.0.2/leaflet.awesome-markers.css&quot;/&gt;\n",
              "    &lt;link rel=&quot;stylesheet&quot; href=&quot;https://cdn.jsdelivr.net/gh/python-visualization/folium/folium/templates/leaflet.awesome.rotate.min.css&quot;/&gt;\n",
              "    \n",
              "            &lt;meta name=&quot;viewport&quot; content=&quot;width=device-width,\n",
              "                initial-scale=1.0, maximum-scale=1.0, user-scalable=no&quot; /&gt;\n",
              "            &lt;style&gt;\n",
              "                #map_a8b9ec5a2db67ac3f9f03556ac5ae483 {\n",
              "                    position: relative;\n",
              "                    width: 100.0%;\n",
              "                    height: 100.0%;\n",
              "                    left: 0.0%;\n",
              "                    top: 0.0%;\n",
              "                }\n",
              "            &lt;/style&gt;\n",
              "        \n",
              "&lt;/head&gt;\n",
              "&lt;body&gt;    \n",
              "    \n",
              "            &lt;div class=&quot;folium-map&quot; id=&quot;map_a8b9ec5a2db67ac3f9f03556ac5ae483&quot; &gt;&lt;/div&gt;\n",
              "        \n",
              "&lt;/body&gt;\n",
              "&lt;script&gt;    \n",
              "    \n",
              "            var map_a8b9ec5a2db67ac3f9f03556ac5ae483 = L.map(\n",
              "                &quot;map_a8b9ec5a2db67ac3f9f03556ac5ae483&quot;,\n",
              "                {\n",
              "                    center: [49.6984940934205, 37.14724253163639],\n",
              "                    crs: L.CRS.EPSG3857,\n",
              "                    zoom: 17,\n",
              "                    zoomControl: true,\n",
              "                    preferCanvas: false,\n",
              "                }\n",
              "            );\n",
              "\n",
              "            \n",
              "\n",
              "        \n",
              "    \n",
              "            var tile_layer_53a82f79d1dde572be2ba2762b403e24 = L.tileLayer(\n",
              "                &quot;https://{s}.tile.openstreetmap.org/{z}/{x}/{y}.png&quot;,\n",
              "                {&quot;attribution&quot;: &quot;Data by \\u0026copy; \\u003ca href=\\&quot;http://openstreetmap.org\\&quot;\\u003eOpenStreetMap\\u003c/a\\u003e, under \\u003ca href=\\&quot;http://www.openstreetmap.org/copyright\\&quot;\\u003eODbL\\u003c/a\\u003e.&quot;, &quot;detectRetina&quot;: false, &quot;maxNativeZoom&quot;: 18, &quot;maxZoom&quot;: 18, &quot;minZoom&quot;: 0, &quot;noWrap&quot;: false, &quot;opacity&quot;: 1, &quot;subdomains&quot;: &quot;abc&quot;, &quot;tms&quot;: false}\n",
              "            ).addTo(map_a8b9ec5a2db67ac3f9f03556ac5ae483);\n",
              "        \n",
              "    \n",
              "            var circle_marker_52896b4d4f427677ee2f4498ad66d511 = L.circleMarker(\n",
              "                [49.698824, 37.142584],\n",
              "                {&quot;bubblingMouseEvents&quot;: true, &quot;color&quot;: &quot;red&quot;, &quot;dashArray&quot;: null, &quot;dashOffset&quot;: null, &quot;fill&quot;: &quot;red&quot;, &quot;fillColor&quot;: &quot;red&quot;, &quot;fillOpacity&quot;: 0.2, &quot;fillRule&quot;: &quot;evenodd&quot;, &quot;lineCap&quot;: &quot;round&quot;, &quot;lineJoin&quot;: &quot;round&quot;, &quot;opacity&quot;: 1.0, &quot;radius&quot;: 5, &quot;stroke&quot;: true, &quot;weight&quot;: 3}\n",
              "            ).addTo(map_a8b9ec5a2db67ac3f9f03556ac5ae483);\n",
              "        \n",
              "    \n",
              "            var marker_7aeb77f08c48cb0abcace08d68843d15 = L.marker(\n",
              "                [49.698824, 37.142584],\n",
              "                {}\n",
              "            ).addTo(map_a8b9ec5a2db67ac3f9f03556ac5ae483);\n",
              "        \n",
              "    \n",
              "            var div_icon_2b74d6818d247dc4629d7fed35f43f19 = L.divIcon({&quot;className&quot;: &quot;empty&quot;, &quot;html&quot;: &quot;\\u003cdiv style=\\&quot;font-size: 16pt; color: red\\&quot;\\u003e1\\u003c/div\\u003e&quot;, &quot;iconAnchor&quot;: [0, 0], &quot;iconSize&quot;: [150, 36]});\n",
              "            marker_7aeb77f08c48cb0abcace08d68843d15.setIcon(div_icon_2b74d6818d247dc4629d7fed35f43f19);\n",
              "        \n",
              "    \n",
              "            var circle_marker_e52799f76e292247a92beee3d12c32b4 = L.circleMarker(\n",
              "                [49.698164, 37.151901],\n",
              "                {&quot;bubblingMouseEvents&quot;: true, &quot;color&quot;: &quot;red&quot;, &quot;dashArray&quot;: null, &quot;dashOffset&quot;: null, &quot;fill&quot;: &quot;red&quot;, &quot;fillColor&quot;: &quot;red&quot;, &quot;fillOpacity&quot;: 0.2, &quot;fillRule&quot;: &quot;evenodd&quot;, &quot;lineCap&quot;: &quot;round&quot;, &quot;lineJoin&quot;: &quot;round&quot;, &quot;opacity&quot;: 1.0, &quot;radius&quot;: 5, &quot;stroke&quot;: true, &quot;weight&quot;: 3}\n",
              "            ).addTo(map_a8b9ec5a2db67ac3f9f03556ac5ae483);\n",
              "        \n",
              "    \n",
              "            var marker_e1dc729d433fb78f5d8738db70926c1e = L.marker(\n",
              "                [49.698164, 37.151901],\n",
              "                {}\n",
              "            ).addTo(map_a8b9ec5a2db67ac3f9f03556ac5ae483);\n",
              "        \n",
              "    \n",
              "            var div_icon_aeee6dbef0a33655bbc039a7308db98a = L.divIcon({&quot;className&quot;: &quot;empty&quot;, &quot;html&quot;: &quot;\\u003cdiv style=\\&quot;font-size: 16pt; color: red\\&quot;\\u003e2\\u003c/div\\u003e&quot;, &quot;iconAnchor&quot;: [0, 0], &quot;iconSize&quot;: [150, 36]});\n",
              "            marker_e1dc729d433fb78f5d8738db70926c1e.setIcon(div_icon_aeee6dbef0a33655bbc039a7308db98a);\n",
              "        \n",
              "    \n",
              "            var circle_marker_1d996ee8f3ae7818e979bdb1a5499927 = L.circleMarker(\n",
              "                [49.6984940934205, 37.14724253163639],\n",
              "                {&quot;bubblingMouseEvents&quot;: true, &quot;color&quot;: &quot;blue&quot;, &quot;dashArray&quot;: null, &quot;dashOffset&quot;: null, &quot;fill&quot;: &quot;blue&quot;, &quot;fillColor&quot;: &quot;blue&quot;, &quot;fillOpacity&quot;: 0.2, &quot;fillRule&quot;: &quot;evenodd&quot;, &quot;lineCap&quot;: &quot;round&quot;, &quot;lineJoin&quot;: &quot;round&quot;, &quot;opacity&quot;: 1.0, &quot;radius&quot;: 5, &quot;stroke&quot;: true, &quot;weight&quot;: 3}\n",
              "            ).addTo(map_a8b9ec5a2db67ac3f9f03556ac5ae483);\n",
              "        \n",
              "    \n",
              "            var marker_fdbcad40f80f735bcbf1d21293c122c5 = L.marker(\n",
              "                [49.6984940934205, 37.14724253163639],\n",
              "                {}\n",
              "            ).addTo(map_a8b9ec5a2db67ac3f9f03556ac5ae483);\n",
              "        \n",
              "    \n",
              "            var div_icon_886888542a283621179381899d564721 = L.divIcon({&quot;className&quot;: &quot;empty&quot;, &quot;html&quot;: &quot;\\u003cdiv style=\\&quot;font-size: 16pt; color: blue\\&quot;\\u003e\\u0426\\u0435\\u043d\\u0442\\u0440\\u003c/div\\u003e&quot;, &quot;iconAnchor&quot;: [0, 0], &quot;iconSize&quot;: [150, 36]});\n",
              "            marker_fdbcad40f80f735bcbf1d21293c122c5.setIcon(div_icon_886888542a283621179381899d564721);\n",
              "        \n",
              "    \n",
              "            var poly_line_90a74ff44496799d8c7a6230e607805c = L.polyline(\n",
              "                [[49.698824, 37.142584], [49.6984940934205, 37.14724253163639]],\n",
              "                {&quot;bubblingMouseEvents&quot;: true, &quot;color&quot;: &quot;red&quot;, &quot;dashArray&quot;: null, &quot;dashOffset&quot;: null, &quot;fill&quot;: false, &quot;fillColor&quot;: &quot;red&quot;, &quot;fillOpacity&quot;: 0.2, &quot;fillRule&quot;: &quot;evenodd&quot;, &quot;lineCap&quot;: &quot;round&quot;, &quot;lineJoin&quot;: &quot;round&quot;, &quot;noClip&quot;: false, &quot;opacity&quot;: 1.0, &quot;smoothFactor&quot;: 1.0, &quot;stroke&quot;: true, &quot;weight&quot;: 3}\n",
              "            ).addTo(map_a8b9ec5a2db67ac3f9f03556ac5ae483);\n",
              "        \n",
              "    \n",
              "            var poly_line_4a2396634042a548e6898b7587d751a0 = L.polyline(\n",
              "                [[49.698164, 37.151901], [49.6984940934205, 37.14724253163639]],\n",
              "                {&quot;bubblingMouseEvents&quot;: true, &quot;color&quot;: &quot;red&quot;, &quot;dashArray&quot;: null, &quot;dashOffset&quot;: null, &quot;fill&quot;: false, &quot;fillColor&quot;: &quot;red&quot;, &quot;fillOpacity&quot;: 0.2, &quot;fillRule&quot;: &quot;evenodd&quot;, &quot;lineCap&quot;: &quot;round&quot;, &quot;lineJoin&quot;: &quot;round&quot;, &quot;noClip&quot;: false, &quot;opacity&quot;: 1.0, &quot;smoothFactor&quot;: 1.0, &quot;stroke&quot;: true, &quot;weight&quot;: 3}\n",
              "            ).addTo(map_a8b9ec5a2db67ac3f9f03556ac5ae483);\n",
              "        \n",
              "    \n",
              "            var circle_70f01ae303b86a093bcedca3d0498866 = L.circle(\n",
              "                [49.6984940934205, 37.14724253163639],\n",
              "                {&quot;bubblingMouseEvents&quot;: true, &quot;color&quot;: &quot;#3388ff&quot;, &quot;dashArray&quot;: null, &quot;dashOffset&quot;: null, &quot;fill&quot;: false, &quot;fillColor&quot;: &quot;#3388ff&quot;, &quot;fillOpacity&quot;: 0.2, &quot;fillRule&quot;: &quot;evenodd&quot;, &quot;lineCap&quot;: &quot;round&quot;, &quot;lineJoin&quot;: &quot;round&quot;, &quot;opacity&quot;: 1.0, &quot;radius&quot;: 337.0523479207351, &quot;stroke&quot;: true, &quot;weight&quot;: 3}\n",
              "            ).addTo(map_a8b9ec5a2db67ac3f9f03556ac5ae483);\n",
              "        \n",
              "&lt;/script&gt;\" style=\"position:absolute;width:100%;height:100%;left:0;top:0;border:none !important;\" allowfullscreen webkitallowfullscreen mozallowfullscreen></iframe></div></div>"
            ]
          },
          "metadata": {},
          "execution_count": 7
        }
      ]
    }
  ]
}