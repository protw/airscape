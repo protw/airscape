{
  "nbformat": 4,
  "nbformat_minor": 0,
  "metadata": {
    "colab": {
      "provenance": [],
      "collapsed_sections": []
    },
    "kernelspec": {
      "name": "python3",
      "display_name": "Python 3"
    },
    "language_info": {
      "name": "python"
    }
  },
  "cells": [
    {
      "cell_type": "markdown",
      "source": [
        "## ІНІЦІАЛІЗАЦІЯ \n",
        "\n",
        "Запускати один раз на початку сесії.\n",
        "\n",
        "Після певного часу відсутності активності Гугл Колаб сервер відключається. Тому, після повторно підключення цей блок потрібно знов запустити."
      ],
      "metadata": {
        "id": "Z9xlOLeY-2xc"
      }
    },
    {
      "cell_type": "code",
      "source": [
        "#@title ІНІЦІАЛІЗАЦІЯ\n",
        "\n",
        "import sys, os\n",
        "\n",
        "# IN_COLAB == True if Jupyter Notebook running under Google Colab\n",
        "IN_COLAB = 'google.colab' in sys.modules \n",
        "\n",
        "if IN_COLAB:\n",
        "  # Mount google drive in google colab\n",
        "  from google.colab import drive\n",
        "  drive.mount('/content/drive')\n",
        "\n",
        "  # Insert the directory\n",
        "  sys.path.insert(0,'/content/drive/My Drive/Colab Notebooks')\n",
        "\n",
        "  if not 'pygeodesy' in sys.modules:\n",
        "    os.system('pip install PyGeodesy')\n",
        "\n",
        "# Import my module\n",
        "from centroid_util_colab import centroid_main, working_env\n",
        "\n",
        "w_env = working_env()\n",
        "print(f'Working environment: {w_env}')\n",
        "\n",
        "import webbrowser\n",
        "from IPython.display import display"
      ],
      "metadata": {
        "id": "FosnoYg_Y8p_",
        "cellView": "form"
      },
      "execution_count": null,
      "outputs": []
    },
    {
      "cell_type": "code",
      "source": [
        "#@title Параметри розрахунків\n",
        "\n",
        "format_pattern = [\n",
        "    \"46.7373, 32.8128\", \n",
        "    \"46,7373 / 32,8128\", \n",
        "    \"46.7373 32.8128\"]\n",
        "html_page = 'centroid_map.html'\n",
        "\n",
        "coord_format = \"46.7373, 32.8128\" #@param [\"46.7373, 32.8128\", \"46,7373 / 32,8128\", \"46.7373 32.8128\"]\n",
        "lat_lon_order = 'LatLon' #@param ['LatLon', 'LonLat']\n",
        "perctl = \"75\" #@param [50, 65, 75, 95]\n",
        "zoom_start = 17 #@param {type:\"slider\", min:11, max:18, step:1}\n",
        "\n",
        "coord_format_id = format_pattern.index(coord_format)\n",
        "perctl = float(perctl)\n",
        "\n",
        "print(f'Формат координат: {coord_format}')\n",
        "print(f'Ід формата координат: {coord_format_id}')\n",
        "print(f'Порядок координат: {lat_lon_order}')\n",
        "print(f'Персентиль: {perctl}')\n",
        "print(f'Стартовий зум мапи: {zoom_start}')\n"
      ],
      "metadata": {
        "id": "C1rlvbG1fNtB",
        "cellView": "form"
      },
      "execution_count": null,
      "outputs": []
    },
    {
      "cell_type": "markdown",
      "source": [
        "## Зразки вхідного тексту\n",
        "\n",
        "Десяткова крапка і кома між значеннями (**coord_format_id = 0**):\n",
        "\n",
        ">\t(44.6857, 33.56173); (44.68599, 33.56555); ...  \n",
        "\n",
        "Десяткова кома і дріб (slash) між значеннями (**coord_format_id = 1**):\n",
        "\n",
        "> Lorem ipsum dolor sit 46,736906/ 32,810302 adipiscin, do 46,737364/  32,812807 eiusmod ...\n",
        "\n",
        "Десяткова крапка і пробіл (**coord_format_id = 2**):\n",
        "\n",
        "> АБВГД 48.01388889 38.79638889 07:59 АБВГД 48.01416667 38.90555556 07:53 ..."
      ],
      "metadata": {
        "id": "3vYOW5rBqya6"
      }
    },
    {
      "cell_type": "code",
      "source": [
        "#@title СКОПІЮЙТЕ ВХІДНИЙ ТЕКСТ СЮДИ:\n",
        "\n",
        "text = '47.600139, 37.328760 \\u043F\\u043E 47.601340, 37.322856' #@param {type:\"string\"}\n",
        "\n",
        "text"
      ],
      "metadata": {
        "id": "5LlwSeAMmLs3",
        "cellView": "form"
      },
      "execution_count": null,
      "outputs": []
    },
    {
      "cell_type": "markdown",
      "source": [
        "## Розрахунок"
      ],
      "metadata": {
        "id": "R5CpL1XM-UEt"
      }
    },
    {
      "cell_type": "code",
      "source": [
        "#@title РОЗРАХУНОК\n",
        "map = centroid_main(text, coord_format_id=coord_format_id, perctl=perctl, \\\n",
        "                    zoom_start=zoom_start, html_page=html_page)"
      ],
      "metadata": {
        "id": "dHqfAf2w56VT",
        "cellView": "form"
      },
      "execution_count": null,
      "outputs": []
    },
    {
      "cell_type": "markdown",
      "source": [
        "## Візуалізація"
      ],
      "metadata": {
        "id": "Lx0hGfRb-bEj"
      }
    },
    {
      "cell_type": "code",
      "source": [
        "#@title ВІЗУАЛІЗАЦІЯ\n",
        "if w_env in ['jupyter-lab', 'jupyter-notebook', 'google.colab']:\n",
        "    display(map)\n",
        "else:\n",
        "    webbrowser.open(html_page)\n"
      ],
      "metadata": {
        "id": "fFginMBdO4LG",
        "cellView": "form"
      },
      "execution_count": null,
      "outputs": []
    }
  ]
}