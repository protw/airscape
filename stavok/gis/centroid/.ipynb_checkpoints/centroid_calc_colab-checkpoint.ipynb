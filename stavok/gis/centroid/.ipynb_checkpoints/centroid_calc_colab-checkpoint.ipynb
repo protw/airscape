{
 "cells": [
  {
   "cell_type": "markdown",
   "metadata": {
    "id": "Z9xlOLeY-2xc"
   },
   "source": [
    "## ІНІЦІАЛІЗАЦІЯ \n",
    "\n",
    "Запускати один раз на початку сесії.\n",
    "\n",
    "Після певного часу відсутності активності Гугл Колаб сервер відключається. Тому, після повторно підключення цей блок потрібно знов запустити."
   ]
  },
  {
   "cell_type": "code",
   "execution_count": 1,
   "metadata": {
    "colab": {
     "base_uri": "https://localhost:8080/"
    },
    "id": "FosnoYg_Y8p_",
    "outputId": "d4f22785-e271-409c-afbf-114ebcdb56a8"
   },
   "outputs": [
    {
     "name": "stdout",
     "output_type": "stream",
     "text": [
      "Working environment: jupyter-notebook\n"
     ]
    }
   ],
   "source": [
    "## ІНІЦІАЛІЗАЦІЯ\n",
    "import sys, os\n",
    "\n",
    "# IN_COLAB == True if Jupyter Notebook running under Google Colab\n",
    "IN_COLAB = 'google.colab' in sys.modules \n",
    "\n",
    "if IN_COLAB:\n",
    "  # Mount google drive in google colab\n",
    "  from google.colab import drive\n",
    "  drive.mount('/content/drive')\n",
    "\n",
    "  # Insert the directory\n",
    "  sys.path.insert(0,'/content/drive/My Drive/Colab Notebooks')\n",
    "\n",
    "  if not 'pygeodesy' in sys.modules:\n",
    "    os.system('pip install PyGeodesy')\n",
    "\n",
    "# Import my module\n",
    "from centroid_util_colab import centroid_main, working_env\n",
    "\n",
    "w_env = working_env()\n",
    "print(f'Working environment: {w_env}')\n",
    "\n",
    "import webbrowser\n",
    "from IPython.display import display"
   ]
  },
  {
   "cell_type": "code",
   "execution_count": 2,
   "metadata": {
    "cellView": "form",
    "colab": {
     "base_uri": "https://localhost:8080/"
    },
    "id": "C1rlvbG1fNtB",
    "outputId": "3c94e292-ed72-4b59-f5ac-d47e0720f180"
   },
   "outputs": [
    {
     "name": "stdout",
     "output_type": "stream",
     "text": [
      "Формат координат: 46.7373, 32.8128\n",
      "Ід формата координат: 0\n",
      "Порядок координат: LatLon\n",
      "Персентиль: 75.0\n",
      "Стартовий зум мапи: 17\n"
     ]
    }
   ],
   "source": [
    "#@title Параметри розрахунків\n",
    "\n",
    "format_pattern = [\n",
    "    \"46.7373, 32.8128\", \n",
    "    \"46,7373 / 32,8128\", \n",
    "    \"46.7373 32.8128\"]\n",
    "html_page = 'centroid_map.html'\n",
    "\n",
    "coord_format = \"46.7373, 32.8128\" #@param [\"46.7373, 32.8128\", \"46,7373 / 32,8128\", \"46.7373 32.8128\"]\n",
    "lat_lon_order = 'LatLon' #@param ['LatLon', 'LonLat']\n",
    "perctl = \"75\" #@param [50, 65, 75, 95]\n",
    "zoom_start = 17 #@param {type:\"slider\", min:11, max:18, step:1}\n",
    "\n",
    "coord_format_id = format_pattern.index(coord_format)\n",
    "perctl = float(perctl)\n",
    "\n",
    "print(f'Формат координат: {coord_format}')\n",
    "print(f'Ід формата координат: {coord_format_id}')\n",
    "print(f'Порядок координат: {lat_lon_order}')\n",
    "print(f'Персентиль: {perctl}')\n",
    "print(f'Стартовий зум мапи: {zoom_start}')\n"
   ]
  },
  {
   "cell_type": "markdown",
   "metadata": {
    "id": "3vYOW5rBqya6"
   },
   "source": [
    "## Зразки вхідного тексту\n",
    "\n",
    "Десяткова крапка і кома між значеннями (**coord_format_id = 0**):\n",
    "\n",
    ">\t(44.6857, 33.56173); (44.68599, 33.56555); ...  \n",
    "\n",
    "Десяткова кома і дріб (slash) між значеннями (**coord_format_id = 1**):\n",
    "\n",
    "> Lorem ipsum dolor sit 46,736906/ 32,810302 adipiscin, do 46,737364/  32,812807 eiusmod ...\n",
    "\n",
    "Десяткова крапка і пробіл (**coord_format_id = 2**):\n",
    "\n",
    "> АБВГД 48.01388889 38.79638889 07:59 АБВГД 48.01416667 38.90555556 07:53 ..."
   ]
  },
  {
   "cell_type": "code",
   "execution_count": 3,
   "metadata": {
    "cellView": "form",
    "colab": {
     "base_uri": "https://localhost:8080/",
     "height": 36
    },
    "id": "5LlwSeAMmLs3",
    "outputId": "d52f9abd-f31a-4ee8-e99b-1808bffd641f"
   },
   "outputs": [
    {
     "data": {
      "text/plain": [
       "'49.698824, 37.142584  (MGRS): 49.698164, 37.151901'"
      ]
     },
     "execution_count": 3,
     "metadata": {},
     "output_type": "execute_result"
    }
   ],
   "source": [
    "#@title СКОПІЮЙТЕ ВХІДНИЙ ТЕКСТ СЮДИ:\n",
    "\n",
    "text = '49.698824, 37.142584  (MGRS): 49.698164, 37.151901' #@param {type:\"string\"}\n",
    "\n",
    "text"
   ]
  },
  {
   "cell_type": "markdown",
   "metadata": {
    "id": "R5CpL1XM-UEt"
   },
   "source": [
    "## Розрахунок"
   ]
  },
  {
   "cell_type": "code",
   "execution_count": 4,
   "metadata": {
    "colab": {
     "base_uri": "https://localhost:8080/"
    },
    "id": "dHqfAf2w56VT",
    "outputId": "f297023b-42c3-4b4f-f61d-27b85dd8f087"
   },
   "outputs": [
    {
     "name": "stdout",
     "output_type": "stream",
     "text": [
      "Кількість точок: 2\n",
      "Центроїд:\n",
      "49.698494, 37.147243\n",
      "№, коорд, відстань (м):\n",
      "1, 49.698824, 37.142584, 337.1\n",
      "2, 49.698164, 37.151901, 337.1\n",
      "Середня відстань (м) - 337.1\n",
      "75.0% точок розміщені у колі діаметром 674.1 м\n"
     ]
    }
   ],
   "source": [
    "map = centroid_main(text, coord_format_id=coord_format_id, perctl=perctl, \\\n",
    "                    zoom_start=zoom_start, html_page=html_page)"
   ]
  },
  {
   "cell_type": "markdown",
   "metadata": {
    "id": "Lx0hGfRb-bEj"
   },
   "source": [
    "## Візуалізація"
   ]
  },
  {
   "cell_type": "code",
   "execution_count": 5,
   "metadata": {
    "colab": {
     "base_uri": "https://localhost:8080/",
     "height": 866
    },
    "id": "fFginMBdO4LG",
    "outputId": "f5bd14e5-76a0-4f78-ab95-d11c2201385f"
   },
   "outputs": [
    {
     "data": {
      "text/html": [
       "<div style=\"width:100%;\"><div style=\"position:relative;width:100%;height:0;padding-bottom:60%;\"><span style=\"color:#565656\">Make this Notebook Trusted to load map: File -> Trust Notebook</span><iframe srcdoc=\"&lt;!DOCTYPE html&gt;\n",
       "&lt;head&gt;    \n",
       "    &lt;meta http-equiv=&quot;content-type&quot; content=&quot;text/html; charset=UTF-8&quot; /&gt;\n",
       "    \n",
       "        &lt;script&gt;\n",
       "            L_NO_TOUCH = false;\n",
       "            L_DISABLE_3D = false;\n",
       "        &lt;/script&gt;\n",
       "    \n",
       "    &lt;style&gt;html, body {width: 100%;height: 100%;margin: 0;padding: 0;}&lt;/style&gt;\n",
       "    &lt;style&gt;#map {position:absolute;top:0;bottom:0;right:0;left:0;}&lt;/style&gt;\n",
       "    &lt;script src=&quot;https://cdn.jsdelivr.net/npm/leaflet@1.6.0/dist/leaflet.js&quot;&gt;&lt;/script&gt;\n",
       "    &lt;script src=&quot;https://code.jquery.com/jquery-1.12.4.min.js&quot;&gt;&lt;/script&gt;\n",
       "    &lt;script src=&quot;https://maxcdn.bootstrapcdn.com/bootstrap/3.2.0/js/bootstrap.min.js&quot;&gt;&lt;/script&gt;\n",
       "    &lt;script src=&quot;https://cdnjs.cloudflare.com/ajax/libs/Leaflet.awesome-markers/2.0.2/leaflet.awesome-markers.js&quot;&gt;&lt;/script&gt;\n",
       "    &lt;link rel=&quot;stylesheet&quot; href=&quot;https://cdn.jsdelivr.net/npm/leaflet@1.6.0/dist/leaflet.css&quot;/&gt;\n",
       "    &lt;link rel=&quot;stylesheet&quot; href=&quot;https://maxcdn.bootstrapcdn.com/bootstrap/3.2.0/css/bootstrap.min.css&quot;/&gt;\n",
       "    &lt;link rel=&quot;stylesheet&quot; href=&quot;https://maxcdn.bootstrapcdn.com/bootstrap/3.2.0/css/bootstrap-theme.min.css&quot;/&gt;\n",
       "    &lt;link rel=&quot;stylesheet&quot; href=&quot;https://maxcdn.bootstrapcdn.com/font-awesome/4.6.3/css/font-awesome.min.css&quot;/&gt;\n",
       "    &lt;link rel=&quot;stylesheet&quot; href=&quot;https://cdnjs.cloudflare.com/ajax/libs/Leaflet.awesome-markers/2.0.2/leaflet.awesome-markers.css&quot;/&gt;\n",
       "    &lt;link rel=&quot;stylesheet&quot; href=&quot;https://cdn.jsdelivr.net/gh/python-visualization/folium/folium/templates/leaflet.awesome.rotate.min.css&quot;/&gt;\n",
       "    \n",
       "            &lt;meta name=&quot;viewport&quot; content=&quot;width=device-width,\n",
       "                initial-scale=1.0, maximum-scale=1.0, user-scalable=no&quot; /&gt;\n",
       "            &lt;style&gt;\n",
       "                #map_3d2d1768c991db915524ee4cb8c6c5b6 {\n",
       "                    position: relative;\n",
       "                    width: 100.0%;\n",
       "                    height: 100.0%;\n",
       "                    left: 0.0%;\n",
       "                    top: 0.0%;\n",
       "                }\n",
       "            &lt;/style&gt;\n",
       "        \n",
       "&lt;/head&gt;\n",
       "&lt;body&gt;    \n",
       "    \n",
       "            &lt;div class=&quot;folium-map&quot; id=&quot;map_3d2d1768c991db915524ee4cb8c6c5b6&quot; &gt;&lt;/div&gt;\n",
       "        \n",
       "&lt;/body&gt;\n",
       "&lt;script&gt;    \n",
       "    \n",
       "            var map_3d2d1768c991db915524ee4cb8c6c5b6 = L.map(\n",
       "                &quot;map_3d2d1768c991db915524ee4cb8c6c5b6&quot;,\n",
       "                {\n",
       "                    center: [49.6984940934205, 37.14724253163639],\n",
       "                    crs: L.CRS.EPSG3857,\n",
       "                    zoom: 17,\n",
       "                    zoomControl: true,\n",
       "                    preferCanvas: false,\n",
       "                }\n",
       "            );\n",
       "\n",
       "            \n",
       "\n",
       "        \n",
       "    \n",
       "            var tile_layer_3aa15103ce42cc124b953b73aedbd6e4 = L.tileLayer(\n",
       "                &quot;https://{s}.tile.openstreetmap.org/{z}/{x}/{y}.png&quot;,\n",
       "                {&quot;attribution&quot;: &quot;Data by \\u0026copy; \\u003ca href=\\&quot;http://openstreetmap.org\\&quot;\\u003eOpenStreetMap\\u003c/a\\u003e, under \\u003ca href=\\&quot;http://www.openstreetmap.org/copyright\\&quot;\\u003eODbL\\u003c/a\\u003e.&quot;, &quot;detectRetina&quot;: false, &quot;maxNativeZoom&quot;: 18, &quot;maxZoom&quot;: 18, &quot;minZoom&quot;: 0, &quot;noWrap&quot;: false, &quot;opacity&quot;: 1, &quot;subdomains&quot;: &quot;abc&quot;, &quot;tms&quot;: false}\n",
       "            ).addTo(map_3d2d1768c991db915524ee4cb8c6c5b6);\n",
       "        \n",
       "    \n",
       "            var circle_marker_d4a8664edb07fc081b6b34cac0514ad1 = L.circleMarker(\n",
       "                [49.698824, 37.142584],\n",
       "                {&quot;bubblingMouseEvents&quot;: true, &quot;color&quot;: &quot;red&quot;, &quot;dashArray&quot;: null, &quot;dashOffset&quot;: null, &quot;fill&quot;: &quot;red&quot;, &quot;fillColor&quot;: &quot;red&quot;, &quot;fillOpacity&quot;: 0.2, &quot;fillRule&quot;: &quot;evenodd&quot;, &quot;lineCap&quot;: &quot;round&quot;, &quot;lineJoin&quot;: &quot;round&quot;, &quot;opacity&quot;: 1.0, &quot;radius&quot;: 5, &quot;stroke&quot;: true, &quot;weight&quot;: 3}\n",
       "            ).addTo(map_3d2d1768c991db915524ee4cb8c6c5b6);\n",
       "        \n",
       "    \n",
       "            var marker_55f14f92a12c7efbe925552963a56ee5 = L.marker(\n",
       "                [49.698824, 37.142584],\n",
       "                {}\n",
       "            ).addTo(map_3d2d1768c991db915524ee4cb8c6c5b6);\n",
       "        \n",
       "    \n",
       "            var div_icon_6f5f75b7a34f628719dde2a08a7fb39a = L.divIcon({&quot;className&quot;: &quot;empty&quot;, &quot;html&quot;: &quot;\\u003cdiv style=\\&quot;font-size: 16pt; color: red\\&quot;\\u003e1\\u003c/div\\u003e&quot;, &quot;iconAnchor&quot;: [0, 0], &quot;iconSize&quot;: [150, 36]});\n",
       "            marker_55f14f92a12c7efbe925552963a56ee5.setIcon(div_icon_6f5f75b7a34f628719dde2a08a7fb39a);\n",
       "        \n",
       "    \n",
       "            var circle_marker_43b95fe486e1a433d3fd08b561b5937f = L.circleMarker(\n",
       "                [49.698164, 37.151901],\n",
       "                {&quot;bubblingMouseEvents&quot;: true, &quot;color&quot;: &quot;red&quot;, &quot;dashArray&quot;: null, &quot;dashOffset&quot;: null, &quot;fill&quot;: &quot;red&quot;, &quot;fillColor&quot;: &quot;red&quot;, &quot;fillOpacity&quot;: 0.2, &quot;fillRule&quot;: &quot;evenodd&quot;, &quot;lineCap&quot;: &quot;round&quot;, &quot;lineJoin&quot;: &quot;round&quot;, &quot;opacity&quot;: 1.0, &quot;radius&quot;: 5, &quot;stroke&quot;: true, &quot;weight&quot;: 3}\n",
       "            ).addTo(map_3d2d1768c991db915524ee4cb8c6c5b6);\n",
       "        \n",
       "    \n",
       "            var marker_7ba23c255845c04dbd5d5de74606dedc = L.marker(\n",
       "                [49.698164, 37.151901],\n",
       "                {}\n",
       "            ).addTo(map_3d2d1768c991db915524ee4cb8c6c5b6);\n",
       "        \n",
       "    \n",
       "            var div_icon_0ba733eab48454588ae996c8a6e75b10 = L.divIcon({&quot;className&quot;: &quot;empty&quot;, &quot;html&quot;: &quot;\\u003cdiv style=\\&quot;font-size: 16pt; color: red\\&quot;\\u003e2\\u003c/div\\u003e&quot;, &quot;iconAnchor&quot;: [0, 0], &quot;iconSize&quot;: [150, 36]});\n",
       "            marker_7ba23c255845c04dbd5d5de74606dedc.setIcon(div_icon_0ba733eab48454588ae996c8a6e75b10);\n",
       "        \n",
       "    \n",
       "            var circle_marker_96215fc95b5ff481422c56eeb8cb6c33 = L.circleMarker(\n",
       "                [49.6984940934205, 37.14724253163639],\n",
       "                {&quot;bubblingMouseEvents&quot;: true, &quot;color&quot;: &quot;blue&quot;, &quot;dashArray&quot;: null, &quot;dashOffset&quot;: null, &quot;fill&quot;: &quot;blue&quot;, &quot;fillColor&quot;: &quot;blue&quot;, &quot;fillOpacity&quot;: 0.2, &quot;fillRule&quot;: &quot;evenodd&quot;, &quot;lineCap&quot;: &quot;round&quot;, &quot;lineJoin&quot;: &quot;round&quot;, &quot;opacity&quot;: 1.0, &quot;radius&quot;: 5, &quot;stroke&quot;: true, &quot;weight&quot;: 3}\n",
       "            ).addTo(map_3d2d1768c991db915524ee4cb8c6c5b6);\n",
       "        \n",
       "    \n",
       "            var marker_ba1eee2b40e50bf128dd61c60ea33e9e = L.marker(\n",
       "                [49.6984940934205, 37.14724253163639],\n",
       "                {}\n",
       "            ).addTo(map_3d2d1768c991db915524ee4cb8c6c5b6);\n",
       "        \n",
       "    \n",
       "            var div_icon_a4fa942e469fc5f92677e84b10b52db9 = L.divIcon({&quot;className&quot;: &quot;empty&quot;, &quot;html&quot;: &quot;\\u003cdiv style=\\&quot;font-size: 16pt; color: blue\\&quot;\\u003e\\u0426\\u0435\\u043d\\u0442\\u0440\\u003c/div\\u003e&quot;, &quot;iconAnchor&quot;: [0, 0], &quot;iconSize&quot;: [150, 36]});\n",
       "            marker_ba1eee2b40e50bf128dd61c60ea33e9e.setIcon(div_icon_a4fa942e469fc5f92677e84b10b52db9);\n",
       "        \n",
       "    \n",
       "            var poly_line_82e73e30967536a441e77c095db9cb5d = L.polyline(\n",
       "                [[49.698824, 37.142584], [49.6984940934205, 37.14724253163639]],\n",
       "                {&quot;bubblingMouseEvents&quot;: true, &quot;color&quot;: &quot;red&quot;, &quot;dashArray&quot;: null, &quot;dashOffset&quot;: null, &quot;fill&quot;: false, &quot;fillColor&quot;: &quot;red&quot;, &quot;fillOpacity&quot;: 0.2, &quot;fillRule&quot;: &quot;evenodd&quot;, &quot;lineCap&quot;: &quot;round&quot;, &quot;lineJoin&quot;: &quot;round&quot;, &quot;noClip&quot;: false, &quot;opacity&quot;: 1.0, &quot;smoothFactor&quot;: 1.0, &quot;stroke&quot;: true, &quot;weight&quot;: 3}\n",
       "            ).addTo(map_3d2d1768c991db915524ee4cb8c6c5b6);\n",
       "        \n",
       "    \n",
       "            var poly_line_1b3ad3b55a42fa6c17eb7b71f1298df3 = L.polyline(\n",
       "                [[49.698164, 37.151901], [49.6984940934205, 37.14724253163639]],\n",
       "                {&quot;bubblingMouseEvents&quot;: true, &quot;color&quot;: &quot;red&quot;, &quot;dashArray&quot;: null, &quot;dashOffset&quot;: null, &quot;fill&quot;: false, &quot;fillColor&quot;: &quot;red&quot;, &quot;fillOpacity&quot;: 0.2, &quot;fillRule&quot;: &quot;evenodd&quot;, &quot;lineCap&quot;: &quot;round&quot;, &quot;lineJoin&quot;: &quot;round&quot;, &quot;noClip&quot;: false, &quot;opacity&quot;: 1.0, &quot;smoothFactor&quot;: 1.0, &quot;stroke&quot;: true, &quot;weight&quot;: 3}\n",
       "            ).addTo(map_3d2d1768c991db915524ee4cb8c6c5b6);\n",
       "        \n",
       "    \n",
       "            var circle_555bee26d10defa7fb8b117621c8d8c1 = L.circle(\n",
       "                [49.6984940934205, 37.14724253163639],\n",
       "                {&quot;bubblingMouseEvents&quot;: true, &quot;color&quot;: &quot;#3388ff&quot;, &quot;dashArray&quot;: null, &quot;dashOffset&quot;: null, &quot;fill&quot;: false, &quot;fillColor&quot;: &quot;#3388ff&quot;, &quot;fillOpacity&quot;: 0.2, &quot;fillRule&quot;: &quot;evenodd&quot;, &quot;lineCap&quot;: &quot;round&quot;, &quot;lineJoin&quot;: &quot;round&quot;, &quot;opacity&quot;: 1.0, &quot;radius&quot;: 337.05234792018496, &quot;stroke&quot;: true, &quot;weight&quot;: 3}\n",
       "            ).addTo(map_3d2d1768c991db915524ee4cb8c6c5b6);\n",
       "        \n",
       "&lt;/script&gt;\" style=\"position:absolute;width:100%;height:100%;left:0;top:0;border:none !important;\" allowfullscreen webkitallowfullscreen mozallowfullscreen></iframe></div></div>"
      ],
      "text/plain": [
       "<folium.folium.Map at 0x2487c38a970>"
      ]
     },
     "metadata": {},
     "output_type": "display_data"
    }
   ],
   "source": [
    "if w_env in ['jupyter-lab', 'jupyter-notebook', 'google.colab']:\n",
    "    display(map)\n",
    "else:\n",
    "    webbrowser.open(html_page)\n"
   ]
  },
  {
   "cell_type": "code",
   "execution_count": null,
   "metadata": {},
   "outputs": [],
   "source": []
  }
 ],
 "metadata": {
  "colab": {
   "collapsed_sections": [],
   "provenance": []
  },
  "kernelspec": {
   "display_name": "Python 3 (ipykernel)",
   "language": "python",
   "name": "python3"
  },
  "language_info": {
   "codemirror_mode": {
    "name": "ipython",
    "version": 3
   },
   "file_extension": ".py",
   "mimetype": "text/x-python",
   "name": "python",
   "nbconvert_exporter": "python",
   "pygments_lexer": "ipython3",
   "version": "3.8.10"
  }
 },
 "nbformat": 4,
 "nbformat_minor": 1
}
