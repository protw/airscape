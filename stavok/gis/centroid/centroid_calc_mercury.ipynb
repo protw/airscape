{
 "cells": [
  {
   "cell_type": "raw",
   "metadata": {},
   "source": [
    "---\n",
    "title: Geo centroid\n",
    "author: oleghbond\n",
    "description: Знайти центроїд (центр мас) всіх гео точок, що згадуюються в звичайному тексті, оцінити розмір групи і відобразити все це на мапі.\n",
    "show-code: False\n",
    "params:\n",
    "    coord_format:\n",
    "        input: select\n",
    "        label: Формат координат\n",
    "        value: \"46.7373, 32.8128\"\n",
    "        choices: [\"46.7373, 32.8128\", \"46,7373 / 32,8128\", \"46.7373 32.8128\"]\n",
    "        multi: False\n",
    "    lat_lon_order:\n",
    "        input: select\n",
    "        label: Порядок широти і довготи\n",
    "        value: LatLon\n",
    "        choices: [LatLon, LonLat]\n",
    "        multi: False\n",
    "    perctl:\n",
    "        input: numeric\n",
    "        label: Відсоток включених до кола\n",
    "        value: 75\n",
    "        min: 50\n",
    "        max: 95\n",
    "        step: 5\n",
    "    zoom_start:\n",
    "        input: numeric\n",
    "        label: Початковий масштаб мапи\n",
    "        value: 16\n",
    "        min: 11\n",
    "        max: 18\n",
    "        step: 1\n",
    "    text:\n",
    "        input: text\n",
    "        label: ВХІДНИЙ ТЕКСТ\n",
    "        value: скопіюйте вхідний текст сюди...\n",
    "        rows: 3\n",
    "---"
   ]
  },
  {
   "cell_type": "code",
   "execution_count": null,
   "metadata": {},
   "outputs": [],
   "source": [
    "coord_format = \"46.7373, 32.8128\" #@param [\"46.7373, 32.8128\", \"46,7373 / 32,8128\", \"46.7373 32.8128\"]\n",
    "lat_lon_order = 'LatLon' #@param ['LatLon', 'LonLat']\n",
    "perctl = \"75\" #@param [50, 65, 75, 95]\n",
    "zoom_start = 17 #@param {type:\"slider\", min:11, max:18, step:1}\n",
    "\n",
    "text = '47.600139, 37.328760 \\u043F\\u043E 47.601340, 37.322856' #@param {type:\"string\"}\n"
   ]
  },
  {
   "cell_type": "markdown",
   "metadata": {
    "id": "Z9xlOLeY-2xc"
   },
   "source": [
    "## ІНІЦІАЛІЗАЦІЯ \n",
    "\n",
    "Запускати один раз на початку сесії.\n",
    "\n",
    "Після певного часу відсутності активності Гугл Колаб сервер відключається. Тому, після повторно підключення цей блок потрібно знов запустити."
   ]
  },
  {
   "cell_type": "code",
   "execution_count": 1,
   "metadata": {
    "cellView": "form",
    "id": "FosnoYg_Y8p_"
   },
   "outputs": [
    {
     "name": "stdout",
     "output_type": "stream",
     "text": [
      "Working environment: jupyter-notebook\n"
     ]
    }
   ],
   "source": [
    "# Імпорт бібліотек\n",
    "\n",
    "import sys, os\n",
    "from IPython.display import display\n",
    "\n",
    "# Import my module\n",
    "from centroid_util_colab import centroid_main, working_env\n",
    "\n",
    "w_env = working_env()\n",
    "print(f'Working environment: {w_env}')\n"
   ]
  },
  {
   "cell_type": "code",
   "execution_count": 3,
   "metadata": {
    "cellView": "form",
    "id": "C1rlvbG1fNtB"
   },
   "outputs": [
    {
     "name": "stdout",
     "output_type": "stream",
     "text": [
      "Формат координат: 46.7373, 32.8128\n",
      "Ід формата координат: 0\n",
      "Порядок координат: LatLon\n",
      "Персентиль: 75.0\n",
      "Стартовий зум мапи: 17\n"
     ]
    }
   ],
   "source": [
    "## Параметри розрахунків\n",
    "\n",
    "format_pattern = [\n",
    "    \"46.7373, 32.8128\", \n",
    "    \"46,7373 / 32,8128\", \n",
    "    \"46.7373 32.8128\"]\n",
    "html_page = 'centroid_map.html'\n",
    "\n",
    "coord_format_id = format_pattern.index(coord_format)\n",
    "perctl = float(perctl)\n",
    "\n",
    "print(f'Формат координат: \"{coord_format}\" (coord_format_id: {coord_format_id})')\n",
    "print(f'Порядок широти і довготи: \"{lat_lon_order}\"')\n",
    "print(f'Персентиль: {perctl:.0f} %')\n",
    "print(f'Стартовий зум мапи: {zoom_start}')\n",
    "print(f'Вхідний текст: \"{text}\"')"
   ]
  },
  {
   "cell_type": "markdown",
   "metadata": {
    "id": "3vYOW5rBqya6"
   },
   "source": [
    "## Зразки вхідного тексту\n",
    "\n",
    "Десяткова крапка і кома між значеннями (**coord_format_id = 0**): `(44.6857, 33.56173); (44.68599, 33.56555); ...`  \n",
    "\n",
    "Десяткова кома і дріб (slash) між значеннями (**coord_format_id = 1**): `Lorem ipsum dolor sit 46,736906/ 32,810302 adipiscin, do 46,737364/  32,812807 eiusmod ...`\n",
    "\n",
    "Десяткова крапка і пробіл (**coord_format_id = 2**): `АБВГД 48.01388889 38.79638889 07:59 АБВГД 48.01416667 38.90555556 07:53 ...`"
   ]
  },
  {
   "cell_type": "markdown",
   "metadata": {
    "id": "R5CpL1XM-UEt"
   },
   "source": [
    "## Розрахунок"
   ]
  },
  {
   "cell_type": "code",
   "execution_count": null,
   "metadata": {
    "cellView": "form",
    "id": "dHqfAf2w56VT"
   },
   "outputs": [],
   "source": [
    "## РОЗРАХУНОК\n",
    "\n",
    "map = centroid_main(text, coord_format_id=coord_format_id, perctl=perctl, \n",
    "                    zoom_start=zoom_start, html_page=html_page)"
   ]
  },
  {
   "cell_type": "markdown",
   "metadata": {
    "id": "Lx0hGfRb-bEj"
   },
   "source": [
    "## Візуалізація"
   ]
  },
  {
   "cell_type": "code",
   "execution_count": null,
   "metadata": {
    "cellView": "form",
    "id": "fFginMBdO4LG"
   },
   "outputs": [],
   "source": [
    "## ВІЗУАЛІЗАЦІЯ\n",
    "\n",
    "display(map)"
   ]
  }
 ],
 "metadata": {
  "colab": {
   "collapsed_sections": [],
   "provenance": []
  },
  "kernelspec": {
   "display_name": "Python 3 (ipykernel)",
   "language": "python",
   "name": "python3"
  },
  "language_info": {
   "codemirror_mode": {
    "name": "ipython",
    "version": 3
   },
   "file_extension": ".py",
   "mimetype": "text/x-python",
   "name": "python",
   "nbconvert_exporter": "python",
   "pygments_lexer": "ipython3",
   "version": "3.8.10"
  }
 },
 "nbformat": 4,
 "nbformat_minor": 1
}
