{
 "cells": [
  {
   "cell_type": "markdown",
   "metadata": {
    "id": "k9kk8UGfdpmO"
   },
   "source": [
    "*Polyglot* - це безкоштовне програмне забезпечення: ліцензія GPLv3, споряджене\n",
    "документацією: http://polyglot.readthedocs.org, що призначене для обробки природної мови (ОПМ, *англ* natural language processing NLP).\n",
    "\n",
    "*Polyglot* підтримує багато мов:\n",
    "\n",
    "- Токенізація (165 мов)\n",
    "- Виявлення мови (196 мов)\n",
    "- Розпізнавання іменованої особи (40 мов)\n",
    "- Частина позначення мовлення (16 мов)\n",
    "- Аналіз настроїв (136 мов)\n",
    "- Вбудовування слів (137 мов)\n",
    "- Морфологічний аналіз (135 мов)\n",
    "- Транслітерація (69 мов)\n",
    "\n",
    "У кожному з представлених функціоналів наявна українська мова!\n",
    "\n",
    "Матеріал цієї статті базується на оригінальній статті [Python Packages for NLP-Part 1 | by Himanshu Sharma | Towards Data Science](https://towardsdatascience.com/python-packages-for-nlp-part-1-2d49126749ef)"
   ]
  },
  {
   "cell_type": "markdown",
   "metadata": {
    "id": "zbNTlF1brC8y"
   },
   "source": [
    "## Встановлюємо Polyglot та інші необхідні бібліотеки\n",
    "\n",
    "> На жаль, на локальному комп'ютері під Windows не вийшло все так прямолінійно, як хотілось - багато бінарних файлів в бібліотеках або не скомпільовані або скомпільовані під інші версії, що створює помилки і завдає багато зайвого клопоту, щоб налаштовувати все вручну!\n",
    ">\n",
    "> Здається, що під ОС Linux все має встановлюватись без проблем. Але це треба перевірити.\n",
    "\n",
    "Для цієї статті ми використали *Google Colab*. Код нижче встановлюємо *polyglot* та інші необхідні бібліотеки. Встанавлення пройшло гладко."
   ]
  },
  {
   "cell_type": "code",
   "execution_count": 1,
   "metadata": {
    "colab": {
     "base_uri": "https://localhost:8080/"
    },
    "executionInfo": {
     "elapsed": 67556,
     "status": "ok",
     "timestamp": 1632481948222,
     "user": {
      "displayName": "Олег Бондаренко",
      "photoUrl": "https://lh3.googleusercontent.com/a-/AOh14GgKPJtSybeaGt-jZIDoc0OlWa8sav467Jhk9gECUWJHpPt1YJ9-1ohuGsYcQvnlqqoJ-YcqIGIETtY18tJWuDo6sBCRwfR6f5dbW0gRTj7Xd_PcCYQCU-Ho_hiXV3ZG37Huj2CWzm3mwRlJ_miaTlzFXrbCsCRu7FehX01C8WL0cSGodNoOh52FUUxfNg-SrYlw_mLSaF_j29dFcGkR5R1YGsfW3S_zFwAA265y13-JX8fVEw1G-R3q4aHGq_cBGCZPRONCUv0yYJe41c4j9oFg3g6ae09Bc-u9KY8eHj8HZv46q3juogcDGH3GV532Vx5j_wx5dtQqEBSpEUrneDBue5wrwxPk4f-RFQORlKhdinLKxuVF-3u7_hUEUm8_kXmH03Q-gYluHmYLpqrbZFido6IEUirNOFqk3xFOzf-pqzAB5MmmxccFU2maQ6JSZ2_aN9xcSAi4q9hCzpWqOKh8cU5sUnufAfwD5NQIZiSNlFpK4DH2JTCpUxG-bIMkqg194lfe9s7xqCGDd8_PsgjwHGbZS978iSo9Y4cHY869bhfMeL8P8J5MxrneZn_gxXkRr8SfhJDBIlV6B2yR3SKXS46l7GLZvLG5rr2Ivx2c7_AeL825xEtez44IEldliawBHa8yon6VuFy7dB1dw_pE7qpmcoTDb80Dw1HavmreFZenQy5mDrqrtxmy9aI3ZD57FfSgjvK5xigZo-QVS9dweuCizAAIaz2odDFNE1k3Vd4jwTUjyJLLMBuD7zliOiPxHw=s64",
      "userId": "16914417916602868801"
     },
     "user_tz": -180
    },
    "id": "kBTP_s-bqFl4",
    "outputId": "01cc86ec-47eb-4002-a4ce-8bbbb29efda5"
   },
   "outputs": [
    {
     "name": "stdout",
     "output_type": "stream",
     "text": [
      "Collecting polyglot\n",
      "  Downloading polyglot-16.7.4.tar.gz (126 kB)\n",
      "\u001b[K     |████████████████████████████████| 126 kB 7.1 MB/s eta 0:00:01\n",
      "\u001b[?25hBuilding wheels for collected packages: polyglot\n",
      "  Building wheel for polyglot (setup.py) ... \u001b[?25l\u001b[?25hdone\n",
      "  Created wheel for polyglot: filename=polyglot-16.7.4-py2.py3-none-any.whl size=52578 sha256=8ac146875e2abf73dad5309c12fa3f781cb90c8e047b0dc501c7643de3a72cec\n",
      "  Stored in directory: /root/.cache/pip/wheels/09/bc/67/75c9de8e9726460bc0b101ad225ad025cb8ce9e0759beb9d52\n",
      "Successfully built polyglot\n",
      "Installing collected packages: polyglot\n",
      "Successfully installed polyglot-16.7.4\n",
      "Collecting pyicu\n",
      "  Downloading PyICU-2.7.4.tar.gz (298 kB)\n",
      "\u001b[K     |████████████████████████████████| 298 kB 7.5 MB/s \n",
      "\u001b[?25hBuilding wheels for collected packages: pyicu\n",
      "  Building wheel for pyicu (setup.py) ... \u001b[?25l\u001b[?25hdone\n",
      "  Created wheel for pyicu: filename=PyICU-2.7.4-cp37-cp37m-linux_x86_64.whl size=1374735 sha256=322231159ffd92a39d3aee103065045bebff3fb8381d042b350e9a0c597ba218\n",
      "  Stored in directory: /root/.cache/pip/wheels/c4/3a/c8/2d2397cd8f6cd04489ecac3d1e6821bb4938d73312d69b834f\n",
      "Successfully built pyicu\n",
      "Installing collected packages: pyicu\n",
      "Successfully installed pyicu-2.7.4\n",
      "Collecting pycld2\n",
      "  Downloading pycld2-0.41.tar.gz (41.4 MB)\n",
      "\u001b[K     |████████████████████████████████| 41.4 MB 38 kB/s \n",
      "\u001b[?25hBuilding wheels for collected packages: pycld2\n",
      "  Building wheel for pycld2 (setup.py) ... \u001b[?25l\u001b[?25hdone\n",
      "  Created wheel for pycld2: filename=pycld2-0.41-cp37-cp37m-linux_x86_64.whl size=9834269 sha256=8bf71d328c4f5852467214ac1dce937eaaa4b1a98af3386119e000718c4b1ca3\n",
      "  Stored in directory: /root/.cache/pip/wheels/ed/e4/58/ed2e9f43c07d617cc81fe7aff0fc6e42b16c9cf6afe960b614\n",
      "Successfully built pycld2\n",
      "Installing collected packages: pycld2\n",
      "Successfully installed pycld2-0.41\n",
      "Collecting morfessor\n",
      "  Downloading Morfessor-2.0.6-py3-none-any.whl (35 kB)\n",
      "Installing collected packages: morfessor\n",
      "Successfully installed morfessor-2.0.6\n"
     ]
    }
   ],
   "source": [
    "!pip3 install polyglot\n",
    "!pip3 install pyicu\n",
    "!pip3 install pycld2\n",
    "!pip3 install morfessor"
   ]
  },
  {
   "cell_type": "markdown",
   "metadata": {
    "id": "2e-WeEK7sct6"
   },
   "source": [
    "Після встановлення бібліотек вище також потрібно встановити деякі функції поліглоту, що використовуватимуться у цій статті."
   ]
  },
  {
   "cell_type": "code",
   "execution_count": 2,
   "metadata": {
    "colab": {
     "base_uri": "https://localhost:8080/"
    },
    "executionInfo": {
     "elapsed": 9174,
     "status": "ok",
     "timestamp": 1632482076183,
     "user": {
      "displayName": "Олег Бондаренко",
      "photoUrl": "https://lh3.googleusercontent.com/a-/AOh14GgKPJtSybeaGt-jZIDoc0OlWa8sav467Jhk9gECUWJHpPt1YJ9-1ohuGsYcQvnlqqoJ-YcqIGIETtY18tJWuDo6sBCRwfR6f5dbW0gRTj7Xd_PcCYQCU-Ho_hiXV3ZG37Huj2CWzm3mwRlJ_miaTlzFXrbCsCRu7FehX01C8WL0cSGodNoOh52FUUxfNg-SrYlw_mLSaF_j29dFcGkR5R1YGsfW3S_zFwAA265y13-JX8fVEw1G-R3q4aHGq_cBGCZPRONCUv0yYJe41c4j9oFg3g6ae09Bc-u9KY8eHj8HZv46q3juogcDGH3GV532Vx5j_wx5dtQqEBSpEUrneDBue5wrwxPk4f-RFQORlKhdinLKxuVF-3u7_hUEUm8_kXmH03Q-gYluHmYLpqrbZFido6IEUirNOFqk3xFOzf-pqzAB5MmmxccFU2maQ6JSZ2_aN9xcSAi4q9hCzpWqOKh8cU5sUnufAfwD5NQIZiSNlFpK4DH2JTCpUxG-bIMkqg194lfe9s7xqCGDd8_PsgjwHGbZS978iSo9Y4cHY869bhfMeL8P8J5MxrneZn_gxXkRr8SfhJDBIlV6B2yR3SKXS46l7GLZvLG5rr2Ivx2c7_AeL825xEtez44IEldliawBHa8yon6VuFy7dB1dw_pE7qpmcoTDb80Dw1HavmreFZenQy5mDrqrtxmy9aI3ZD57FfSgjvK5xigZo-QVS9dweuCizAAIaz2odDFNE1k3Vd4jwTUjyJLLMBuD7zliOiPxHw=s64",
      "userId": "16914417916602868801"
     },
     "user_tz": -180
    },
    "id": "uxGrwcj1qNmJ",
    "outputId": "766b2d9e-613e-4af8-9082-fdd033ce60a8"
   },
   "outputs": [
    {
     "name": "stdout",
     "output_type": "stream",
     "text": [
      "[polyglot_data] Downloading package embeddings2.en to\n",
      "[polyglot_data]     /root/polyglot_data...\n",
      "[polyglot_data] Downloading package pos2.en to /root/polyglot_data...\n",
      "[polyglot_data] Downloading package ner2.en to /root/polyglot_data...\n",
      "[polyglot_data] Downloading package morph2.en to\n",
      "[polyglot_data]     /root/polyglot_data...\n",
      "[polyglot_data] Downloading package sentiment2.en to\n",
      "[polyglot_data]     /root/polyglot_data...\n",
      "[polyglot_data] Downloading package transliteration2.hi to\n",
      "[polyglot_data]     /root/polyglot_data...\n"
     ]
    }
   ],
   "source": [
    "!polyglot download embeddings2.en\n",
    "!polyglot download pos2.en\n",
    "!polyglot download ner2.en\n",
    "!polyglot download morph2.en\n",
    "!polyglot download sentiment2.en\n",
    "!polyglot download transliteration2.hi"
   ]
  },
  {
   "cell_type": "markdown",
   "metadata": {
    "id": "Dz3TsEfCczUF"
   },
   "source": [
    "Також встановимо модуль української транслітерації"
   ]
  },
  {
   "cell_type": "code",
   "execution_count": 3,
   "metadata": {
    "colab": {
     "base_uri": "https://localhost:8080/"
    },
    "executionInfo": {
     "elapsed": 1513,
     "status": "ok",
     "timestamp": 1632482084237,
     "user": {
      "displayName": "Олег Бондаренко",
      "photoUrl": "https://lh3.googleusercontent.com/a-/AOh14GgKPJtSybeaGt-jZIDoc0OlWa8sav467Jhk9gECUWJHpPt1YJ9-1ohuGsYcQvnlqqoJ-YcqIGIETtY18tJWuDo6sBCRwfR6f5dbW0gRTj7Xd_PcCYQCU-Ho_hiXV3ZG37Huj2CWzm3mwRlJ_miaTlzFXrbCsCRu7FehX01C8WL0cSGodNoOh52FUUxfNg-SrYlw_mLSaF_j29dFcGkR5R1YGsfW3S_zFwAA265y13-JX8fVEw1G-R3q4aHGq_cBGCZPRONCUv0yYJe41c4j9oFg3g6ae09Bc-u9KY8eHj8HZv46q3juogcDGH3GV532Vx5j_wx5dtQqEBSpEUrneDBue5wrwxPk4f-RFQORlKhdinLKxuVF-3u7_hUEUm8_kXmH03Q-gYluHmYLpqrbZFido6IEUirNOFqk3xFOzf-pqzAB5MmmxccFU2maQ6JSZ2_aN9xcSAi4q9hCzpWqOKh8cU5sUnufAfwD5NQIZiSNlFpK4DH2JTCpUxG-bIMkqg194lfe9s7xqCGDd8_PsgjwHGbZS978iSo9Y4cHY869bhfMeL8P8J5MxrneZn_gxXkRr8SfhJDBIlV6B2yR3SKXS46l7GLZvLG5rr2Ivx2c7_AeL825xEtez44IEldliawBHa8yon6VuFy7dB1dw_pE7qpmcoTDb80Dw1HavmreFZenQy5mDrqrtxmy9aI3ZD57FfSgjvK5xigZo-QVS9dweuCizAAIaz2odDFNE1k3Vd4jwTUjyJLLMBuD7zliOiPxHw=s64",
      "userId": "16914417916602868801"
     },
     "user_tz": -180
    },
    "id": "wq9mxSPMwi8F",
    "outputId": "f5d2bdc5-39fe-4fdd-a0b8-c9a9a859fb45"
   },
   "outputs": [
    {
     "name": "stdout",
     "output_type": "stream",
     "text": [
      "[polyglot_data] Downloading package transliteration2.uk to\n",
      "[polyglot_data]     /root/polyglot_data...\n"
     ]
    }
   ],
   "source": [
    "!polyglot download transliteration2.uk"
   ]
  },
  {
   "cell_type": "code",
   "execution_count": 6,
   "metadata": {
    "executionInfo": {
     "elapsed": 227,
     "status": "ok",
     "timestamp": 1632482294636,
     "user": {
      "displayName": "Олег Бондаренко",
      "photoUrl": "https://lh3.googleusercontent.com/a-/AOh14GgKPJtSybeaGt-jZIDoc0OlWa8sav467Jhk9gECUWJHpPt1YJ9-1ohuGsYcQvnlqqoJ-YcqIGIETtY18tJWuDo6sBCRwfR6f5dbW0gRTj7Xd_PcCYQCU-Ho_hiXV3ZG37Huj2CWzm3mwRlJ_miaTlzFXrbCsCRu7FehX01C8WL0cSGodNoOh52FUUxfNg-SrYlw_mLSaF_j29dFcGkR5R1YGsfW3S_zFwAA265y13-JX8fVEw1G-R3q4aHGq_cBGCZPRONCUv0yYJe41c4j9oFg3g6ae09Bc-u9KY8eHj8HZv46q3juogcDGH3GV532Vx5j_wx5dtQqEBSpEUrneDBue5wrwxPk4f-RFQORlKhdinLKxuVF-3u7_hUEUm8_kXmH03Q-gYluHmYLpqrbZFido6IEUirNOFqk3xFOzf-pqzAB5MmmxccFU2maQ6JSZ2_aN9xcSAi4q9hCzpWqOKh8cU5sUnufAfwD5NQIZiSNlFpK4DH2JTCpUxG-bIMkqg194lfe9s7xqCGDd8_PsgjwHGbZS978iSo9Y4cHY869bhfMeL8P8J5MxrneZn_gxXkRr8SfhJDBIlV6B2yR3SKXS46l7GLZvLG5rr2Ivx2c7_AeL825xEtez44IEldliawBHa8yon6VuFy7dB1dw_pE7qpmcoTDb80Dw1HavmreFZenQy5mDrqrtxmy9aI3ZD57FfSgjvK5xigZo-QVS9dweuCizAAIaz2odDFNE1k3Vd4jwTUjyJLLMBuD7zliOiPxHw=s64",
      "userId": "16914417916602868801"
     },
     "user_tz": -180
    },
    "id": "6yv_MLI4qwAE"
   },
   "outputs": [],
   "source": [
    "import polyglot\n",
    "from polyglot.detect import Detector\n",
    "from polyglot.text import Text, Word\n",
    "from polyglot.mapping import Embedding\n",
    "from polyglot.transliteration import Transliterator"
   ]
  },
  {
   "cell_type": "markdown",
   "metadata": {
    "id": "f4WpBukltmcl"
   },
   "source": [
    "## Виконання операцій ОПМ\n",
    "\n",
    "Давайте почнемо з вивчення деяких функціональних можливостей ОПМ, що надає *polyglot*. Але перед тим введемо деякі зразки даних, над якими будемо працювати."
   ]
  },
  {
   "cell_type": "code",
   "execution_count": 4,
   "metadata": {
    "executionInfo": {
     "elapsed": 235,
     "status": "ok",
     "timestamp": 1632482247080,
     "user": {
      "displayName": "Олег Бондаренко",
      "photoUrl": "https://lh3.googleusercontent.com/a-/AOh14GgKPJtSybeaGt-jZIDoc0OlWa8sav467Jhk9gECUWJHpPt1YJ9-1ohuGsYcQvnlqqoJ-YcqIGIETtY18tJWuDo6sBCRwfR6f5dbW0gRTj7Xd_PcCYQCU-Ho_hiXV3ZG37Huj2CWzm3mwRlJ_miaTlzFXrbCsCRu7FehX01C8WL0cSGodNoOh52FUUxfNg-SrYlw_mLSaF_j29dFcGkR5R1YGsfW3S_zFwAA265y13-JX8fVEw1G-R3q4aHGq_cBGCZPRONCUv0yYJe41c4j9oFg3g6ae09Bc-u9KY8eHj8HZv46q3juogcDGH3GV532Vx5j_wx5dtQqEBSpEUrneDBue5wrwxPk4f-RFQORlKhdinLKxuVF-3u7_hUEUm8_kXmH03Q-gYluHmYLpqrbZFido6IEUirNOFqk3xFOzf-pqzAB5MmmxccFU2maQ6JSZ2_aN9xcSAi4q9hCzpWqOKh8cU5sUnufAfwD5NQIZiSNlFpK4DH2JTCpUxG-bIMkqg194lfe9s7xqCGDd8_PsgjwHGbZS978iSo9Y4cHY869bhfMeL8P8J5MxrneZn_gxXkRr8SfhJDBIlV6B2yR3SKXS46l7GLZvLG5rr2Ivx2c7_AeL825xEtez44IEldliawBHa8yon6VuFy7dB1dw_pE7qpmcoTDb80Dw1HavmreFZenQy5mDrqrtxmy9aI3ZD57FfSgjvK5xigZo-QVS9dweuCizAAIaz2odDFNE1k3Vd4jwTUjyJLLMBuD7zliOiPxHw=s64",
      "userId": "16914417916602868801"
     },
     "user_tz": -180
    },
    "id": "waDfmZm5tvTT"
   },
   "outputs": [],
   "source": [
    "sample_text = '''Piyush is an Aspiring Data Scientist and is working hard to get there. He stood Kaggle grandmaster 4 year consistently. His goal is to work for Google.'''\n",
    "sample_text_ukr = '''Мовлення як вид людської діяльності завжди зорієнтоване на виконання певного комунікативного завдання. Висловлюючи думки і почуття, людина ставить конкретну мету — щось повідомити, про щось переконати тощо. Існує багато визначень тексту.'''"
   ]
  },
  {
   "cell_type": "markdown",
   "metadata": {
    "id": "ysgrzALTuEXm"
   },
   "source": [
    "### Виявлення мови\n",
    "\n",
    "Детектор мови в *polyglot* може легко ідентифікувати мову, на якій написаний текст."
   ]
  },
  {
   "cell_type": "code",
   "execution_count": 7,
   "metadata": {
    "colab": {
     "base_uri": "https://localhost:8080/"
    },
    "executionInfo": {
     "elapsed": 233,
     "status": "ok",
     "timestamp": 1632482301302,
     "user": {
      "displayName": "Олег Бондаренко",
      "photoUrl": "https://lh3.googleusercontent.com/a-/AOh14GgKPJtSybeaGt-jZIDoc0OlWa8sav467Jhk9gECUWJHpPt1YJ9-1ohuGsYcQvnlqqoJ-YcqIGIETtY18tJWuDo6sBCRwfR6f5dbW0gRTj7Xd_PcCYQCU-Ho_hiXV3ZG37Huj2CWzm3mwRlJ_miaTlzFXrbCsCRu7FehX01C8WL0cSGodNoOh52FUUxfNg-SrYlw_mLSaF_j29dFcGkR5R1YGsfW3S_zFwAA265y13-JX8fVEw1G-R3q4aHGq_cBGCZPRONCUv0yYJe41c4j9oFg3g6ae09Bc-u9KY8eHj8HZv46q3juogcDGH3GV532Vx5j_wx5dtQqEBSpEUrneDBue5wrwxPk4f-RFQORlKhdinLKxuVF-3u7_hUEUm8_kXmH03Q-gYluHmYLpqrbZFido6IEUirNOFqk3xFOzf-pqzAB5MmmxccFU2maQ6JSZ2_aN9xcSAi4q9hCzpWqOKh8cU5sUnufAfwD5NQIZiSNlFpK4DH2JTCpUxG-bIMkqg194lfe9s7xqCGDd8_PsgjwHGbZS978iSo9Y4cHY869bhfMeL8P8J5MxrneZn_gxXkRr8SfhJDBIlV6B2yR3SKXS46l7GLZvLG5rr2Ivx2c7_AeL825xEtez44IEldliawBHa8yon6VuFy7dB1dw_pE7qpmcoTDb80Dw1HavmreFZenQy5mDrqrtxmy9aI3ZD57FfSgjvK5xigZo-QVS9dweuCizAAIaz2odDFNE1k3Vd4jwTUjyJLLMBuD7zliOiPxHw=s64",
      "userId": "16914417916602868801"
     },
     "user_tz": -180
    },
    "id": "HJUJcuNYt2YH",
    "outputId": "8ce5a90c-bfec-4bff-afcb-60fa83f98f18"
   },
   "outputs": [
    {
     "name": "stdout",
     "output_type": "stream",
     "text": [
      "name: English     code: en       confidence:  99.0 read bytes:   940\n",
      "name: Ukrainian   code: uk       confidence:  99.0 read bytes:   971\n"
     ]
    }
   ],
   "source": [
    "#Language detection\n",
    "detector = Detector(sample_text)\n",
    "print(detector.language)\n",
    "detector = Detector(sample_text_ukr)\n",
    "print(detector.language)"
   ]
  },
  {
   "cell_type": "markdown",
   "metadata": {
    "id": "3q2HrFKCuc3a"
   },
   "source": [
    "### Речення та слова\n",
    "\n",
    "Для того, щоб витягнути речення або слова з тексту/корпусу, ми можемо використовувати функції *polyglot*."
   ]
  },
  {
   "cell_type": "code",
   "execution_count": 8,
   "metadata": {
    "colab": {
     "base_uri": "https://localhost:8080/"
    },
    "executionInfo": {
     "elapsed": 281,
     "status": "ok",
     "timestamp": 1632482432027,
     "user": {
      "displayName": "Олег Бондаренко",
      "photoUrl": "https://lh3.googleusercontent.com/a-/AOh14GgKPJtSybeaGt-jZIDoc0OlWa8sav467Jhk9gECUWJHpPt1YJ9-1ohuGsYcQvnlqqoJ-YcqIGIETtY18tJWuDo6sBCRwfR6f5dbW0gRTj7Xd_PcCYQCU-Ho_hiXV3ZG37Huj2CWzm3mwRlJ_miaTlzFXrbCsCRu7FehX01C8WL0cSGodNoOh52FUUxfNg-SrYlw_mLSaF_j29dFcGkR5R1YGsfW3S_zFwAA265y13-JX8fVEw1G-R3q4aHGq_cBGCZPRONCUv0yYJe41c4j9oFg3g6ae09Bc-u9KY8eHj8HZv46q3juogcDGH3GV532Vx5j_wx5dtQqEBSpEUrneDBue5wrwxPk4f-RFQORlKhdinLKxuVF-3u7_hUEUm8_kXmH03Q-gYluHmYLpqrbZFido6IEUirNOFqk3xFOzf-pqzAB5MmmxccFU2maQ6JSZ2_aN9xcSAi4q9hCzpWqOKh8cU5sUnufAfwD5NQIZiSNlFpK4DH2JTCpUxG-bIMkqg194lfe9s7xqCGDd8_PsgjwHGbZS978iSo9Y4cHY869bhfMeL8P8J5MxrneZn_gxXkRr8SfhJDBIlV6B2yR3SKXS46l7GLZvLG5rr2Ivx2c7_AeL825xEtez44IEldliawBHa8yon6VuFy7dB1dw_pE7qpmcoTDb80Dw1HavmreFZenQy5mDrqrtxmy9aI3ZD57FfSgjvK5xigZo-QVS9dweuCizAAIaz2odDFNE1k3Vd4jwTUjyJLLMBuD7zliOiPxHw=s64",
      "userId": "16914417916602868801"
     },
     "user_tz": -180
    },
    "id": "vZHY8039uPcb",
    "outputId": "7d73065e-b2b4-4629-f83d-9add53ec62d0"
   },
   "outputs": [
    {
     "data": {
      "text/plain": [
       "WordList(['Piyush', 'is', 'an', 'Aspiring', 'Data', 'Scientist', 'and', 'is', 'working', 'hard', 'to', 'get', 'there', '.', 'He', 'stood', 'Kaggle', 'grandmaster', '4', 'year', 'consistently', '.', 'His', 'goal', 'is', 'to', 'work', 'for', 'Google', '.'])"
      ]
     },
     "execution_count": 8,
     "metadata": {},
     "output_type": "execute_result"
    }
   ],
   "source": [
    "#Tokenize\n",
    "text = Text(sample_text)\n",
    "text.words"
   ]
  },
  {
   "cell_type": "code",
   "execution_count": 9,
   "metadata": {
    "colab": {
     "base_uri": "https://localhost:8080/"
    },
    "executionInfo": {
     "elapsed": 234,
     "status": "ok",
     "timestamp": 1632482437861,
     "user": {
      "displayName": "Олег Бондаренко",
      "photoUrl": "https://lh3.googleusercontent.com/a-/AOh14GgKPJtSybeaGt-jZIDoc0OlWa8sav467Jhk9gECUWJHpPt1YJ9-1ohuGsYcQvnlqqoJ-YcqIGIETtY18tJWuDo6sBCRwfR6f5dbW0gRTj7Xd_PcCYQCU-Ho_hiXV3ZG37Huj2CWzm3mwRlJ_miaTlzFXrbCsCRu7FehX01C8WL0cSGodNoOh52FUUxfNg-SrYlw_mLSaF_j29dFcGkR5R1YGsfW3S_zFwAA265y13-JX8fVEw1G-R3q4aHGq_cBGCZPRONCUv0yYJe41c4j9oFg3g6ae09Bc-u9KY8eHj8HZv46q3juogcDGH3GV532Vx5j_wx5dtQqEBSpEUrneDBue5wrwxPk4f-RFQORlKhdinLKxuVF-3u7_hUEUm8_kXmH03Q-gYluHmYLpqrbZFido6IEUirNOFqk3xFOzf-pqzAB5MmmxccFU2maQ6JSZ2_aN9xcSAi4q9hCzpWqOKh8cU5sUnufAfwD5NQIZiSNlFpK4DH2JTCpUxG-bIMkqg194lfe9s7xqCGDd8_PsgjwHGbZS978iSo9Y4cHY869bhfMeL8P8J5MxrneZn_gxXkRr8SfhJDBIlV6B2yR3SKXS46l7GLZvLG5rr2Ivx2c7_AeL825xEtez44IEldliawBHa8yon6VuFy7dB1dw_pE7qpmcoTDb80Dw1HavmreFZenQy5mDrqrtxmy9aI3ZD57FfSgjvK5xigZo-QVS9dweuCizAAIaz2odDFNE1k3Vd4jwTUjyJLLMBuD7zliOiPxHw=s64",
      "userId": "16914417916602868801"
     },
     "user_tz": -180
    },
    "id": "Je9_tS-xuk6J",
    "outputId": "a600c8a0-ba0a-4667-bb12-fad6f8c60bf7"
   },
   "outputs": [
    {
     "data": {
      "text/plain": [
       "[Sentence(\"Piyush is an Aspiring Data Scientist and is working hard to get there.\"),\n",
       " Sentence(\"He stood Kaggle grandmaster 4 year consistently.\"),\n",
       " Sentence(\"His goal is to work for Google.\")]"
      ]
     },
     "execution_count": 9,
     "metadata": {},
     "output_type": "execute_result"
    }
   ],
   "source": [
    "text.sentences"
   ]
  },
  {
   "cell_type": "markdown",
   "metadata": {
    "id": "JhV0s_A3u1od"
   },
   "source": [
    "### Відмічання частин мови\n",
    "\n",
    "Відмічання (*англ.* tagging) частин мови (*англ.* part of speech, PoS) є важливою операцією ОПМ, що допомагає нам зрозуміти текст та його позначення тегами."
   ]
  },
  {
   "cell_type": "code",
   "execution_count": null,
   "metadata": {
    "colab": {
     "base_uri": "https://localhost:8080/"
    },
    "executionInfo": {
     "elapsed": 4587,
     "status": "ok",
     "timestamp": 1632435426253,
     "user": {
      "displayName": "Олег Бондаренко",
      "photoUrl": "https://lh3.googleusercontent.com/a-/AOh14Gi-V32z88yEvtCojSHFKcRt4P6GaG7-G1IBoQ1kPUVgiojNPuSEipyrBg-Lm9Jihqv1Ux1Tm1eBTjhNLRt7sAUtpTGctuZGEG0wNCmGRegrmMm9XwE1_g4q9clcKgpMvCMlOYWeCetcvu8BWtpGC0eQxRzVDcfNBWL5K_RBJ_GfxSf4lVaPAaNpkqGJ9iIdRkNFYqxL6gxzONhMzjtdZKpfRxQ3ZeQ4-Y60cJchbXJZKA3DQzno_Nurz9h3Thm3sdlK6CFxocdNPWIHsLSrdmge1Cx4yqqeVy-YzOtR2aK5b58MbR3tx_uxma_vrP8HpkUWpsQ99aRcRfk6cvWF59f2I1TB5Wds917G6JrpnjA2gf5VIRoyTYAozkRE4yONfmw43U_zK9sbrzBWkk1cAlY2D6N_GqR_E9Y9AYLp_9isj7gFxI89sf9YE4Xu7YPPzn82_0Xk4ZKqtrYlVla48bNjGHYvaKsxnJ-Y8BjZjH4cEYNOmMmgYJBhZxWh-Kv5pbsA-FrzuWUH_QotOmkLbQiH4cpaxnuvjFeT7Ea-8QJtuwxX7oQ86suT-R7oGmh7JqcETFFbkR1RrlDynjixi8Zs5nwp3iOnni2pioCaChmOuGHPOaFef4xmcJTU79CKjFP-uYaH3RquhuM3NEmC7EoxjnehaN92B79NCxIlOaS80FOEuKo4j0pybPTLfgJGsUXK85ZzUmJ42V2R4AoSpepEyj2aQmuZWisXk-gHyEaC91Ez-I5MR2M_MgAsFcT9asyOjQ=s64",
      "userId": "16914417916602868801"
     },
     "user_tz": -180
    },
    "id": "d2mtXJcVuvZc",
    "outputId": "cda7bccc-eb36-4010-b6df-8ede34fd217a"
   },
   "outputs": [
    {
     "data": {
      "text/plain": [
       "[('Piyush', 'NOUN'),\n",
       " ('is', 'VERB'),\n",
       " ('an', 'DET'),\n",
       " ('Aspiring', 'ADJ'),\n",
       " ('Data', 'PROPN'),\n",
       " ('Scientist', 'NOUN'),\n",
       " ('and', 'CONJ'),\n",
       " ('is', 'VERB'),\n",
       " ('working', 'VERB'),\n",
       " ('hard', 'ADJ'),\n",
       " ('to', 'PART'),\n",
       " ('get', 'VERB'),\n",
       " ('there', 'ADV'),\n",
       " ('.', 'PUNCT'),\n",
       " ('He', 'PRON'),\n",
       " ('stood', 'VERB'),\n",
       " ('Kaggle', 'NUM'),\n",
       " ('grandmaster', 'NOUN'),\n",
       " ('4', 'NUM'),\n",
       " ('year', 'NOUN'),\n",
       " ('consistently', 'ADV'),\n",
       " ('.', 'PUNCT'),\n",
       " ('His', 'PRON'),\n",
       " ('goal', 'NOUN'),\n",
       " ('is', 'VERB'),\n",
       " ('to', 'PART'),\n",
       " ('work', 'VERB'),\n",
       " ('for', 'ADP'),\n",
       " ('Google', 'NOUN'),\n",
       " ('.', 'PUNCT')]"
      ]
     },
     "execution_count": 8,
     "metadata": {},
     "output_type": "execute_result"
    }
   ],
   "source": [
    "#POS tagging\n",
    "text.pos_tags"
   ]
  },
  {
   "cell_type": "markdown",
   "metadata": {
    "id": "wPKpq3XUvIGv"
   },
   "source": [
    "### Розпізнавання іменованої особи/об'єкта\n",
    "\n",
    "Розпізнавання іменованої особи (*англ.* Named Entity Recognition, або NER) використовується для ідентифікації особи, організації та місцезнаходження, якщо такі є у наборі даних корпусу/тексту."
   ]
  },
  {
   "cell_type": "code",
   "execution_count": 10,
   "metadata": {
    "colab": {
     "base_uri": "https://localhost:8080/"
    },
    "executionInfo": {
     "elapsed": 4476,
     "status": "ok",
     "timestamp": 1632482978099,
     "user": {
      "displayName": "Олег Бондаренко",
      "photoUrl": "https://lh3.googleusercontent.com/a-/AOh14GgKPJtSybeaGt-jZIDoc0OlWa8sav467Jhk9gECUWJHpPt1YJ9-1ohuGsYcQvnlqqoJ-YcqIGIETtY18tJWuDo6sBCRwfR6f5dbW0gRTj7Xd_PcCYQCU-Ho_hiXV3ZG37Huj2CWzm3mwRlJ_miaTlzFXrbCsCRu7FehX01C8WL0cSGodNoOh52FUUxfNg-SrYlw_mLSaF_j29dFcGkR5R1YGsfW3S_zFwAA265y13-JX8fVEw1G-R3q4aHGq_cBGCZPRONCUv0yYJe41c4j9oFg3g6ae09Bc-u9KY8eHj8HZv46q3juogcDGH3GV532Vx5j_wx5dtQqEBSpEUrneDBue5wrwxPk4f-RFQORlKhdinLKxuVF-3u7_hUEUm8_kXmH03Q-gYluHmYLpqrbZFido6IEUirNOFqk3xFOzf-pqzAB5MmmxccFU2maQ6JSZ2_aN9xcSAi4q9hCzpWqOKh8cU5sUnufAfwD5NQIZiSNlFpK4DH2JTCpUxG-bIMkqg194lfe9s7xqCGDd8_PsgjwHGbZS978iSo9Y4cHY869bhfMeL8P8J5MxrneZn_gxXkRr8SfhJDBIlV6B2yR3SKXS46l7GLZvLG5rr2Ivx2c7_AeL825xEtez44IEldliawBHa8yon6VuFy7dB1dw_pE7qpmcoTDb80Dw1HavmreFZenQy5mDrqrtxmy9aI3ZD57FfSgjvK5xigZo-QVS9dweuCizAAIaz2odDFNE1k3Vd4jwTUjyJLLMBuD7zliOiPxHw=s64",
      "userId": "16914417916602868801"
     },
     "user_tz": -180
    },
    "id": "VP2zrOYfu8CO",
    "outputId": "6f241a62-71e9-4995-f677-21ce59a69679"
   },
   "outputs": [
    {
     "data": {
      "text/plain": [
       "[I-ORG(['Google'])]"
      ]
     },
     "execution_count": 10,
     "metadata": {},
     "output_type": "execute_result"
    }
   ],
   "source": [
    "#Named entity extraction\n",
    "text.entities"
   ]
  },
  {
   "cell_type": "markdown",
   "metadata": {
    "id": "CsrxLv63vVMa"
   },
   "source": [
    "### Морфологічний аналіз"
   ]
  },
  {
   "cell_type": "code",
   "execution_count": 11,
   "metadata": {
    "colab": {
     "base_uri": "https://localhost:8080/"
    },
    "executionInfo": {
     "elapsed": 245,
     "status": "ok",
     "timestamp": 1632483017367,
     "user": {
      "displayName": "Олег Бондаренко",
      "photoUrl": "https://lh3.googleusercontent.com/a-/AOh14GgKPJtSybeaGt-jZIDoc0OlWa8sav467Jhk9gECUWJHpPt1YJ9-1ohuGsYcQvnlqqoJ-YcqIGIETtY18tJWuDo6sBCRwfR6f5dbW0gRTj7Xd_PcCYQCU-Ho_hiXV3ZG37Huj2CWzm3mwRlJ_miaTlzFXrbCsCRu7FehX01C8WL0cSGodNoOh52FUUxfNg-SrYlw_mLSaF_j29dFcGkR5R1YGsfW3S_zFwAA265y13-JX8fVEw1G-R3q4aHGq_cBGCZPRONCUv0yYJe41c4j9oFg3g6ae09Bc-u9KY8eHj8HZv46q3juogcDGH3GV532Vx5j_wx5dtQqEBSpEUrneDBue5wrwxPk4f-RFQORlKhdinLKxuVF-3u7_hUEUm8_kXmH03Q-gYluHmYLpqrbZFido6IEUirNOFqk3xFOzf-pqzAB5MmmxccFU2maQ6JSZ2_aN9xcSAi4q9hCzpWqOKh8cU5sUnufAfwD5NQIZiSNlFpK4DH2JTCpUxG-bIMkqg194lfe9s7xqCGDd8_PsgjwHGbZS978iSo9Y4cHY869bhfMeL8P8J5MxrneZn_gxXkRr8SfhJDBIlV6B2yR3SKXS46l7GLZvLG5rr2Ivx2c7_AeL825xEtez44IEldliawBHa8yon6VuFy7dB1dw_pE7qpmcoTDb80Dw1HavmreFZenQy5mDrqrtxmy9aI3ZD57FfSgjvK5xigZo-QVS9dweuCizAAIaz2odDFNE1k3Vd4jwTUjyJLLMBuD7zliOiPxHw=s64",
      "userId": "16914417916602868801"
     },
     "user_tz": -180
    },
    "id": "J3zXBvXmvOnU",
    "outputId": "637154f6-3ae7-4d21-e38a-b127941b1e25"
   },
   "outputs": [
    {
     "name": "stdout",
     "output_type": "stream",
     "text": [
      "programming ['program', 'ming']\n",
      "parallel ['parallel']\n",
      "inevitable ['ine', 'vi', 'table']\n",
      "handsome ['hand', 'some']\n"
     ]
    }
   ],
   "source": [
    "# Morphological Analysis\n",
    "words = [\"programming\", \"parallel\", \"inevitable\", \"handsome\"]\n",
    "for w in words:\n",
    "     w = Word(w, language=\"en\")\n",
    "     print(w, w.morphemes)"
   ]
  },
  {
   "cell_type": "markdown",
   "metadata": {
    "id": "jQdXQnXIvsfS"
   },
   "source": [
    " ### Аналіз настроїв\n",
    "\n",
    "Ми можемо проаналізувати настрій речення."
   ]
  },
  {
   "cell_type": "code",
   "execution_count": null,
   "metadata": {
    "colab": {
     "base_uri": "https://localhost:8080/"
    },
    "executionInfo": {
     "elapsed": 230,
     "status": "ok",
     "timestamp": 1632435642764,
     "user": {
      "displayName": "Олег Бондаренко",
      "photoUrl": "https://lh3.googleusercontent.com/a-/AOh14Gi-V32z88yEvtCojSHFKcRt4P6GaG7-G1IBoQ1kPUVgiojNPuSEipyrBg-Lm9Jihqv1Ux1Tm1eBTjhNLRt7sAUtpTGctuZGEG0wNCmGRegrmMm9XwE1_g4q9clcKgpMvCMlOYWeCetcvu8BWtpGC0eQxRzVDcfNBWL5K_RBJ_GfxSf4lVaPAaNpkqGJ9iIdRkNFYqxL6gxzONhMzjtdZKpfRxQ3ZeQ4-Y60cJchbXJZKA3DQzno_Nurz9h3Thm3sdlK6CFxocdNPWIHsLSrdmge1Cx4yqqeVy-YzOtR2aK5b58MbR3tx_uxma_vrP8HpkUWpsQ99aRcRfk6cvWF59f2I1TB5Wds917G6JrpnjA2gf5VIRoyTYAozkRE4yONfmw43U_zK9sbrzBWkk1cAlY2D6N_GqR_E9Y9AYLp_9isj7gFxI89sf9YE4Xu7YPPzn82_0Xk4ZKqtrYlVla48bNjGHYvaKsxnJ-Y8BjZjH4cEYNOmMmgYJBhZxWh-Kv5pbsA-FrzuWUH_QotOmkLbQiH4cpaxnuvjFeT7Ea-8QJtuwxX7oQ86suT-R7oGmh7JqcETFFbkR1RrlDynjixi8Zs5nwp3iOnni2pioCaChmOuGHPOaFef4xmcJTU79CKjFP-uYaH3RquhuM3NEmC7EoxjnehaN92B79NCxIlOaS80FOEuKo4j0pybPTLfgJGsUXK85ZzUmJ42V2R4AoSpepEyj2aQmuZWisXk-gHyEaC91Ez-I5MR2M_MgAsFcT9asyOjQ=s64",
      "userId": "16914417916602868801"
     },
     "user_tz": -180
    },
    "id": "3IgGc_bvvjBq",
    "outputId": "3d67b5fa-a460-4d19-811d-44e47c4ea4b8"
   },
   "outputs": [
    {
     "name": "stdout",
     "output_type": "stream",
     "text": [
      "Himanshu 0\n",
      "is 0\n",
      "a 0\n",
      "good 1\n",
      "programmer 0\n",
      ". 0\n"
     ]
    }
   ],
   "source": [
    "#Sentiment analysis\n",
    "text = Text(\"Himanshu is a good programmer.\")\n",
    "for w in text.words:\n",
    "   print(w, w.polarity)"
   ]
  },
  {
   "cell_type": "markdown",
   "metadata": {
    "id": "jugEwY_1wAH-"
   },
   "source": [
    "### Транслітерація\n",
    "\n",
    "Ми можемо транслітерувати текст між різними мовами."
   ]
  },
  {
   "cell_type": "code",
   "execution_count": null,
   "metadata": {
    "colab": {
     "base_uri": "https://localhost:8080/",
     "height": 35
    },
    "executionInfo": {
     "elapsed": 218,
     "status": "ok",
     "timestamp": 1632435999090,
     "user": {
      "displayName": "Олег Бондаренко",
      "photoUrl": "https://lh3.googleusercontent.com/a-/AOh14Gi-V32z88yEvtCojSHFKcRt4P6GaG7-G1IBoQ1kPUVgiojNPuSEipyrBg-Lm9Jihqv1Ux1Tm1eBTjhNLRt7sAUtpTGctuZGEG0wNCmGRegrmMm9XwE1_g4q9clcKgpMvCMlOYWeCetcvu8BWtpGC0eQxRzVDcfNBWL5K_RBJ_GfxSf4lVaPAaNpkqGJ9iIdRkNFYqxL6gxzONhMzjtdZKpfRxQ3ZeQ4-Y60cJchbXJZKA3DQzno_Nurz9h3Thm3sdlK6CFxocdNPWIHsLSrdmge1Cx4yqqeVy-YzOtR2aK5b58MbR3tx_uxma_vrP8HpkUWpsQ99aRcRfk6cvWF59f2I1TB5Wds917G6JrpnjA2gf5VIRoyTYAozkRE4yONfmw43U_zK9sbrzBWkk1cAlY2D6N_GqR_E9Y9AYLp_9isj7gFxI89sf9YE4Xu7YPPzn82_0Xk4ZKqtrYlVla48bNjGHYvaKsxnJ-Y8BjZjH4cEYNOmMmgYJBhZxWh-Kv5pbsA-FrzuWUH_QotOmkLbQiH4cpaxnuvjFeT7Ea-8QJtuwxX7oQ86suT-R7oGmh7JqcETFFbkR1RrlDynjixi8Zs5nwp3iOnni2pioCaChmOuGHPOaFef4xmcJTU79CKjFP-uYaH3RquhuM3NEmC7EoxjnehaN92B79NCxIlOaS80FOEuKo4j0pybPTLfgJGsUXK85ZzUmJ42V2R4AoSpepEyj2aQmuZWisXk-gHyEaC91Ez-I5MR2M_MgAsFcT9asyOjQ=s64",
      "userId": "16914417916602868801"
     },
     "user_tz": -180
    },
    "id": "8-uCtR3Nvx9H",
    "outputId": "8b6f2c33-be86-4663-a3ad-4b7efc826cba"
   },
   "outputs": [
    {
     "data": {
      "application/vnd.google.colaboratory.intrinsic+json": {
       "type": "string"
      },
      "text/plain": [
       "' vsim privit i do pobachenna '"
      ]
     },
     "execution_count": 18,
     "metadata": {},
     "output_type": "execute_result"
    }
   ],
   "source": [
    "#Transliteration\n",
    "transliterator = Transliterator(source_lang=\"uk\", target_lang=\"en\")\n",
    "new_text = \"\"\n",
    "for i in \"Всім привіт і до побачення !\".split():\n",
    "  new_text = new_text + \" \" + transliterator.transliterate(i)\n",
    "new_text"
   ]
  },
  {
   "cell_type": "code",
   "execution_count": null,
   "metadata": {
    "id": "ugDlwZ-HwGHd"
   },
   "outputs": [],
   "source": []
  }
 ],
 "metadata": {
  "colab": {
   "collapsed_sections": [],
   "name": "polyglot.ipynb",
   "provenance": []
  },
  "kernelspec": {
   "display_name": "Python 3",
   "language": "python",
   "name": "python3"
  },
  "language_info": {
   "codemirror_mode": {
    "name": "ipython",
    "version": 3
   },
   "file_extension": ".py",
   "mimetype": "text/x-python",
   "name": "python",
   "nbconvert_exporter": "python",
   "pygments_lexer": "ipython3",
   "version": "3.8.5"
  }
 },
 "nbformat": 4,
 "nbformat_minor": 4
}
