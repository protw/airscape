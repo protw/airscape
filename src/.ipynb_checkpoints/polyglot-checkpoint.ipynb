{
 "cells": [
  {
   "cell_type": "markdown",
   "metadata": {
    "id": "zbNTlF1brC8y"
   },
   "source": [
    "Тестуємо матеріал статті [Python Packages for NLP-Part 1. Polyglot- Python package for NLP… | by Himanshu Sharma | Towards Data Science](https://towardsdatascience.com/python-packages-for-nlp-part-1-2d49126749ef)\n",
    "\n",
    "## Встановлюємо Polyglot та інші необхідні бібліотеки\n",
    "\n",
    "> **На жаль, на локальному комп'ютері під Windows не вийшло все так прямолінійно, як хотілось - багато бінарних файлів в бібліотеках або не скомпільовані або скомпільовані під інші версії, що створює помилки і завдає багато зайвого клопоту, щоб налаштовувати все вручну!** \n",
    "> **Здається, що під ОС Linux все має встановлюватись без проблем. Треба перевірити.**\n",
    "\n",
    "Для цієї статті ми використали *Google Colab*. Код нижче встановлюємо *polyglot* та інші необхідні бібліотеки. Встанавлення пройшло гладко."
   ]
  },
  {
   "cell_type": "code",
   "execution_count": 1,
   "metadata": {
    "colab": {
     "base_uri": "https://localhost:8080/"
    },
    "executionInfo": {
     "elapsed": 67087,
     "status": "ok",
     "timestamp": 1632434259604,
     "user": {
      "displayName": "Олег Бондаренко",
      "photoUrl": "https://lh3.googleusercontent.com/a-/AOh14Gi-V32z88yEvtCojSHFKcRt4P6GaG7-G1IBoQ1kPUVgiojNPuSEipyrBg-Lm9Jihqv1Ux1Tm1eBTjhNLRt7sAUtpTGctuZGEG0wNCmGRegrmMm9XwE1_g4q9clcKgpMvCMlOYWeCetcvu8BWtpGC0eQxRzVDcfNBWL5K_RBJ_GfxSf4lVaPAaNpkqGJ9iIdRkNFYqxL6gxzONhMzjtdZKpfRxQ3ZeQ4-Y60cJchbXJZKA3DQzno_Nurz9h3Thm3sdlK6CFxocdNPWIHsLSrdmge1Cx4yqqeVy-YzOtR2aK5b58MbR3tx_uxma_vrP8HpkUWpsQ99aRcRfk6cvWF59f2I1TB5Wds917G6JrpnjA2gf5VIRoyTYAozkRE4yONfmw43U_zK9sbrzBWkk1cAlY2D6N_GqR_E9Y9AYLp_9isj7gFxI89sf9YE4Xu7YPPzn82_0Xk4ZKqtrYlVla48bNjGHYvaKsxnJ-Y8BjZjH4cEYNOmMmgYJBhZxWh-Kv5pbsA-FrzuWUH_QotOmkLbQiH4cpaxnuvjFeT7Ea-8QJtuwxX7oQ86suT-R7oGmh7JqcETFFbkR1RrlDynjixi8Zs5nwp3iOnni2pioCaChmOuGHPOaFef4xmcJTU79CKjFP-uYaH3RquhuM3NEmC7EoxjnehaN92B79NCxIlOaS80FOEuKo4j0pybPTLfgJGsUXK85ZzUmJ42V2R4AoSpepEyj2aQmuZWisXk-gHyEaC91Ez-I5MR2M_MgAsFcT9asyOjQ=s64",
      "userId": "16914417916602868801"
     },
     "user_tz": -180
    },
    "id": "kBTP_s-bqFl4",
    "outputId": "ab843058-b248-4bdd-c5e9-727a55b4d634"
   },
   "outputs": [
    {
     "name": "stdout",
     "output_type": "stream",
     "text": [
      "Collecting polyglot\n",
      "  Downloading polyglot-16.7.4.tar.gz (126 kB)\n",
      "\u001b[?25l\r",
      "\u001b[K     |██▋                             | 10 kB 23.6 MB/s eta 0:00:01\r",
      "\u001b[K     |█████▏                          | 20 kB 26.6 MB/s eta 0:00:01\r",
      "\u001b[K     |███████▉                        | 30 kB 30.1 MB/s eta 0:00:01\r",
      "\u001b[K     |██████████▍                     | 40 kB 31.8 MB/s eta 0:00:01\r",
      "\u001b[K     |█████████████                   | 51 kB 34.3 MB/s eta 0:00:01\r",
      "\u001b[K     |███████████████▋                | 61 kB 35.3 MB/s eta 0:00:01\r",
      "\u001b[K     |██████████████████▏             | 71 kB 29.1 MB/s eta 0:00:01\r",
      "\u001b[K     |████████████████████▊           | 81 kB 29.7 MB/s eta 0:00:01\r",
      "\u001b[K     |███████████████████████▍        | 92 kB 30.6 MB/s eta 0:00:01\r",
      "\u001b[K     |██████████████████████████      | 102 kB 30.5 MB/s eta 0:00:01\r",
      "\u001b[K     |████████████████████████████▌   | 112 kB 30.5 MB/s eta 0:00:01\r",
      "\u001b[K     |███████████████████████████████▏| 122 kB 30.5 MB/s eta 0:00:01\r",
      "\u001b[K     |████████████████████████████████| 126 kB 30.5 MB/s \n",
      "\u001b[?25hBuilding wheels for collected packages: polyglot\n",
      "  Building wheel for polyglot (setup.py) ... \u001b[?25l\u001b[?25hdone\n",
      "  Created wheel for polyglot: filename=polyglot-16.7.4-py2.py3-none-any.whl size=52578 sha256=ede36f2ed845a84f665c0b1c6dce5c723fc8dc9e5adbadfd4b64b6da842414f4\n",
      "  Stored in directory: /root/.cache/pip/wheels/09/bc/67/75c9de8e9726460bc0b101ad225ad025cb8ce9e0759beb9d52\n",
      "Successfully built polyglot\n",
      "Installing collected packages: polyglot\n",
      "Successfully installed polyglot-16.7.4\n",
      "Collecting pyicu\n",
      "  Downloading PyICU-2.7.4.tar.gz (298 kB)\n",
      "\u001b[K     |████████████████████████████████| 298 kB 29.7 MB/s \n",
      "\u001b[?25hBuilding wheels for collected packages: pyicu\n",
      "  Building wheel for pyicu (setup.py) ... \u001b[?25l\u001b[?25hdone\n",
      "  Created wheel for pyicu: filename=PyICU-2.7.4-cp37-cp37m-linux_x86_64.whl size=1374800 sha256=4d446ac37535004e45ad38a32e5af0f97a00187e10560347d88f653e461c4b6f\n",
      "  Stored in directory: /root/.cache/pip/wheels/c4/3a/c8/2d2397cd8f6cd04489ecac3d1e6821bb4938d73312d69b834f\n",
      "Successfully built pyicu\n",
      "Installing collected packages: pyicu\n",
      "Successfully installed pyicu-2.7.4\n",
      "Collecting pycld2\n",
      "  Downloading pycld2-0.41.tar.gz (41.4 MB)\n",
      "\u001b[K     |████████████████████████████████| 41.4 MB 38 kB/s \n",
      "\u001b[?25hBuilding wheels for collected packages: pycld2\n",
      "  Building wheel for pycld2 (setup.py) ... \u001b[?25l\u001b[?25hdone\n",
      "  Created wheel for pycld2: filename=pycld2-0.41-cp37-cp37m-linux_x86_64.whl size=9834300 sha256=febed8a3da24f647c6057a8dbcfdb11a2cc36ce7a9baf0f3d778ceab6f99aedc\n",
      "  Stored in directory: /root/.cache/pip/wheels/ed/e4/58/ed2e9f43c07d617cc81fe7aff0fc6e42b16c9cf6afe960b614\n",
      "Successfully built pycld2\n",
      "Installing collected packages: pycld2\n",
      "Successfully installed pycld2-0.41\n",
      "Collecting morfessor\n",
      "  Downloading Morfessor-2.0.6-py3-none-any.whl (35 kB)\n",
      "Installing collected packages: morfessor\n",
      "Successfully installed morfessor-2.0.6\n"
     ]
    }
   ],
   "source": [
    "!pip3 install polyglot\n",
    "!pip3 install pyicu\n",
    "!pip3 install pycld2\n",
    "!pip3 install morfessor"
   ]
  },
  {
   "cell_type": "markdown",
   "metadata": {
    "id": "2e-WeEK7sct6"
   },
   "source": [
    "Після встановлення бібліотек вище також потрібно встановити деякі функції поліглоту, що використовуватимуться у цій статті."
   ]
  },
  {
   "cell_type": "code",
   "execution_count": 14,
   "metadata": {
    "colab": {
     "base_uri": "https://localhost:8080/"
    },
    "executionInfo": {
     "elapsed": 2707,
     "status": "ok",
     "timestamp": 1632435838984,
     "user": {
      "displayName": "Олег Бондаренко",
      "photoUrl": "https://lh3.googleusercontent.com/a-/AOh14Gi-V32z88yEvtCojSHFKcRt4P6GaG7-G1IBoQ1kPUVgiojNPuSEipyrBg-Lm9Jihqv1Ux1Tm1eBTjhNLRt7sAUtpTGctuZGEG0wNCmGRegrmMm9XwE1_g4q9clcKgpMvCMlOYWeCetcvu8BWtpGC0eQxRzVDcfNBWL5K_RBJ_GfxSf4lVaPAaNpkqGJ9iIdRkNFYqxL6gxzONhMzjtdZKpfRxQ3ZeQ4-Y60cJchbXJZKA3DQzno_Nurz9h3Thm3sdlK6CFxocdNPWIHsLSrdmge1Cx4yqqeVy-YzOtR2aK5b58MbR3tx_uxma_vrP8HpkUWpsQ99aRcRfk6cvWF59f2I1TB5Wds917G6JrpnjA2gf5VIRoyTYAozkRE4yONfmw43U_zK9sbrzBWkk1cAlY2D6N_GqR_E9Y9AYLp_9isj7gFxI89sf9YE4Xu7YPPzn82_0Xk4ZKqtrYlVla48bNjGHYvaKsxnJ-Y8BjZjH4cEYNOmMmgYJBhZxWh-Kv5pbsA-FrzuWUH_QotOmkLbQiH4cpaxnuvjFeT7Ea-8QJtuwxX7oQ86suT-R7oGmh7JqcETFFbkR1RrlDynjixi8Zs5nwp3iOnni2pioCaChmOuGHPOaFef4xmcJTU79CKjFP-uYaH3RquhuM3NEmC7EoxjnehaN92B79NCxIlOaS80FOEuKo4j0pybPTLfgJGsUXK85ZzUmJ42V2R4AoSpepEyj2aQmuZWisXk-gHyEaC91Ez-I5MR2M_MgAsFcT9asyOjQ=s64",
      "userId": "16914417916602868801"
     },
     "user_tz": -180
    },
    "id": "uxGrwcj1qNmJ",
    "outputId": "5450f1ec-d585-42d9-acb6-ba30dcbda79d"
   },
   "outputs": [
    {
     "name": "stdout",
     "output_type": "stream",
     "text": [
      "[polyglot_data] Downloading package embeddings2.en to\n",
      "[polyglot_data]     /root/polyglot_data...\n",
      "[polyglot_data]   Package embeddings2.en is already up-to-date!\n",
      "[polyglot_data] Downloading package pos2.en to /root/polyglot_data...\n",
      "[polyglot_data]   Package pos2.en is already up-to-date!\n",
      "[polyglot_data] Downloading package ner2.en to /root/polyglot_data...\n",
      "[polyglot_data]   Package ner2.en is already up-to-date!\n",
      "[polyglot_data] Downloading package morph2.en to\n",
      "[polyglot_data]     /root/polyglot_data...\n",
      "[polyglot_data]   Package morph2.en is already up-to-date!\n",
      "[polyglot_data] Downloading package sentiment2.en to\n",
      "[polyglot_data]     /root/polyglot_data...\n",
      "[polyglot_data]   Package sentiment2.en is already up-to-date!\n",
      "[polyglot_data] Downloading package transliteration2.hi to\n",
      "[polyglot_data]     /root/polyglot_data...\n",
      "[polyglot_data]   Package transliteration2.hi is already up-to-date!\n"
     ]
    }
   ],
   "source": [
    "!polyglot download embeddings2.en\n",
    "!polyglot download pos2.en\n",
    "!polyglot download ner2.en\n",
    "!polyglot download morph2.en\n",
    "!polyglot download sentiment2.en\n",
    "!polyglot download transliteration2.hi"
   ]
  },
  {
   "cell_type": "markdown",
   "metadata": {},
   "source": [
    "Також встановимо модуль української транслітерації"
   ]
  },
  {
   "cell_type": "code",
   "execution_count": 15,
   "metadata": {
    "colab": {
     "base_uri": "https://localhost:8080/"
    },
    "executionInfo": {
     "elapsed": 569,
     "status": "ok",
     "timestamp": 1632435848827,
     "user": {
      "displayName": "Олег Бондаренко",
      "photoUrl": "https://lh3.googleusercontent.com/a-/AOh14Gi-V32z88yEvtCojSHFKcRt4P6GaG7-G1IBoQ1kPUVgiojNPuSEipyrBg-Lm9Jihqv1Ux1Tm1eBTjhNLRt7sAUtpTGctuZGEG0wNCmGRegrmMm9XwE1_g4q9clcKgpMvCMlOYWeCetcvu8BWtpGC0eQxRzVDcfNBWL5K_RBJ_GfxSf4lVaPAaNpkqGJ9iIdRkNFYqxL6gxzONhMzjtdZKpfRxQ3ZeQ4-Y60cJchbXJZKA3DQzno_Nurz9h3Thm3sdlK6CFxocdNPWIHsLSrdmge1Cx4yqqeVy-YzOtR2aK5b58MbR3tx_uxma_vrP8HpkUWpsQ99aRcRfk6cvWF59f2I1TB5Wds917G6JrpnjA2gf5VIRoyTYAozkRE4yONfmw43U_zK9sbrzBWkk1cAlY2D6N_GqR_E9Y9AYLp_9isj7gFxI89sf9YE4Xu7YPPzn82_0Xk4ZKqtrYlVla48bNjGHYvaKsxnJ-Y8BjZjH4cEYNOmMmgYJBhZxWh-Kv5pbsA-FrzuWUH_QotOmkLbQiH4cpaxnuvjFeT7Ea-8QJtuwxX7oQ86suT-R7oGmh7JqcETFFbkR1RrlDynjixi8Zs5nwp3iOnni2pioCaChmOuGHPOaFef4xmcJTU79CKjFP-uYaH3RquhuM3NEmC7EoxjnehaN92B79NCxIlOaS80FOEuKo4j0pybPTLfgJGsUXK85ZzUmJ42V2R4AoSpepEyj2aQmuZWisXk-gHyEaC91Ez-I5MR2M_MgAsFcT9asyOjQ=s64",
      "userId": "16914417916602868801"
     },
     "user_tz": -180
    },
    "id": "wq9mxSPMwi8F",
    "outputId": "7ec7052b-090b-4559-b283-3abb222c886b"
   },
   "outputs": [
    {
     "name": "stdout",
     "output_type": "stream",
     "text": [
      "[polyglot_data] Downloading package transliteration2.uk to\n",
      "[polyglot_data]     /root/polyglot_data...\n",
      "[polyglot_data]   Package transliteration2.uk is already up-to-date!\n"
     ]
    }
   ],
   "source": [
    "!polyglot download transliteration2.uk"
   ]
  },
  {
   "cell_type": "code",
   "execution_count": 3,
   "metadata": {
    "executionInfo": {
     "elapsed": 222,
     "status": "ok",
     "timestamp": 1632434370960,
     "user": {
      "displayName": "Олег Бондаренко",
      "photoUrl": "https://lh3.googleusercontent.com/a-/AOh14Gi-V32z88yEvtCojSHFKcRt4P6GaG7-G1IBoQ1kPUVgiojNPuSEipyrBg-Lm9Jihqv1Ux1Tm1eBTjhNLRt7sAUtpTGctuZGEG0wNCmGRegrmMm9XwE1_g4q9clcKgpMvCMlOYWeCetcvu8BWtpGC0eQxRzVDcfNBWL5K_RBJ_GfxSf4lVaPAaNpkqGJ9iIdRkNFYqxL6gxzONhMzjtdZKpfRxQ3ZeQ4-Y60cJchbXJZKA3DQzno_Nurz9h3Thm3sdlK6CFxocdNPWIHsLSrdmge1Cx4yqqeVy-YzOtR2aK5b58MbR3tx_uxma_vrP8HpkUWpsQ99aRcRfk6cvWF59f2I1TB5Wds917G6JrpnjA2gf5VIRoyTYAozkRE4yONfmw43U_zK9sbrzBWkk1cAlY2D6N_GqR_E9Y9AYLp_9isj7gFxI89sf9YE4Xu7YPPzn82_0Xk4ZKqtrYlVla48bNjGHYvaKsxnJ-Y8BjZjH4cEYNOmMmgYJBhZxWh-Kv5pbsA-FrzuWUH_QotOmkLbQiH4cpaxnuvjFeT7Ea-8QJtuwxX7oQ86suT-R7oGmh7JqcETFFbkR1RrlDynjixi8Zs5nwp3iOnni2pioCaChmOuGHPOaFef4xmcJTU79CKjFP-uYaH3RquhuM3NEmC7EoxjnehaN92B79NCxIlOaS80FOEuKo4j0pybPTLfgJGsUXK85ZzUmJ42V2R4AoSpepEyj2aQmuZWisXk-gHyEaC91Ez-I5MR2M_MgAsFcT9asyOjQ=s64",
      "userId": "16914417916602868801"
     },
     "user_tz": -180
    },
    "id": "6yv_MLI4qwAE"
   },
   "outputs": [],
   "source": [
    "import polyglot\n",
    "from polyglot.detect import Detector\n",
    "from polyglot.text import Text, Word\n",
    "from polyglot.mapping import Embedding\n",
    "from polyglot.transliteration import Transliterator"
   ]
  },
  {
   "cell_type": "markdown",
   "metadata": {
    "id": "f4WpBukltmcl"
   },
   "source": [
    "## Виконання операцій ОПМ (NLP)\n",
    "\n",
    "Давайте почнемо з вивчення деяких функціональних можливостей обробки природних мов (ОПМ, *англ* natural language processing NLP), що надає *polyglot*. Але перед тим введемо деякі зразки даних, над якими будемо працювати."
   ]
  },
  {
   "cell_type": "code",
   "execution_count": 4,
   "metadata": {
    "executionInfo": {
     "elapsed": 220,
     "status": "ok",
     "timestamp": 1632435136565,
     "user": {
      "displayName": "Олег Бондаренко",
      "photoUrl": "https://lh3.googleusercontent.com/a-/AOh14Gi-V32z88yEvtCojSHFKcRt4P6GaG7-G1IBoQ1kPUVgiojNPuSEipyrBg-Lm9Jihqv1Ux1Tm1eBTjhNLRt7sAUtpTGctuZGEG0wNCmGRegrmMm9XwE1_g4q9clcKgpMvCMlOYWeCetcvu8BWtpGC0eQxRzVDcfNBWL5K_RBJ_GfxSf4lVaPAaNpkqGJ9iIdRkNFYqxL6gxzONhMzjtdZKpfRxQ3ZeQ4-Y60cJchbXJZKA3DQzno_Nurz9h3Thm3sdlK6CFxocdNPWIHsLSrdmge1Cx4yqqeVy-YzOtR2aK5b58MbR3tx_uxma_vrP8HpkUWpsQ99aRcRfk6cvWF59f2I1TB5Wds917G6JrpnjA2gf5VIRoyTYAozkRE4yONfmw43U_zK9sbrzBWkk1cAlY2D6N_GqR_E9Y9AYLp_9isj7gFxI89sf9YE4Xu7YPPzn82_0Xk4ZKqtrYlVla48bNjGHYvaKsxnJ-Y8BjZjH4cEYNOmMmgYJBhZxWh-Kv5pbsA-FrzuWUH_QotOmkLbQiH4cpaxnuvjFeT7Ea-8QJtuwxX7oQ86suT-R7oGmh7JqcETFFbkR1RrlDynjixi8Zs5nwp3iOnni2pioCaChmOuGHPOaFef4xmcJTU79CKjFP-uYaH3RquhuM3NEmC7EoxjnehaN92B79NCxIlOaS80FOEuKo4j0pybPTLfgJGsUXK85ZzUmJ42V2R4AoSpepEyj2aQmuZWisXk-gHyEaC91Ez-I5MR2M_MgAsFcT9asyOjQ=s64",
      "userId": "16914417916602868801"
     },
     "user_tz": -180
    },
    "id": "waDfmZm5tvTT"
   },
   "outputs": [],
   "source": [
    "sample_text = '''Piyush is an Aspiring Data Scientist and is working hard to get there. He stood Kaggle grandmaster 4 year consistently. His goal is to work for Google.'''"
   ]
  },
  {
   "cell_type": "markdown",
   "metadata": {
    "id": "ysgrzALTuEXm"
   },
   "source": [
    "### Language Detection\n",
    "\n",
    "Polyglot’s language detector can easily identify the language in which the text is written."
   ]
  },
  {
   "cell_type": "code",
   "execution_count": 5,
   "metadata": {
    "colab": {
     "base_uri": "https://localhost:8080/"
    },
    "executionInfo": {
     "elapsed": 216,
     "status": "ok",
     "timestamp": 1632435239226,
     "user": {
      "displayName": "Олег Бондаренко",
      "photoUrl": "https://lh3.googleusercontent.com/a-/AOh14Gi-V32z88yEvtCojSHFKcRt4P6GaG7-G1IBoQ1kPUVgiojNPuSEipyrBg-Lm9Jihqv1Ux1Tm1eBTjhNLRt7sAUtpTGctuZGEG0wNCmGRegrmMm9XwE1_g4q9clcKgpMvCMlOYWeCetcvu8BWtpGC0eQxRzVDcfNBWL5K_RBJ_GfxSf4lVaPAaNpkqGJ9iIdRkNFYqxL6gxzONhMzjtdZKpfRxQ3ZeQ4-Y60cJchbXJZKA3DQzno_Nurz9h3Thm3sdlK6CFxocdNPWIHsLSrdmge1Cx4yqqeVy-YzOtR2aK5b58MbR3tx_uxma_vrP8HpkUWpsQ99aRcRfk6cvWF59f2I1TB5Wds917G6JrpnjA2gf5VIRoyTYAozkRE4yONfmw43U_zK9sbrzBWkk1cAlY2D6N_GqR_E9Y9AYLp_9isj7gFxI89sf9YE4Xu7YPPzn82_0Xk4ZKqtrYlVla48bNjGHYvaKsxnJ-Y8BjZjH4cEYNOmMmgYJBhZxWh-Kv5pbsA-FrzuWUH_QotOmkLbQiH4cpaxnuvjFeT7Ea-8QJtuwxX7oQ86suT-R7oGmh7JqcETFFbkR1RrlDynjixi8Zs5nwp3iOnni2pioCaChmOuGHPOaFef4xmcJTU79CKjFP-uYaH3RquhuM3NEmC7EoxjnehaN92B79NCxIlOaS80FOEuKo4j0pybPTLfgJGsUXK85ZzUmJ42V2R4AoSpepEyj2aQmuZWisXk-gHyEaC91Ez-I5MR2M_MgAsFcT9asyOjQ=s64",
      "userId": "16914417916602868801"
     },
     "user_tz": -180
    },
    "id": "HJUJcuNYt2YH",
    "outputId": "30949f6e-2fc8-4c85-cb3d-895d3362f86d"
   },
   "outputs": [
    {
     "name": "stdout",
     "output_type": "stream",
     "text": [
      "name: English     code: en       confidence:  99.0 read bytes:   940\n"
     ]
    }
   ],
   "source": [
    "#Language detection\n",
    "detector = Detector(sample_text)\n",
    "print(detector.language)"
   ]
  },
  {
   "cell_type": "markdown",
   "metadata": {
    "id": "3q2HrFKCuc3a"
   },
   "source": [
    "### Sentences and Words\n",
    "\n",
    "In order to extract the sentences or words from the text/corpus, we can use polyglot functions."
   ]
  },
  {
   "cell_type": "code",
   "execution_count": 6,
   "metadata": {
    "colab": {
     "base_uri": "https://localhost:8080/"
    },
    "executionInfo": {
     "elapsed": 237,
     "status": "ok",
     "timestamp": 1632435327170,
     "user": {
      "displayName": "Олег Бондаренко",
      "photoUrl": "https://lh3.googleusercontent.com/a-/AOh14Gi-V32z88yEvtCojSHFKcRt4P6GaG7-G1IBoQ1kPUVgiojNPuSEipyrBg-Lm9Jihqv1Ux1Tm1eBTjhNLRt7sAUtpTGctuZGEG0wNCmGRegrmMm9XwE1_g4q9clcKgpMvCMlOYWeCetcvu8BWtpGC0eQxRzVDcfNBWL5K_RBJ_GfxSf4lVaPAaNpkqGJ9iIdRkNFYqxL6gxzONhMzjtdZKpfRxQ3ZeQ4-Y60cJchbXJZKA3DQzno_Nurz9h3Thm3sdlK6CFxocdNPWIHsLSrdmge1Cx4yqqeVy-YzOtR2aK5b58MbR3tx_uxma_vrP8HpkUWpsQ99aRcRfk6cvWF59f2I1TB5Wds917G6JrpnjA2gf5VIRoyTYAozkRE4yONfmw43U_zK9sbrzBWkk1cAlY2D6N_GqR_E9Y9AYLp_9isj7gFxI89sf9YE4Xu7YPPzn82_0Xk4ZKqtrYlVla48bNjGHYvaKsxnJ-Y8BjZjH4cEYNOmMmgYJBhZxWh-Kv5pbsA-FrzuWUH_QotOmkLbQiH4cpaxnuvjFeT7Ea-8QJtuwxX7oQ86suT-R7oGmh7JqcETFFbkR1RrlDynjixi8Zs5nwp3iOnni2pioCaChmOuGHPOaFef4xmcJTU79CKjFP-uYaH3RquhuM3NEmC7EoxjnehaN92B79NCxIlOaS80FOEuKo4j0pybPTLfgJGsUXK85ZzUmJ42V2R4AoSpepEyj2aQmuZWisXk-gHyEaC91Ez-I5MR2M_MgAsFcT9asyOjQ=s64",
      "userId": "16914417916602868801"
     },
     "user_tz": -180
    },
    "id": "vZHY8039uPcb",
    "outputId": "b0453a5c-b644-46e4-cdd9-1548417bcf7d"
   },
   "outputs": [
    {
     "data": {
      "text/plain": [
       "WordList(['Piyush', 'is', 'an', 'Aspiring', 'Data', 'Scientist', 'and', 'is', 'working', 'hard', 'to', 'get', 'there', '.', 'He', 'stood', 'Kaggle', 'grandmaster', '4', 'year', 'consistently', '.', 'His', 'goal', 'is', 'to', 'work', 'for', 'Google', '.'])"
      ]
     },
     "execution_count": 6,
     "metadata": {},
     "output_type": "execute_result"
    }
   ],
   "source": [
    "#Tokenize\n",
    "text = Text(sample_text)\n",
    "text.words"
   ]
  },
  {
   "cell_type": "code",
   "execution_count": 7,
   "metadata": {
    "colab": {
     "base_uri": "https://localhost:8080/"
    },
    "executionInfo": {
     "elapsed": 239,
     "status": "ok",
     "timestamp": 1632435370174,
     "user": {
      "displayName": "Олег Бондаренко",
      "photoUrl": "https://lh3.googleusercontent.com/a-/AOh14Gi-V32z88yEvtCojSHFKcRt4P6GaG7-G1IBoQ1kPUVgiojNPuSEipyrBg-Lm9Jihqv1Ux1Tm1eBTjhNLRt7sAUtpTGctuZGEG0wNCmGRegrmMm9XwE1_g4q9clcKgpMvCMlOYWeCetcvu8BWtpGC0eQxRzVDcfNBWL5K_RBJ_GfxSf4lVaPAaNpkqGJ9iIdRkNFYqxL6gxzONhMzjtdZKpfRxQ3ZeQ4-Y60cJchbXJZKA3DQzno_Nurz9h3Thm3sdlK6CFxocdNPWIHsLSrdmge1Cx4yqqeVy-YzOtR2aK5b58MbR3tx_uxma_vrP8HpkUWpsQ99aRcRfk6cvWF59f2I1TB5Wds917G6JrpnjA2gf5VIRoyTYAozkRE4yONfmw43U_zK9sbrzBWkk1cAlY2D6N_GqR_E9Y9AYLp_9isj7gFxI89sf9YE4Xu7YPPzn82_0Xk4ZKqtrYlVla48bNjGHYvaKsxnJ-Y8BjZjH4cEYNOmMmgYJBhZxWh-Kv5pbsA-FrzuWUH_QotOmkLbQiH4cpaxnuvjFeT7Ea-8QJtuwxX7oQ86suT-R7oGmh7JqcETFFbkR1RrlDynjixi8Zs5nwp3iOnni2pioCaChmOuGHPOaFef4xmcJTU79CKjFP-uYaH3RquhuM3NEmC7EoxjnehaN92B79NCxIlOaS80FOEuKo4j0pybPTLfgJGsUXK85ZzUmJ42V2R4AoSpepEyj2aQmuZWisXk-gHyEaC91Ez-I5MR2M_MgAsFcT9asyOjQ=s64",
      "userId": "16914417916602868801"
     },
     "user_tz": -180
    },
    "id": "Je9_tS-xuk6J",
    "outputId": "454f9fda-53e6-4369-a0b4-eeefa8234340"
   },
   "outputs": [
    {
     "data": {
      "text/plain": [
       "[Sentence(\"Piyush is an Aspiring Data Scientist and is working hard to get there.\"),\n",
       " Sentence(\"He stood Kaggle grandmaster 4 year consistently.\"),\n",
       " Sentence(\"His goal is to work for Google.\")]"
      ]
     },
     "execution_count": 7,
     "metadata": {},
     "output_type": "execute_result"
    }
   ],
   "source": [
    "text.sentences"
   ]
  },
  {
   "cell_type": "markdown",
   "metadata": {
    "id": "JhV0s_A3u1od"
   },
   "source": [
    "### POS Tagging\n",
    "\n",
    "Part of speech tagging is an important NLP operation that helps us in understanding the text and their tagging."
   ]
  },
  {
   "cell_type": "code",
   "execution_count": 8,
   "metadata": {
    "colab": {
     "base_uri": "https://localhost:8080/"
    },
    "executionInfo": {
     "elapsed": 4587,
     "status": "ok",
     "timestamp": 1632435426253,
     "user": {
      "displayName": "Олег Бондаренко",
      "photoUrl": "https://lh3.googleusercontent.com/a-/AOh14Gi-V32z88yEvtCojSHFKcRt4P6GaG7-G1IBoQ1kPUVgiojNPuSEipyrBg-Lm9Jihqv1Ux1Tm1eBTjhNLRt7sAUtpTGctuZGEG0wNCmGRegrmMm9XwE1_g4q9clcKgpMvCMlOYWeCetcvu8BWtpGC0eQxRzVDcfNBWL5K_RBJ_GfxSf4lVaPAaNpkqGJ9iIdRkNFYqxL6gxzONhMzjtdZKpfRxQ3ZeQ4-Y60cJchbXJZKA3DQzno_Nurz9h3Thm3sdlK6CFxocdNPWIHsLSrdmge1Cx4yqqeVy-YzOtR2aK5b58MbR3tx_uxma_vrP8HpkUWpsQ99aRcRfk6cvWF59f2I1TB5Wds917G6JrpnjA2gf5VIRoyTYAozkRE4yONfmw43U_zK9sbrzBWkk1cAlY2D6N_GqR_E9Y9AYLp_9isj7gFxI89sf9YE4Xu7YPPzn82_0Xk4ZKqtrYlVla48bNjGHYvaKsxnJ-Y8BjZjH4cEYNOmMmgYJBhZxWh-Kv5pbsA-FrzuWUH_QotOmkLbQiH4cpaxnuvjFeT7Ea-8QJtuwxX7oQ86suT-R7oGmh7JqcETFFbkR1RrlDynjixi8Zs5nwp3iOnni2pioCaChmOuGHPOaFef4xmcJTU79CKjFP-uYaH3RquhuM3NEmC7EoxjnehaN92B79NCxIlOaS80FOEuKo4j0pybPTLfgJGsUXK85ZzUmJ42V2R4AoSpepEyj2aQmuZWisXk-gHyEaC91Ez-I5MR2M_MgAsFcT9asyOjQ=s64",
      "userId": "16914417916602868801"
     },
     "user_tz": -180
    },
    "id": "d2mtXJcVuvZc",
    "outputId": "cda7bccc-eb36-4010-b6df-8ede34fd217a"
   },
   "outputs": [
    {
     "data": {
      "text/plain": [
       "[('Piyush', 'NOUN'),\n",
       " ('is', 'VERB'),\n",
       " ('an', 'DET'),\n",
       " ('Aspiring', 'ADJ'),\n",
       " ('Data', 'PROPN'),\n",
       " ('Scientist', 'NOUN'),\n",
       " ('and', 'CONJ'),\n",
       " ('is', 'VERB'),\n",
       " ('working', 'VERB'),\n",
       " ('hard', 'ADJ'),\n",
       " ('to', 'PART'),\n",
       " ('get', 'VERB'),\n",
       " ('there', 'ADV'),\n",
       " ('.', 'PUNCT'),\n",
       " ('He', 'PRON'),\n",
       " ('stood', 'VERB'),\n",
       " ('Kaggle', 'NUM'),\n",
       " ('grandmaster', 'NOUN'),\n",
       " ('4', 'NUM'),\n",
       " ('year', 'NOUN'),\n",
       " ('consistently', 'ADV'),\n",
       " ('.', 'PUNCT'),\n",
       " ('His', 'PRON'),\n",
       " ('goal', 'NOUN'),\n",
       " ('is', 'VERB'),\n",
       " ('to', 'PART'),\n",
       " ('work', 'VERB'),\n",
       " ('for', 'ADP'),\n",
       " ('Google', 'NOUN'),\n",
       " ('.', 'PUNCT')]"
      ]
     },
     "execution_count": 8,
     "metadata": {},
     "output_type": "execute_result"
    }
   ],
   "source": [
    "#POS tagging\n",
    "text.pos_tags"
   ]
  },
  {
   "cell_type": "markdown",
   "metadata": {
    "id": "wPKpq3XUvIGv"
   },
   "source": [
    "### Named Entity Recognition\n",
    "\n",
    "NER is used to identify the person, organization, and location if any in the corpus/text dataset."
   ]
  },
  {
   "cell_type": "code",
   "execution_count": 9,
   "metadata": {
    "colab": {
     "base_uri": "https://localhost:8080/"
    },
    "executionInfo": {
     "elapsed": 4289,
     "status": "ok",
     "timestamp": 1632435502049,
     "user": {
      "displayName": "Олег Бондаренко",
      "photoUrl": "https://lh3.googleusercontent.com/a-/AOh14Gi-V32z88yEvtCojSHFKcRt4P6GaG7-G1IBoQ1kPUVgiojNPuSEipyrBg-Lm9Jihqv1Ux1Tm1eBTjhNLRt7sAUtpTGctuZGEG0wNCmGRegrmMm9XwE1_g4q9clcKgpMvCMlOYWeCetcvu8BWtpGC0eQxRzVDcfNBWL5K_RBJ_GfxSf4lVaPAaNpkqGJ9iIdRkNFYqxL6gxzONhMzjtdZKpfRxQ3ZeQ4-Y60cJchbXJZKA3DQzno_Nurz9h3Thm3sdlK6CFxocdNPWIHsLSrdmge1Cx4yqqeVy-YzOtR2aK5b58MbR3tx_uxma_vrP8HpkUWpsQ99aRcRfk6cvWF59f2I1TB5Wds917G6JrpnjA2gf5VIRoyTYAozkRE4yONfmw43U_zK9sbrzBWkk1cAlY2D6N_GqR_E9Y9AYLp_9isj7gFxI89sf9YE4Xu7YPPzn82_0Xk4ZKqtrYlVla48bNjGHYvaKsxnJ-Y8BjZjH4cEYNOmMmgYJBhZxWh-Kv5pbsA-FrzuWUH_QotOmkLbQiH4cpaxnuvjFeT7Ea-8QJtuwxX7oQ86suT-R7oGmh7JqcETFFbkR1RrlDynjixi8Zs5nwp3iOnni2pioCaChmOuGHPOaFef4xmcJTU79CKjFP-uYaH3RquhuM3NEmC7EoxjnehaN92B79NCxIlOaS80FOEuKo4j0pybPTLfgJGsUXK85ZzUmJ42V2R4AoSpepEyj2aQmuZWisXk-gHyEaC91Ez-I5MR2M_MgAsFcT9asyOjQ=s64",
      "userId": "16914417916602868801"
     },
     "user_tz": -180
    },
    "id": "VP2zrOYfu8CO",
    "outputId": "f05c6d47-5183-4fb5-80c6-3ed4c38eb5a9"
   },
   "outputs": [
    {
     "data": {
      "text/plain": [
       "[I-ORG(['Google'])]"
      ]
     },
     "execution_count": 9,
     "metadata": {},
     "output_type": "execute_result"
    }
   ],
   "source": [
    "#Named entity extraction\n",
    "text.entities"
   ]
  },
  {
   "cell_type": "markdown",
   "metadata": {
    "id": "CsrxLv63vVMa"
   },
   "source": [
    "### Morphological Analysis"
   ]
  },
  {
   "cell_type": "code",
   "execution_count": 10,
   "metadata": {
    "colab": {
     "base_uri": "https://localhost:8080/"
    },
    "executionInfo": {
     "elapsed": 211,
     "status": "ok",
     "timestamp": 1632435581578,
     "user": {
      "displayName": "Олег Бондаренко",
      "photoUrl": "https://lh3.googleusercontent.com/a-/AOh14Gi-V32z88yEvtCojSHFKcRt4P6GaG7-G1IBoQ1kPUVgiojNPuSEipyrBg-Lm9Jihqv1Ux1Tm1eBTjhNLRt7sAUtpTGctuZGEG0wNCmGRegrmMm9XwE1_g4q9clcKgpMvCMlOYWeCetcvu8BWtpGC0eQxRzVDcfNBWL5K_RBJ_GfxSf4lVaPAaNpkqGJ9iIdRkNFYqxL6gxzONhMzjtdZKpfRxQ3ZeQ4-Y60cJchbXJZKA3DQzno_Nurz9h3Thm3sdlK6CFxocdNPWIHsLSrdmge1Cx4yqqeVy-YzOtR2aK5b58MbR3tx_uxma_vrP8HpkUWpsQ99aRcRfk6cvWF59f2I1TB5Wds917G6JrpnjA2gf5VIRoyTYAozkRE4yONfmw43U_zK9sbrzBWkk1cAlY2D6N_GqR_E9Y9AYLp_9isj7gFxI89sf9YE4Xu7YPPzn82_0Xk4ZKqtrYlVla48bNjGHYvaKsxnJ-Y8BjZjH4cEYNOmMmgYJBhZxWh-Kv5pbsA-FrzuWUH_QotOmkLbQiH4cpaxnuvjFeT7Ea-8QJtuwxX7oQ86suT-R7oGmh7JqcETFFbkR1RrlDynjixi8Zs5nwp3iOnni2pioCaChmOuGHPOaFef4xmcJTU79CKjFP-uYaH3RquhuM3NEmC7EoxjnehaN92B79NCxIlOaS80FOEuKo4j0pybPTLfgJGsUXK85ZzUmJ42V2R4AoSpepEyj2aQmuZWisXk-gHyEaC91Ez-I5MR2M_MgAsFcT9asyOjQ=s64",
      "userId": "16914417916602868801"
     },
     "user_tz": -180
    },
    "id": "J3zXBvXmvOnU",
    "outputId": "a72b2e36-1b55-4a6b-8548-d767e3c4b221"
   },
   "outputs": [
    {
     "name": "stdout",
     "output_type": "stream",
     "text": [
      "programming ['program', 'ming']\n",
      "parallel ['parallel']\n",
      "inevitable ['ine', 'vi', 'table']\n",
      "handsome ['hand', 'some']\n"
     ]
    }
   ],
   "source": [
    "#Morphological Analysis\n",
    "words = [\"programming\", \"parallel\", \"inevitable\", \"handsome\"]\n",
    "for w in words:\n",
    "     w = Word(w, language=\"en\")\n",
    "     print(w, w.morphemes)"
   ]
  },
  {
   "cell_type": "markdown",
   "metadata": {
    "id": "jQdXQnXIvsfS"
   },
   "source": [
    " ### Sentiment Analysis\n",
    "\n",
    "We can analyze the sentiment of a sentence."
   ]
  },
  {
   "cell_type": "code",
   "execution_count": 11,
   "metadata": {
    "colab": {
     "base_uri": "https://localhost:8080/"
    },
    "executionInfo": {
     "elapsed": 230,
     "status": "ok",
     "timestamp": 1632435642764,
     "user": {
      "displayName": "Олег Бондаренко",
      "photoUrl": "https://lh3.googleusercontent.com/a-/AOh14Gi-V32z88yEvtCojSHFKcRt4P6GaG7-G1IBoQ1kPUVgiojNPuSEipyrBg-Lm9Jihqv1Ux1Tm1eBTjhNLRt7sAUtpTGctuZGEG0wNCmGRegrmMm9XwE1_g4q9clcKgpMvCMlOYWeCetcvu8BWtpGC0eQxRzVDcfNBWL5K_RBJ_GfxSf4lVaPAaNpkqGJ9iIdRkNFYqxL6gxzONhMzjtdZKpfRxQ3ZeQ4-Y60cJchbXJZKA3DQzno_Nurz9h3Thm3sdlK6CFxocdNPWIHsLSrdmge1Cx4yqqeVy-YzOtR2aK5b58MbR3tx_uxma_vrP8HpkUWpsQ99aRcRfk6cvWF59f2I1TB5Wds917G6JrpnjA2gf5VIRoyTYAozkRE4yONfmw43U_zK9sbrzBWkk1cAlY2D6N_GqR_E9Y9AYLp_9isj7gFxI89sf9YE4Xu7YPPzn82_0Xk4ZKqtrYlVla48bNjGHYvaKsxnJ-Y8BjZjH4cEYNOmMmgYJBhZxWh-Kv5pbsA-FrzuWUH_QotOmkLbQiH4cpaxnuvjFeT7Ea-8QJtuwxX7oQ86suT-R7oGmh7JqcETFFbkR1RrlDynjixi8Zs5nwp3iOnni2pioCaChmOuGHPOaFef4xmcJTU79CKjFP-uYaH3RquhuM3NEmC7EoxjnehaN92B79NCxIlOaS80FOEuKo4j0pybPTLfgJGsUXK85ZzUmJ42V2R4AoSpepEyj2aQmuZWisXk-gHyEaC91Ez-I5MR2M_MgAsFcT9asyOjQ=s64",
      "userId": "16914417916602868801"
     },
     "user_tz": -180
    },
    "id": "3IgGc_bvvjBq",
    "outputId": "3d67b5fa-a460-4d19-811d-44e47c4ea4b8"
   },
   "outputs": [
    {
     "name": "stdout",
     "output_type": "stream",
     "text": [
      "Himanshu 0\n",
      "is 0\n",
      "a 0\n",
      "good 1\n",
      "programmer 0\n",
      ". 0\n"
     ]
    }
   ],
   "source": [
    "#Sentiment analysis\n",
    "text = Text(\"Himanshu is a good programmer.\")\n",
    "for w in text.words:\n",
    "   print(w, w.polarity)"
   ]
  },
  {
   "cell_type": "markdown",
   "metadata": {
    "id": "jugEwY_1wAH-"
   },
   "source": [
    "### Transliteration\n",
    "\n",
    "We can transliterate text into different languages."
   ]
  },
  {
   "cell_type": "code",
   "execution_count": 18,
   "metadata": {
    "colab": {
     "base_uri": "https://localhost:8080/",
     "height": 35
    },
    "executionInfo": {
     "elapsed": 218,
     "status": "ok",
     "timestamp": 1632435999090,
     "user": {
      "displayName": "Олег Бондаренко",
      "photoUrl": "https://lh3.googleusercontent.com/a-/AOh14Gi-V32z88yEvtCojSHFKcRt4P6GaG7-G1IBoQ1kPUVgiojNPuSEipyrBg-Lm9Jihqv1Ux1Tm1eBTjhNLRt7sAUtpTGctuZGEG0wNCmGRegrmMm9XwE1_g4q9clcKgpMvCMlOYWeCetcvu8BWtpGC0eQxRzVDcfNBWL5K_RBJ_GfxSf4lVaPAaNpkqGJ9iIdRkNFYqxL6gxzONhMzjtdZKpfRxQ3ZeQ4-Y60cJchbXJZKA3DQzno_Nurz9h3Thm3sdlK6CFxocdNPWIHsLSrdmge1Cx4yqqeVy-YzOtR2aK5b58MbR3tx_uxma_vrP8HpkUWpsQ99aRcRfk6cvWF59f2I1TB5Wds917G6JrpnjA2gf5VIRoyTYAozkRE4yONfmw43U_zK9sbrzBWkk1cAlY2D6N_GqR_E9Y9AYLp_9isj7gFxI89sf9YE4Xu7YPPzn82_0Xk4ZKqtrYlVla48bNjGHYvaKsxnJ-Y8BjZjH4cEYNOmMmgYJBhZxWh-Kv5pbsA-FrzuWUH_QotOmkLbQiH4cpaxnuvjFeT7Ea-8QJtuwxX7oQ86suT-R7oGmh7JqcETFFbkR1RrlDynjixi8Zs5nwp3iOnni2pioCaChmOuGHPOaFef4xmcJTU79CKjFP-uYaH3RquhuM3NEmC7EoxjnehaN92B79NCxIlOaS80FOEuKo4j0pybPTLfgJGsUXK85ZzUmJ42V2R4AoSpepEyj2aQmuZWisXk-gHyEaC91Ez-I5MR2M_MgAsFcT9asyOjQ=s64",
      "userId": "16914417916602868801"
     },
     "user_tz": -180
    },
    "id": "8-uCtR3Nvx9H",
    "outputId": "8b6f2c33-be86-4663-a3ad-4b7efc826cba"
   },
   "outputs": [
    {
     "data": {
      "application/vnd.google.colaboratory.intrinsic+json": {
       "type": "string"
      },
      "text/plain": [
       "' vsim privit i do pobachenna '"
      ]
     },
     "execution_count": 18,
     "metadata": {},
     "output_type": "execute_result"
    }
   ],
   "source": [
    "#Transliteration\n",
    "transliterator = Transliterator(source_lang=\"uk\", target_lang=\"en\")\n",
    "new_text = \"\"\n",
    "for i in \"Всім привіт і до побачення !\".split():\n",
    "  new_text = new_text + \" \" + transliterator.transliterate(i)\n",
    "new_text"
   ]
  },
  {
   "cell_type": "code",
   "execution_count": null,
   "metadata": {
    "id": "ugDlwZ-HwGHd"
   },
   "outputs": [],
   "source": []
  }
 ],
 "metadata": {
  "colab": {
   "authorship_tag": "ABX9TyMgAkWFhjLq1ZHHFOnbXozB",
   "name": "polyglot.ipynb",
   "provenance": []
  },
  "kernelspec": {
   "display_name": "Python 3",
   "language": "python",
   "name": "python3"
  },
  "language_info": {
   "codemirror_mode": {
    "name": "ipython",
    "version": 3
   },
   "file_extension": ".py",
   "mimetype": "text/x-python",
   "name": "python",
   "nbconvert_exporter": "python",
   "pygments_lexer": "ipython3",
   "version": "3.9.6"
  }
 },
 "nbformat": 4,
 "nbformat_minor": 1
}
