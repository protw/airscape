{
 "cells": [
  {
   "cell_type": "markdown",
   "id": "9fffc47a",
   "metadata": {},
   "source": [
    "# Аналіз твітів з допомогою *Twint*\n",
    "\n",
    "## Вступ\n",
    "\n",
    "[Twint](https://github.com/twintproject/twint) - це вдосконалений інструмент для збирання твітів (скорочення від *Twitter Intelligence Tool*). Цей пакет побудований на *Python* і збирає дані твітів з веб-сторінки (так званий *scraping*) замість того, щоб збирати їх через *API Twitter*, як-от це робить *tweepy*.\n",
    "\n",
    "## Середовище\n",
    "\n",
    "Для початку рекомендовано організувати окреме середовище для роботи, налаштувань і залежностей (*dependencies*). Для цього ви маєте ознайомитись з інструментом [Anaconda](https://www.anaconda.com/). \n",
    "\n",
    "Після встановлення *Anaconda* створімо окреме середовище *twitter* для збирання і обробки твітів:\n",
    "```\n",
    "conda create --name twitter python=3.9\n",
    "```\n",
    "Одразу активуємо середовище *twitter*:\n",
    "```\n",
    "conda activate twitter\n",
    "```\n",
    "А також встановимо інструмент для роботи з кодом *spyder* або, як у нашому випадку, *jupyter notebook*:\n",
    "```\n",
    "conda install -c conda-forge jupyterlab\n",
    "```\n",
    "\n",
    "## Встановлення *twint*\n",
    "\n",
    "Деякі публікації замість встановлення *twint* з допомогою стандартного інструменту керування пакетами в *python* - *pip* рекомендують натомість встановлення безпосередньо з *git* репозитарія:\n",
    "```\n",
    "git clone https://github.com/twintproject/twint.git\n",
    "cd twint\n",
    "pip3 install . -r requirements.txt\n",
    "```\n",
    "\n",
    "## Почнімо\n",
    "\n",
    "Окрім програмного API (*Application Programming Interface*) *twint* має дуже розлогий [інтерфейс командного рядка](https://github.com/twintproject/twint/wiki/Basic-usage). \n",
    "\n",
    "Отже спробуємо зібрати твіти відомої публічної особи, наприклад, Президента України пана Зеленського [@ZelenskyyUa](https://twitter.com/ZelenskyyUa).\n",
    "\n",
    "Для цього підготуємо параметри запиту:"
   ]
  },
  {
   "cell_type": "code",
   "execution_count": null,
   "id": "517e7bc8",
   "metadata": {},
   "outputs": [],
   "source": [
    "#### SET TWINT QUERY PARAMETERS\n",
    "\n",
    "def twint_query_pars():\n",
    "    tw = {}\n",
    "    tw['user'] = 'ZelenskyyUa'\n",
    "    tw['output_type'] = 'csv'\n",
    "    tw['output_name'] = 'twint_zelenski.csv'\n",
    "    tw['since'] = '2019-04-01'\n",
    "    return tw\n",
    "\n",
    "tw = twint_query_pars()"
   ]
  },
  {
   "cell_type": "markdown",
   "id": "108c6c08",
   "metadata": {},
   "source": [
    "## Запит з командного рядка\n",
    "\n",
    "Спочатку зчитаємо твіти цього користувача скориставшись інтерфейсом командного рядка. Перед запуском розкоментуйте останній рядок у фрагменті коду нижче. "
   ]
  },
  {
   "cell_type": "code",
   "execution_count": null,
   "id": "3cfa9f29",
   "metadata": {},
   "outputs": [],
   "source": [
    "#### RUN QUERY VIA CLI\n",
    "\n",
    "import os\n",
    "\n",
    "def twint_cli(tw):\n",
    "\n",
    "    #!twint -u ZelenskyyUa --since 2019-04-01 -o twint_zelenski.csv --csv\n",
    "    tw_run_str = 'twint' + \\\n",
    "                 ' -u '  + tw['user'] + \\\n",
    "                 ' --'   + tw['output_type'] + \\\n",
    "                 ' -o '  + tw['output_name']\n",
    "    return tw_run_str\n",
    "\n",
    "tw_run_str = twint_cli(tw)\n",
    "#os.system(tw_run_str) # uncomment if necessary"
   ]
  },
  {
   "cell_type": "markdown",
   "id": "7e3ef69f",
   "metadata": {},
   "source": [
    "## Запит через API\n",
    "\n",
    "Тепер проведемо той же запит через API. Перед запуском розкоментуйте останній рядок у фрагменті коду нижче."
   ]
  },
  {
   "cell_type": "code",
   "execution_count": null,
   "id": "18da6f98",
   "metadata": {},
   "outputs": [],
   "source": [
    "#### RUN QUERY VIA API\n",
    "\n",
    "import twint\n",
    "import nest_asyncio\n",
    "nest_asyncio.apply()\n",
    "\n",
    "def twint_api(tw):\n",
    "    c = twint.Config()\n",
    "\n",
    "    c.Username = tw['user']\n",
    "    c.Store_csv = (tw['output_type'] == 'csv')\n",
    "    c.Output = tw['output_name']\n",
    "\n",
    "    twint.run.Search(c)\n",
    "\n",
    "    tweets = twint.output.tweets_list\n",
    "    len(tweets)\n",
    "    return\n",
    "\n",
    "#twint_api() # uncomment if necessary"
   ]
  },
  {
   "cell_type": "markdown",
   "id": "07318793",
   "metadata": {},
   "source": [
    "## Щось пішло не так\n",
    "\n",
    "Щось пішло не так - всього отримав 7 твітів. Це явно і набагато менше, ніж можна побачити на Твіттері. Варіації параметрів, запуск з командного рядка не дали змін. \n",
    "\n",
    "Занурення у форуми через пошук за запитом `[!] No more data! Scraping will stop now. found 0 deleted tweets in this search.` вивели на [таке рішення](https://github.com/twintproject/twint/issues/1253#issuecomment-913055717), в якому рекомендовано найти в коді встановленого пакету *twint* файл *url.py* і зняти коментар (#) з 92 рядка, що має такий вигляд:\n",
    "```\n",
    "# ('query_source', 'typed_query'),\n",
    "```\n",
    "Для початку довелось пошукати повний шлях до розташування пакету *twint* і файлу *url.py* в ньому. Для Windows 10 цей шлях виявився таким:\n",
    "```\n",
    "C:\\Users\\<my_winows_user_name>\\miniconda3\\envs\\airscape\\Lib\\site-packages\\twint\\\n",
    "```\n",
    "У цьому шляху токен `<my_winows_user_name>` означає ваше користувацьке ім'я в операційній системі Windows 10 на вашому комп'ютері. І дійсно у цьому файлі у зазначеному рядку розташований саме цей фрагмент коду. Розкоментуємо і подивимось.\n",
    "\n",
    "Вуаля! Десь за пів хвилини отримано 1357 твітів за період з 25.04.2019 до 07.10.2021! Саме квітень 2019 року зазначено як місяць реєстрації цієї обліковки у Твіттері."
   ]
  },
  {
   "cell_type": "markdown",
   "id": "ffdddee0",
   "metadata": {},
   "source": [
    "## Перегляд зібраних даних\n",
    "\n",
    "Прочитаємо зібрані дані та заодно видалимо порожні колонки:"
   ]
  },
  {
   "cell_type": "code",
   "execution_count": null,
   "id": "39334423",
   "metadata": {},
   "outputs": [],
   "source": [
    "#### TWINT QUERY RESULT PROCESSING\n",
    "\n",
    "import pandas as pd\n",
    "\n",
    "twint_df = pd.read_csv(tw['output_name'], sep='\\t')\n",
    "\n",
    "def del_empty_columns(df):\n",
    "    df_desc = df.describe().transpose()\n",
    "    cols_del = df_desc.index.values[df_desc['count'] == 0]\n",
    "    return df.drop(columns=cols_del, inplace=False)\n",
    "\n",
    "twint_df = del_empty_columns(twint_df)\n"
   ]
  }
 ],
 "metadata": {
  "kernelspec": {
   "display_name": "Python 3",
   "language": "python",
   "name": "python3"
  },
  "language_info": {
   "codemirror_mode": {
    "name": "ipython",
    "version": 3
   },
   "file_extension": ".py",
   "mimetype": "text/x-python",
   "name": "python",
   "nbconvert_exporter": "python",
   "pygments_lexer": "ipython3",
   "version": "3.8.5"
  }
 },
 "nbformat": 4,
 "nbformat_minor": 5
}
